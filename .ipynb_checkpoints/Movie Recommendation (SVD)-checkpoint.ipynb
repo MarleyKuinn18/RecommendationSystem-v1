{
 "cells": [
  {
   "cell_type": "code",
   "execution_count": 56,
   "metadata": {},
   "outputs": [],
   "source": [
    "import pandas as pd\n",
    "import numpy as np\n",
    "import math\n",
    "import copy\n",
    "from sklearn.metrics import *\n",
    "from surprise import Dataset\n",
    "from surprise.model_selection import cross_validate"
   ]
  },
  {
   "cell_type": "markdown",
   "metadata": {},
   "source": [
    "<h1> Get Dataset </h1>"
   ]
  },
  {
   "cell_type": "code",
   "execution_count": 3,
   "metadata": {
    "scrolled": true
   },
   "outputs": [],
   "source": [
    "data = Dataset.load_builtin('ml-100k')"
   ]
  },
  {
   "cell_type": "code",
   "execution_count": 4,
   "metadata": {},
   "outputs": [
    {
     "name": "stdout",
     "output_type": "stream",
     "text": [
      "c:\\Users\\VAIBHAV\\.surprise_data\\ml-100k\n"
     ]
    }
   ],
   "source": [
    "cd c:/Users/VAIBHAV/.surprise_data/ml-100k"
   ]
  },
  {
   "cell_type": "code",
   "execution_count": 5,
   "metadata": {},
   "outputs": [
    {
     "name": "stdout",
     "output_type": "stream",
     "text": [
      "(100000, 3)\n"
     ]
    },
    {
     "data": {
      "text/html": [
       "<div>\n",
       "<style scoped>\n",
       "    .dataframe tbody tr th:only-of-type {\n",
       "        vertical-align: middle;\n",
       "    }\n",
       "\n",
       "    .dataframe tbody tr th {\n",
       "        vertical-align: top;\n",
       "    }\n",
       "\n",
       "    .dataframe thead th {\n",
       "        text-align: right;\n",
       "    }\n",
       "</style>\n",
       "<table border=\"1\" class=\"dataframe\">\n",
       "  <thead>\n",
       "    <tr style=\"text-align: right;\">\n",
       "      <th></th>\n",
       "      <th>user_id</th>\n",
       "      <th>movie_id</th>\n",
       "      <th>rating</th>\n",
       "    </tr>\n",
       "  </thead>\n",
       "  <tbody>\n",
       "    <tr>\n",
       "      <th>0</th>\n",
       "      <td>196</td>\n",
       "      <td>242</td>\n",
       "      <td>3</td>\n",
       "    </tr>\n",
       "    <tr>\n",
       "      <th>1</th>\n",
       "      <td>186</td>\n",
       "      <td>302</td>\n",
       "      <td>3</td>\n",
       "    </tr>\n",
       "    <tr>\n",
       "      <th>2</th>\n",
       "      <td>22</td>\n",
       "      <td>377</td>\n",
       "      <td>1</td>\n",
       "    </tr>\n",
       "    <tr>\n",
       "      <th>3</th>\n",
       "      <td>244</td>\n",
       "      <td>51</td>\n",
       "      <td>2</td>\n",
       "    </tr>\n",
       "    <tr>\n",
       "      <th>4</th>\n",
       "      <td>166</td>\n",
       "      <td>346</td>\n",
       "      <td>1</td>\n",
       "    </tr>\n",
       "  </tbody>\n",
       "</table>\n",
       "</div>"
      ],
      "text/plain": [
       "   user_id  movie_id  rating\n",
       "0      196       242       3\n",
       "1      186       302       3\n",
       "2       22       377       1\n",
       "3      244        51       2\n",
       "4      166       346       1"
      ]
     },
     "execution_count": 5,
     "metadata": {},
     "output_type": "execute_result"
    }
   ],
   "source": [
    "data = pd.read_csv('ml-100k/u.data', sep=\"\\t\", header = None, \n",
    "            usecols = [0,1,2],\n",
    "            names = ['user_id', 'movie_id', 'rating'])\n",
    "\n",
    "print(data.shape)\n",
    "data.head()"
   ]
  },
  {
   "cell_type": "code",
   "execution_count": 6,
   "metadata": {},
   "outputs": [
    {
     "name": "stdout",
     "output_type": "stream",
     "text": [
      "(1682, 2)\n"
     ]
    },
    {
     "data": {
      "text/html": [
       "<div>\n",
       "<style scoped>\n",
       "    .dataframe tbody tr th:only-of-type {\n",
       "        vertical-align: middle;\n",
       "    }\n",
       "\n",
       "    .dataframe tbody tr th {\n",
       "        vertical-align: top;\n",
       "    }\n",
       "\n",
       "    .dataframe thead th {\n",
       "        text-align: right;\n",
       "    }\n",
       "</style>\n",
       "<table border=\"1\" class=\"dataframe\">\n",
       "  <thead>\n",
       "    <tr style=\"text-align: right;\">\n",
       "      <th></th>\n",
       "      <th>movie_id</th>\n",
       "      <th>movie_name</th>\n",
       "    </tr>\n",
       "  </thead>\n",
       "  <tbody>\n",
       "    <tr>\n",
       "      <th>0</th>\n",
       "      <td>1</td>\n",
       "      <td>Toy Story (1995)</td>\n",
       "    </tr>\n",
       "    <tr>\n",
       "      <th>1</th>\n",
       "      <td>2</td>\n",
       "      <td>GoldenEye (1995)</td>\n",
       "    </tr>\n",
       "    <tr>\n",
       "      <th>2</th>\n",
       "      <td>3</td>\n",
       "      <td>Four Rooms (1995)</td>\n",
       "    </tr>\n",
       "    <tr>\n",
       "      <th>3</th>\n",
       "      <td>4</td>\n",
       "      <td>Get Shorty (1995)</td>\n",
       "    </tr>\n",
       "    <tr>\n",
       "      <th>4</th>\n",
       "      <td>5</td>\n",
       "      <td>Copycat (1995)</td>\n",
       "    </tr>\n",
       "  </tbody>\n",
       "</table>\n",
       "</div>"
      ],
      "text/plain": [
       "   movie_id         movie_name\n",
       "0         1   Toy Story (1995)\n",
       "1         2   GoldenEye (1995)\n",
       "2         3  Four Rooms (1995)\n",
       "3         4  Get Shorty (1995)\n",
       "4         5     Copycat (1995)"
      ]
     },
     "execution_count": 6,
     "metadata": {},
     "output_type": "execute_result"
    }
   ],
   "source": [
    "movies = pd.read_csv('ml-100k/u.item', sep=\"|\", header = None, \n",
    "                     usecols = [0,1],\n",
    "                     names = ['movie_id', 'movie_name'])\n",
    "print(movies.shape)\n",
    "movies.head()"
   ]
  },
  {
   "cell_type": "code",
   "execution_count": 68,
   "metadata": {},
   "outputs": [
    {
     "name": "stdout",
     "output_type": "stream",
     "text": [
      "movie_id  1     2     3     4     5     6     7     8     9     10    ...  \\\n",
      "user_id                                                               ...   \n",
      "1          5.0   3.0   4.0   3.0   3.0   5.0   4.0   1.0   5.0   3.0  ...   \n",
      "2          4.0   0.0   0.0   0.0   0.0   0.0   0.0   0.0   0.0   2.0  ...   \n",
      "3          0.0   0.0   0.0   0.0   0.0   0.0   0.0   0.0   0.0   0.0  ...   \n",
      "4          0.0   0.0   0.0   0.0   0.0   0.0   0.0   0.0   0.0   0.0  ...   \n",
      "5          4.0   3.0   0.0   0.0   0.0   0.0   0.0   0.0   0.0   0.0  ...   \n",
      "\n",
      "movie_id  1673  1674  1675  1676  1677  1678  1679  1680  1681  1682  \n",
      "user_id                                                               \n",
      "1          0.0   0.0   0.0   0.0   0.0   0.0   0.0   0.0   0.0   0.0  \n",
      "2          0.0   0.0   0.0   0.0   0.0   0.0   0.0   0.0   0.0   0.0  \n",
      "3          0.0   0.0   0.0   0.0   0.0   0.0   0.0   0.0   0.0   0.0  \n",
      "4          0.0   0.0   0.0   0.0   0.0   0.0   0.0   0.0   0.0   0.0  \n",
      "5          0.0   0.0   0.0   0.0   0.0   0.0   0.0   0.0   0.0   0.0  \n",
      "\n",
      "[5 rows x 1682 columns]\n"
     ]
    }
   ],
   "source": [
    "movie_ratings = data.pivot(\n",
    "    index='user_id',\n",
    "    columns='movie_id',\n",
    "    values='rating'\n",
    ").fillna(0)\n",
    "# raw_mean = np.nanmean(movie_ratings.values)\n",
    "\n",
    "# # count number of non-NA values in each row\n",
    "# row_valid = movie_ratings.count(axis=1)\n",
    "\n",
    "# # count number of non-NA values in each col\n",
    "# col_valid = movie_ratings.count(axis=0)\n",
    "\n",
    "# user_biases = np.nanmean(movie_ratings.values-raw_mean, axis=1)/row_valid\n",
    "# item_biases = np.nanmean(movie_ratings.values-raw_mean, axis=0)/col_valid\n",
    "\n",
    "# nr = len(movie_ratings.index)\n",
    "# nc = len(movie_ratings.columns)\n",
    "# new_matrix = copy.deepcopy(movie_ratings)\n",
    "# # new_matrix.fillna(raw_mean + user_biases + item_biases, inplace=True)\n",
    "# for i in range(nr) :\n",
    "#     for j in range(nc) :\n",
    "#         if math.isnan(movie_ratings.iloc[i+1][j+1]) :\n",
    "#             new_matrix.at[i+1,j+1] = raw_mean \n",
    "print(movie_ratings.head())\n",
    "# print(new_matrix.head())"
   ]
  },
  {
   "cell_type": "code",
   "execution_count": 8,
   "metadata": {
    "scrolled": true
   },
   "outputs": [
    {
     "name": "stdout",
     "output_type": "stream",
     "text": [
      "[[5. 3. 4. ... 0. 0. 0.]\n",
      " [4. 0. 0. ... 0. 0. 0.]\n",
      " [0. 0. 0. ... 0. 0. 0.]\n",
      " ...\n",
      " [5. 0. 0. ... 0. 0. 0.]\n",
      " [0. 0. 0. ... 0. 0. 0.]\n",
      " [0. 5. 0. ... 0. 0. 0.]]\n",
      "[4. 2. 4. 4. 3. 4. 5. 5. 4. 5. 4. 5. 5. 4. 4. 3. 4. 5. 4. 3. 5. 4. 4. 3.\n",
      " 4. 3. 3. 4. 5. 4. 5. 4. 3. 3. 3. 3. 3. 4. 4. 1. 4. 3. 4. 3. 4. 4. 4. 5.\n",
      " 4. 4. 3. 4. 3. 3. 1. 4. 5. 3. 5. 1. 1. 5.]\n"
     ]
    }
   ],
   "source": [
    "R = movie_ratings.values\n",
    "print(R)\n",
    "boolArr = (R[1] != 0)\n",
    "print(R[1][boolArr])"
   ]
  },
  {
   "cell_type": "markdown",
   "metadata": {},
   "source": [
    "<h1> SVDS </h1>"
   ]
  },
  {
   "cell_type": "code",
   "execution_count": 9,
   "metadata": {},
   "outputs": [],
   "source": [
    "from scipy.sparse.linalg import svds\n",
    "U, sigma, Vt = svds(R, k = 50)"
   ]
  },
  {
   "cell_type": "code",
   "execution_count": 10,
   "metadata": {},
   "outputs": [],
   "source": [
    "sigma = np.diag(sigma)"
   ]
  },
  {
   "cell_type": "code",
   "execution_count": 11,
   "metadata": {},
   "outputs": [],
   "source": [
    "all_user_predicted_ratings = np.dot(np.dot(U, sigma), Vt) "
   ]
  },
  {
   "cell_type": "code",
   "execution_count": 12,
   "metadata": {
    "scrolled": true
   },
   "outputs": [
    {
     "name": "stdout",
     "output_type": "stream",
     "text": [
      "[[ 6.44838854e+00  2.95045020e+00  1.62598149e+00 ... -4.40875253e-03\n",
      "   7.97805823e-03  5.36655280e-02]\n",
      " [ 2.33427841e+00  1.15585625e-01 -1.01177576e-01 ...  6.23701750e-03\n",
      "   3.03678476e-02 -2.80431016e-02]\n",
      " [ 3.27603425e-01 -2.73722127e-01 -1.43939143e-01 ...  3.08582703e-02\n",
      "   6.64717634e-03  2.02154921e-03]\n",
      " ...\n",
      " [ 3.09693646e+00 -4.04433484e-02  5.42197828e-01 ... -2.03503842e-03\n",
      "  -4.12365264e-03 -1.31629574e-02]\n",
      " [ 9.54203280e-01  5.99508248e-01  4.84349206e-01 ...  1.18627050e-02\n",
      "   1.97773478e-02  2.09692603e-03]\n",
      " [ 1.41502259e+00  2.85803399e+00  1.78005861e+00 ... -1.73804392e-02\n",
      "   1.16284009e-02  4.63633730e-02]]\n"
     ]
    },
    {
     "data": {
      "text/plain": [
       "numpy.ndarray"
      ]
     },
     "execution_count": 12,
     "metadata": {},
     "output_type": "execute_result"
    }
   ],
   "source": [
    "#preds_df = pd.DataFrame(all_user_predicted_ratings, columns = movie_ratings.columns)\n",
    "#preds_df.head()\n",
    "print(all_user_predicted_ratings)\n",
    "type(all_user_predicted_ratings)"
   ]
  },
  {
   "cell_type": "code",
   "execution_count": 13,
   "metadata": {},
   "outputs": [],
   "source": [
    "def recommend_movies(predictions, user_index, movies, org_matrix, num_recommendations=5):\n",
    "    \n",
    "    sorted_movies = (-predictions[user_index]).argsort()\n",
    "    \n",
    "    boolArr = (org_matrix[user_index] == 0)\n",
    "    \n",
    "    unknown_sorted_movies = [x for x in sorted_movies if boolArr[x]]\n",
    "    \n",
    "    #print(unknown_sorted_movies)\n",
    "    \n",
    "    recommendations = [movies[x] for x in unknown_sorted_movies][:num_recommendations]               \n",
    "\n",
    "    return recommendations"
   ]
  },
  {
   "cell_type": "code",
   "execution_count": 14,
   "metadata": {},
   "outputs": [
    {
     "data": {
      "text/plain": [
       "[array([161, 'Top Gun (1986)'], dtype=object),\n",
       " array([226, 'Die Hard 2 (1990)'], dtype=object),\n",
       " array([265, 'Hunt for Red October, The (1990)'], dtype=object),\n",
       " array([230, 'Star Trek IV: The Voyage Home (1986)'], dtype=object),\n",
       " array([62, 'Stargate (1994)'], dtype=object),\n",
       " array([4, 'Get Shorty (1995)'], dtype=object),\n",
       " array([68, 'Crow, The (1994)'], dtype=object)]"
      ]
     },
     "execution_count": 14,
     "metadata": {},
     "output_type": "execute_result"
    }
   ],
   "source": [
    "top_7_movies = recommend_movies(all_user_predicted_ratings, 7, movies.values, R, 7)\n",
    "top_7_movies"
   ]
  },
  {
   "cell_type": "code",
   "execution_count": 43,
   "metadata": {},
   "outputs": [
    {
     "name": "stdout",
     "output_type": "stream",
     "text": [
      "float64\n",
      "float64\n",
      "float64\n",
      "0.40237612606551304\n"
     ]
    }
   ],
   "source": [
    "from sklearn.metrics import mean_squared_error\n",
    "mask = (R>0)\n",
    "mask = mask*1.0\n",
    "R.astype(float)\n",
    "print(weights.dtype)\n",
    "print(R.dtype)\n",
    "print(all_user_predicted_ratings.dtype)\n",
    "rmse = mean_squared_error(R, np.multiply(all_user_predicted_ratings, mask), squared=False)\n",
    "print(rmse)"
   ]
  }
 ],
 "metadata": {
  "kernelspec": {
   "display_name": "Python 3",
   "language": "python",
   "name": "python3"
  },
  "language_info": {
   "codemirror_mode": {
    "name": "ipython",
    "version": 3
   },
   "file_extension": ".py",
   "mimetype": "text/x-python",
   "name": "python",
   "nbconvert_exporter": "python",
   "pygments_lexer": "ipython3",
   "version": "3.7.3"
  }
 },
 "nbformat": 4,
 "nbformat_minor": 4
}
