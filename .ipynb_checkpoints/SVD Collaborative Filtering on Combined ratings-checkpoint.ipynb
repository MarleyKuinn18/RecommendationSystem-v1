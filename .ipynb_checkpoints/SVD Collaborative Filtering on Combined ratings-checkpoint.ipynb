{
 "cells": [
  {
   "cell_type": "code",
   "execution_count": 1,
   "metadata": {},
   "outputs": [],
   "source": [
    "import pandas as pd\n",
    "import numpy as np\n",
    "import math\n",
    "import copy\n",
    "from sklearn.metrics import *\n",
    "from surprise import Dataset, Reader\n",
    "from surprise.model_selection import cross_validate"
   ]
  },
  {
   "cell_type": "markdown",
   "metadata": {},
   "source": [
    "<h1> Get Dataset </h1>"
   ]
  },
  {
   "cell_type": "code",
   "execution_count": 22,
   "metadata": {
    "scrolled": true
   },
   "outputs": [
    {
     "name": "stdout",
     "output_type": "stream",
     "text": [
      "                                 book_name  newUserId  newBookId  mean_rating\n",
      "0          Red Tide: A Novel (Ford, G. M.)        243         19          3.5\n",
      "1          Red Tide: A Novel (Ford, G. M.)       5467         19          4.5\n",
      "2          Red Tide: A Novel (Ford, G. M.)       1549         19          4.5\n",
      "3          Red Tide: A Novel (Ford, G. M.)        545         19          3.0\n",
      "4          Red Tide: A Novel (Ford, G. M.)       2719         19          3.5\n",
      "...                                    ...        ...        ...          ...\n",
      "7431  A Good Yarn CD (The Knitting Series)       1839        169          4.5\n",
      "7432  A Good Yarn CD (The Knitting Series)       4562        169          3.5\n",
      "7433  A Good Yarn CD (The Knitting Series)       2329        169          5.0\n",
      "7434  A Good Yarn CD (The Knitting Series)       5575        169          4.5\n",
      "7435  A Good Yarn CD (The Knitting Series)       1449        169          5.0\n",
      "\n",
      "[7436 rows x 4 columns]\n",
      "     newBookId                                          book_name\n",
      "0           19                    Red Tide: A Novel (Ford, G. M.)\n",
      "1           20                        No Man's Land (Frank Corso)\n",
      "2           21           Day of Atonement (Decker/Lazarus Novels)\n",
      "3           22  The Jaguar Knights: A Chronicle of the King's ...\n",
      "4           23                                   The Last Goodbye\n",
      "..         ...                                                ...\n",
      "165        165  The Brother of Jesus: The Dramatic Story & Mea...\n",
      "166        166  The Great Unraveling: Losing Our Way in the Ne...\n",
      "167        167  By the Shores of Silver Lake: Full Color Editi...\n",
      "168        168  The Long Winter: Full Color Edition (Little Ho...\n",
      "169        169               A Good Yarn CD (The Knitting Series)\n",
      "\n",
      "[170 rows x 2 columns]\n"
     ]
    }
   ],
   "source": [
    "from sklearn.model_selection import train_test_split\n",
    "from pandas import DataFrame\n",
    "ratings_data = pd.read_csv(\"./Recommendation System - Sentiment analysis/newAmazonBooksRatings.csv\", usecols = [0,1,2,5,6], header=0, names = [\"user_id\", \"book_id\", \"book_name\", \"user_rating\", \"sentiment_rating\"])\n",
    "ratings_data = ratings_data.assign(newUserId = ratings_data['user_id'].astype('category').cat.codes)\n",
    "ratings_data = ratings_data.assign(newBookId = ratings_data['book_id'].astype('category').cat.codes)\n",
    "newRatingCol = ratings_data.loc[:, \"user_rating\":\"sentiment_rating\"]\n",
    "ratings_data[\"mean_rating\"] = newRatingCol.mean(axis=1)\n",
    "ratings_data.drop([\"user_id\",\"book_id\", \"user_rating\", \"sentiment_rating\"], axis=1, inplace=True)\n",
    "cols = [\"newBookId\",\"book_name\"]\n",
    "books = ratings_data[cols].copy()\n",
    "books.drop_duplicates(inplace=True)\n",
    "books = books.reset_index(drop=True)\n",
    "print(ratings_data)\n",
    "print(books)\n",
    "reader = Reader(rating_scale=(1,5))\n",
    "train_data = Dataset.load_from_df(ratings_data[[\"newUserId\", \"newBookId\", \"mean_rating\"]], reader)\n",
    "trainset = train_data.build_full_trainset()"
   ]
  },
  {
   "cell_type": "markdown",
   "metadata": {},
   "source": [
    "<h1> SVD (Surprise lib) </h1>"
   ]
  },
  {
   "cell_type": "code",
   "execution_count": 4,
   "metadata": {},
   "outputs": [
    {
     "name": "stdout",
     "output_type": "stream",
     "text": [
      "Processing epoch 0\n",
      "Processing epoch 1\n",
      "Processing epoch 2\n",
      "Processing epoch 3\n",
      "Processing epoch 4\n",
      "Processing epoch 0\n",
      "Processing epoch 1\n",
      "Processing epoch 2\n",
      "Processing epoch 3\n",
      "Processing epoch 4\n",
      "Processing epoch 0\n",
      "Processing epoch 1\n",
      "Processing epoch 2\n",
      "Processing epoch 3\n",
      "Processing epoch 4\n",
      "Evaluating RMSE, MAE of algorithm SVD on 3 split(s).\n",
      "\n",
      "                  Fold 1  Fold 2  Fold 3  Mean    Std     \n",
      "RMSE (testset)    0.9223  0.9495  0.8914  0.9211  0.0237  \n",
      "MAE (testset)     0.7310  0.7503  0.7193  0.7335  0.0128  \n",
      "Fit time          0.09    0.09    0.09    0.09    0.00    \n",
      "Test time         0.01    0.02    0.02    0.02    0.00    \n"
     ]
    }
   ],
   "source": [
    "from surprise import SVD\n",
    "from surprise.model_selection import cross_validate\n",
    "svd = SVD(n_factors=100, n_epochs=5, biased=True, random_state=15, verbose=True)\n",
    "results = cross_validate(svd, train_data, measures=['RMSE', 'MAE'], cv=3, verbose=True)"
   ]
  },
  {
   "cell_type": "code",
   "execution_count": 5,
   "metadata": {},
   "outputs": [
    {
     "name": "stdout",
     "output_type": "stream",
     "text": [
      "Processing epoch 0\n",
      "Processing epoch 1\n",
      "Processing epoch 2\n",
      "Processing epoch 3\n",
      "Processing epoch 4\n"
     ]
    }
   ],
   "source": [
    "model=svd.fit(trainset)"
   ]
  },
  {
   "cell_type": "code",
   "execution_count": 10,
   "metadata": {},
   "outputs": [],
   "source": [
    "def estSort(pred):\n",
    "    return pred.est\n",
    "def recommend_books(user_id, num_recommendations) :\n",
    "    predictions = []\n",
    "    for x in pd.unique(ratings_data['newBookId']):\n",
    "        predictions.append(svd.predict(uid=0, iid=x))\n",
    "    predictions.sort(key = estSort, reverse=True)\n",
    "    recommendations = [x.iid for x in predictions[:num_recommendations]]\n",
    "    return recommendations"
   ]
  },
  {
   "cell_type": "code",
   "execution_count": 11,
   "metadata": {},
   "outputs": [],
   "source": [
    "book_indices=recommend_books(user_id=101, num_recommendations=7)\n",
    "recommendations = [books.values[x] for x in book_indices]\n",
    "recommendations = DataFrame(recommendations, columns=[\"book_id\", \"book_name\"])"
   ]
  },
  {
   "cell_type": "code",
   "execution_count": 12,
   "metadata": {
    "scrolled": true
   },
   "outputs": [
    {
     "name": "stdout",
     "output_type": "stream",
     "text": [
      "   book_id                                          book_name\n",
      "0      112                            Autobiography of a Face\n",
      "1      169               A Good Yarn CD (The Knitting Series)\n",
      "2      102                        Hell at the Breech: A Novel\n",
      "3      133      The Novice: The Black Magician Trilogy Book 2\n",
      "4       18  Sacred Causes: The Clash of Religion and Polit...\n",
      "5       44                               Goldengrove: A Novel\n",
      "6      105                                 Indelible: A Novel\n"
     ]
    }
   ],
   "source": [
    "print(recommendations)"
   ]
  },
  {
   "cell_type": "markdown",
   "metadata": {},
   "source": [
    "<h1> SVD (Scipy lib) </h1>"
   ]
  },
  {
   "cell_type": "code",
   "execution_count": 13,
   "metadata": {},
   "outputs": [],
   "source": [
    "movie_ratings = ratings_data.pivot(\n",
    "    index='newUserId',\n",
    "    columns='newBookId',\n",
    "    values='mean_rating'\n",
    ").fillna(0)"
   ]
  },
  {
   "cell_type": "code",
   "execution_count": 14,
   "metadata": {},
   "outputs": [],
   "source": [
    "R = movie_ratings.values\n",
    "from scipy.sparse.linalg import svds\n",
    "U, sigma, Vt = svds(R, k = 50)"
   ]
  },
  {
   "cell_type": "code",
   "execution_count": 15,
   "metadata": {},
   "outputs": [
    {
     "name": "stdout",
     "output_type": "stream",
     "text": [
      "[[-7.67883834e-03 -2.46037610e-03 -1.53547246e-03 ... -7.59475765e-04\n",
      "  -2.14462131e-04 -3.39814750e-03]\n",
      " [-2.30580147e-03  1.62222794e-03 -5.68060208e-03 ...  3.13255724e-02\n",
      "  -2.91525306e-02  5.51109552e-03]\n",
      " [-1.03490609e-03 -4.28966687e-04 -1.14257363e-03 ...  2.93458937e-04\n",
      "   1.42909121e-04 -6.58336153e-05]\n",
      " ...\n",
      " [-7.18186732e-03 -4.92080564e-03  1.28712916e-02 ...  2.66802475e-02\n",
      "  -1.85588184e-02  1.15133956e-03]\n",
      " [-2.06981217e-03 -8.57933373e-04 -2.28514725e-03 ...  5.86917874e-04\n",
      "   2.85818241e-04 -1.31667231e-04]\n",
      " [-4.06273071e-04 -4.34993365e-04 -3.47192929e-04 ... -2.69687018e-04\n",
      "  -2.78287377e-05 -1.15233850e-03]]\n"
     ]
    }
   ],
   "source": [
    "sigma = np.diag(sigma)\n",
    "all_user_predicted_ratings = np.dot(np.dot(U, sigma), Vt) \n",
    "print(all_user_predicted_ratings)"
   ]
  },
  {
   "cell_type": "code",
   "execution_count": 16,
   "metadata": {},
   "outputs": [],
   "source": [
    "def recommend_books(predictions, user_index, books, org_matrix, num_recommendations=5):\n",
    "    sorted_books = (-predictions[user_index]).argsort()\n",
    "    boolArr = (org_matrix[user_index] == 0)\n",
    "    unknown_sorted_books = [x for x in sorted_books if boolArr[x]]\n",
    "    recommendations = [books[x] for x in unknown_sorted_books][:num_recommendations]               \n",
    "    return recommendations"
   ]
  },
  {
   "cell_type": "code",
   "execution_count": 17,
   "metadata": {},
   "outputs": [
    {
     "name": "stdout",
     "output_type": "stream",
     "text": [
      "   book_id                                          book_name\n",
      "0      144  Septimus Heap, Book Two: Flyte: 02 (Septimus H...\n",
      "1       46                                          The Nanny\n",
      "2       95  Eels: An Exploration, from New Zealand to the ...\n",
      "3       57  The Barefoot Princess: The Lost Princesses #2 ...\n",
      "4       58  The Prince Kidnaps a Bride: The Lost Princesse...\n",
      "5       90  A Dark Champion: 3 (Brotherhood of the Sword S...\n",
      "6      167  By the Shores of Silver Lake: Full Color Editi...\n"
     ]
    }
   ],
   "source": [
    "top_books = recommend_books(all_user_predicted_ratings, 1, books.values, R, 7)\n",
    "top_books = DataFrame(top_books, columns=[\"book_id\", \"book_name\"])\n",
    "print(top_books)"
   ]
  },
  {
   "cell_type": "markdown",
   "metadata": {},
   "source": [
    "<h2> Similar books </h2>"
   ]
  },
  {
   "cell_type": "code",
   "execution_count": 18,
   "metadata": {},
   "outputs": [],
   "source": [
    "from numpy import dot\n",
    "from numpy.linalg import norm\n",
    "\n",
    "def cosine_similarity(list_1, list_2):\n",
    "    cos_sim = dot(list_1, list_2) / (norm(list_1) * norm(list_2))\n",
    "    return cos_sim\n",
    "\n",
    "def top_cosine_similarity(data, book_id, top_n=10):\n",
    "    index = book_id - 1 \n",
    "    book_row = data[index, :]\n",
    "    similarity_values = np.zeros(shape=[data.shape[0]-1,2])\n",
    "    k=0\n",
    "    for i in range(data.shape[0]):\n",
    "        if i != index :\n",
    "            val = cosine_similarity(book_row, data[i, :])\n",
    "            similarity_values[k] = np.array([i, val])\n",
    "            k = k + 1\n",
    "            \n",
    "    sort_indices = np.argsort(-similarity_values[:, 1])\n",
    "    return sort_indices[:top_n]"
   ]
  },
  {
   "cell_type": "code",
   "execution_count": 23,
   "metadata": {},
   "outputs": [],
   "source": [
    "top_book_indices = top_cosine_similarity(Vt.T, 13)\n",
    "similar_books = [books.values[x] for x in top_book_indices]\n",
    "similar_books = DataFrame(similar_books, columns=[\"book_id\", \"book_name\"])"
   ]
  },
  {
   "cell_type": "code",
   "execution_count": 25,
   "metadata": {},
   "outputs": [
    {
     "name": "stdout",
     "output_type": "stream",
     "text": [
      "Books similar to Valdez Is Coming Low Price are:\n",
      "\n",
      "   book_id                                          book_name\n",
      "0      137  Warlord: A Life of Winston Churchill at War, 1...\n",
      "1       31          Cadillac Beach: A Novel: 6 (Serge Storms)\n",
      "2       96  A Year with C. S. Lewis: Daily Readings from H...\n",
      "3       41                     Gentlemen and Players: A Novel\n",
      "4        0                                Mission Compromised\n",
      "5       99  Scots on the Rocks: A Bed-and-Breakfast Myster...\n",
      "6      128  Where God Was Born: A Journey by Land to the R...\n",
      "7      158  Useful Idiots: How Liberals Got It Wrong in th...\n",
      "8      131  Busting Vegas: The MIT Whiz Kid Who Brought th...\n",
      "9       11       Fluke: Or, I Know Why the Winged Whale Sings\n"
     ]
    }
   ],
   "source": [
    "print(\"Books similar to \"+books.book_name[12]+\" are:\\n\")\n",
    "print(similar_books)"
   ]
  },
  {
   "cell_type": "code",
   "execution_count": null,
   "metadata": {},
   "outputs": [],
   "source": []
  }
 ],
 "metadata": {
  "kernelspec": {
   "display_name": "Python 3",
   "language": "python",
   "name": "python3"
  },
  "language_info": {
   "codemirror_mode": {
    "name": "ipython",
    "version": 3
   },
   "file_extension": ".py",
   "mimetype": "text/x-python",
   "name": "python",
   "nbconvert_exporter": "python",
   "pygments_lexer": "ipython3",
   "version": "3.8.3"
  }
 },
 "nbformat": 4,
 "nbformat_minor": 4
}
