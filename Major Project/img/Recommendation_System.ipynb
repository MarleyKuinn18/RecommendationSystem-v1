{
 "cells": [
  {
   "cell_type": "markdown",
   "metadata": {},
   "source": [
    "# Recommendation System"
   ]
  },
  {
   "cell_type": "markdown",
   "metadata": {},
   "source": [
    ">A Recommendation System is an engine that operates like a filter predicting the preferences of a group of items for a user amongst a universal set of items, and recommends the closest ‘x’ items based on various parameters.\n",
    "![Recommendation System Image](https://miro.medium.com/max/640/1*D8qyeXxlbHFUlpZtfjvM7Q.png)"
   ]
  },
  {
   "cell_type": "code",
   "execution_count": 21,
   "metadata": {},
   "outputs": [],
   "source": [
    "import numpy as np\n",
    "import pandas as pd\n",
    "import nltk\n",
    "from sklearn.model_selection import train_test_split\n",
    "from sklearn.feature_extraction.text import CountVectorizer\n",
    "from sklearn.naive_bayes import MultinomialNB\n",
    "import re\n",
    "from nltk.sentiment.vader import SentimentIntensityAnalyzer\n",
    "from textblob import TextBlob\n",
    "from sklearn.metrics import f1_score, accuracy_score\n",
    "from tqdm import tqdm\n",
    "from textblob.sentiments import NaiveBayesAnalyzer\n",
    "import nltk"
   ]
  },
  {
   "cell_type": "code",
   "execution_count": 22,
   "metadata": {},
   "outputs": [],
   "source": [
    "import os\n",
    "os.chdir(os.getcwd())"
   ]
  },
  {
   "cell_type": "code",
   "execution_count": 23,
   "metadata": {},
   "outputs": [],
   "source": [
    "import pytreebank\n",
    "import sys\n",
    "\n",
    "dataset = pytreebank.load_sst()"
   ]
  },
  {
   "cell_type": "code",
   "execution_count": 24,
   "metadata": {},
   "outputs": [],
   "source": [
    "out_path = os.path.join(sys.path[0], 'sst_{}.txt')\n",
    "for category in ['train', 'test', 'dev']:\n",
    "    with open(out_path.format(category), 'w') as outfile:\n",
    "        for item in dataset[category]:\n",
    "            outfile.write(\"__label__{}\\t{}\\n\".format(\n",
    "                item.to_labeled_lines()[0][0] + 1,\n",
    "                item.to_labeled_lines()[0][1]\n",
    "            ))"
   ]
  },
  {
   "cell_type": "code",
   "execution_count": 25,
   "metadata": {},
   "outputs": [],
   "source": [
    "train = pd.read_csv('sst_train.txt', sep='\\t',header=None, names=['sentiment_label', 'sentence'])"
   ]
  },
  {
   "cell_type": "markdown",
   "metadata": {},
   "source": [
    "## Train Model"
   ]
  },
  {
   "cell_type": "code",
   "execution_count": 26,
   "metadata": {},
   "outputs": [
    {
     "name": "stderr",
     "output_type": "stream",
     "text": [
      "[nltk_data] Downloading package vader_lexicon to\n",
      "[nltk_data]     C:\\Users\\User\\AppData\\Roaming\\nltk_data...\n",
      "[nltk_data]   Package vader_lexicon is already up-to-date!\n"
     ]
    }
   ],
   "source": [
    "nltk.download('vader_lexicon')\n",
    "from nltk.sentiment.vader import SentimentIntensityAnalyzer\n",
    "sid = SentimentIntensityAnalyzer()"
   ]
  },
  {
   "cell_type": "code",
   "execution_count": 27,
   "metadata": {},
   "outputs": [],
   "source": [
    "train['vader_score'] = train[\"sentence\"].apply(lambda Description: sid.polarity_scores(Description))"
   ]
  },
  {
   "cell_type": "code",
   "execution_count": 28,
   "metadata": {},
   "outputs": [],
   "source": [
    "train['compound'] = train['vader_score'].apply(lambda score_dict: score_dict['compound'])\n",
    "train['vader_pred'] = pd.cut(train['compound'], bins=5, labels=[1, 2, 3, 4, 5])"
   ]
  },
  {
   "cell_type": "markdown",
   "metadata": {},
   "source": [
    "## Amazon Book Reviews Dataset"
   ]
  },
  {
   "cell_type": "code",
   "execution_count": 29,
   "metadata": {},
   "outputs": [
    {
     "data": {
      "text/html": [
       "<div>\n",
       "<style scoped>\n",
       "    .dataframe tbody tr th:only-of-type {\n",
       "        vertical-align: middle;\n",
       "    }\n",
       "\n",
       "    .dataframe tbody tr th {\n",
       "        vertical-align: top;\n",
       "    }\n",
       "\n",
       "    .dataframe thead th {\n",
       "        text-align: right;\n",
       "    }\n",
       "</style>\n",
       "<table border=\"1\" class=\"dataframe\">\n",
       "  <thead>\n",
       "    <tr style=\"text-align: right;\">\n",
       "      <th></th>\n",
       "      <th>reviewerID</th>\n",
       "      <th>asin</th>\n",
       "      <th>reviewerName</th>\n",
       "      <th>reviewText</th>\n",
       "      <th>overall</th>\n",
       "      <th>title</th>\n",
       "    </tr>\n",
       "  </thead>\n",
       "  <tbody>\n",
       "    <tr>\n",
       "      <th>0</th>\n",
       "      <td>A15Q7ABIU9O9YZ</td>\n",
       "      <td>60554800</td>\n",
       "      <td>Larry Scantlebury</td>\n",
       "      <td>This is my first GM Ford book and I will read ...</td>\n",
       "      <td>3</td>\n",
       "      <td>Red Tide: A Novel (Ford, G. M.)</td>\n",
       "    </tr>\n",
       "    <tr>\n",
       "      <th>1</th>\n",
       "      <td>AUIJDXNYVTEA8</td>\n",
       "      <td>60554800</td>\n",
       "      <td>Les Stockton</td>\n",
       "      <td>I liked the story.  I thought the book added a...</td>\n",
       "      <td>4</td>\n",
       "      <td>Red Tide: A Novel (Ford, G. M.)</td>\n",
       "    </tr>\n",
       "    <tr>\n",
       "      <th>2</th>\n",
       "      <td>A20N5GOON55TE9</td>\n",
       "      <td>60554800</td>\n",
       "      <td>lila</td>\n",
       "      <td>As always, G.M. Ford does not disappoint. I st...</td>\n",
       "      <td>5</td>\n",
       "      <td>Red Tide: A Novel (Ford, G. M.)</td>\n",
       "    </tr>\n",
       "    <tr>\n",
       "      <th>3</th>\n",
       "      <td>A1CT8ENDZSYTX3</td>\n",
       "      <td>60554800</td>\n",
       "      <td>Lisa B.</td>\n",
       "      <td>I love Ford's Leo Waterman series and the firs...</td>\n",
       "      <td>3</td>\n",
       "      <td>Red Tide: A Novel (Ford, G. M.)</td>\n",
       "    </tr>\n",
       "    <tr>\n",
       "      <th>4</th>\n",
       "      <td>A2SI6BNK5SWSMD</td>\n",
       "      <td>60554800</td>\n",
       "      <td>L. J. Roberts</td>\n",
       "      <td>It was nice to see Corso working with the poli...</td>\n",
       "      <td>3</td>\n",
       "      <td>Red Tide: A Novel (Ford, G. M.)</td>\n",
       "    </tr>\n",
       "  </tbody>\n",
       "</table>\n",
       "</div>"
      ],
      "text/plain": [
       "       reviewerID      asin       reviewerName  \\\n",
       "0  A15Q7ABIU9O9YZ  60554800  Larry Scantlebury   \n",
       "1   AUIJDXNYVTEA8  60554800       Les Stockton   \n",
       "2  A20N5GOON55TE9  60554800               lila   \n",
       "3  A1CT8ENDZSYTX3  60554800            Lisa B.   \n",
       "4  A2SI6BNK5SWSMD  60554800      L. J. Roberts   \n",
       "\n",
       "                                          reviewText  overall  \\\n",
       "0  This is my first GM Ford book and I will read ...        3   \n",
       "1  I liked the story.  I thought the book added a...        4   \n",
       "2  As always, G.M. Ford does not disappoint. I st...        5   \n",
       "3  I love Ford's Leo Waterman series and the firs...        3   \n",
       "4  It was nice to see Corso working with the poli...        3   \n",
       "\n",
       "                             title  \n",
       "0  Red Tide: A Novel (Ford, G. M.)  \n",
       "1  Red Tide: A Novel (Ford, G. M.)  \n",
       "2  Red Tide: A Novel (Ford, G. M.)  \n",
       "3  Red Tide: A Novel (Ford, G. M.)  \n",
       "4  Red Tide: A Novel (Ford, G. M.)  "
      ]
     },
     "execution_count": 29,
     "metadata": {},
     "output_type": "execute_result"
    }
   ],
   "source": [
    "data = pd.read_csv('Amazon Book Reviews.csv', usecols=[0,1,2,4,5,9])\n",
    "data.head()"
   ]
  },
  {
   "cell_type": "markdown",
   "metadata": {},
   "source": [
    "### Data Analysis"
   ]
  },
  {
   "cell_type": "code",
   "execution_count": 30,
   "metadata": {},
   "outputs": [],
   "source": [
    "import matplotlib.pyplot as plt\n",
    "import ipywidgets as widgets\n",
    "from ipywidgets import interact, interact_manual"
   ]
  },
  {
   "cell_type": "code",
   "execution_count": 45,
   "metadata": {},
   "outputs": [],
   "source": [
    "reviews = list(data['reviewText'])"
   ]
  },
  {
   "cell_type": "code",
   "execution_count": 46,
   "metadata": {},
   "outputs": [],
   "source": [
    "from nltk.corpus import stopwords\n",
    "from nltk.tokenize import RegexpTokenizer\n",
    "from nltk.stem import PorterStemmer\n",
    "from nltk.tokenize import word_tokenize"
   ]
  },
  {
   "cell_type": "code",
   "execution_count": 47,
   "metadata": {},
   "outputs": [
    {
     "name": "stderr",
     "output_type": "stream",
     "text": [
      "[nltk_data] Downloading package rslp to\n",
      "[nltk_data]     C:\\Users\\User\\AppData\\Roaming\\nltk_data...\n",
      "[nltk_data]   Package rslp is already up-to-date!\n",
      "[nltk_data] Downloading package stopwords to\n",
      "[nltk_data]     C:\\Users\\User\\AppData\\Roaming\\nltk_data...\n",
      "[nltk_data]   Package stopwords is already up-to-date!\n"
     ]
    }
   ],
   "source": [
    "nltk.download('rslp')\n",
    "tokenizer = RegexpTokenizer(r'\\w+')\n",
    "nltk.download('stopwords')\n",
    "en_stopwords = set(stopwords.words('english'))\n",
    "ps = nltk.stem.RSLPStemmer()"
   ]
  },
  {
   "cell_type": "code",
   "execution_count": 48,
   "metadata": {},
   "outputs": [],
   "source": [
    "def getCleanComment(review):\n",
    "    review = str(review)\n",
    "    review = review.lower()\n",
    "    review = review.replace('\"','')\n",
    "    review = review.replace(';','')\n",
    "    review = review.replace('_','')\n",
    "    review = review.replace('-','')\n",
    "    review = review.replace(',','')\n",
    "    review = re.sub('\\d', '', review)\n",
    "    tokens = tokenizer.tokenize(review)\n",
    "    new_tokens = [i for i in tokens if i not in en_stopwords]\n",
    "    stemmed_tokens = [ps.stem(i) for i in new_tokens]\n",
    "    \n",
    "    cleaned_review = ' '.join(stemmed_tokens)\n",
    "    return cleaned_review"
   ]
  },
  {
   "cell_type": "code",
   "execution_count": 49,
   "metadata": {},
   "outputs": [],
   "source": [
    "preprocessed_reviews = [getCleanComment(i) for i in reviews]"
   ]
  },
  {
   "cell_type": "code",
   "execution_count": 50,
   "metadata": {},
   "outputs": [],
   "source": [
    "data['preprocessed_reviews'] = preprocessed_reviews\n",
    "data['vader_score'] = data[\"preprocessed_reviews\"].apply(lambda Description: sid.polarity_scores(Description))"
   ]
  },
  {
   "cell_type": "code",
   "execution_count": 51,
   "metadata": {},
   "outputs": [],
   "source": [
    "data['compound'] = data['vader_score'].apply(lambda score_dict: score_dict['compound'])\n",
    "data['vader_pred'] = pd.cut(data['compound'], bins=5, labels=[1, 2, 3, 4, 5])"
   ]
  },
  {
   "cell_type": "code",
   "execution_count": 53,
   "metadata": {},
   "outputs": [],
   "source": [
    "deselectlist =['reviewerID', 'asin' , 'title', 'reviewerName', 'reviewText', 'overall', 'vader_pred']\n",
    "data.loc[:,deselectlist].to_csv('newAmazonBooksRatings.csv', index=False)"
   ]
  },
  {
   "cell_type": "markdown",
   "metadata": {},
   "source": [
    "## Filtering Irrelevant Users using Link Analysis\n",
    "> ### What is Link Analysis\n",
    "Link analysis is the process of investigating social structures by the use of networks and graphs.\n",
    "To help with the use case we are trying to solve, link analysis helps in the following ways:\n",
    "> - Identifying anomaly nodes of a network (irrelevant users) who can be turned off to refine produced set of recommendations\n",
    "> - Predicting new links on already built social network to interrelate a new product with older ones having similar features\n"
   ]
  },
  {
   "cell_type": "code",
   "execution_count": 54,
   "metadata": {},
   "outputs": [],
   "source": [
    "import networkx as nx\n",
    "import pandas as pd\n",
    "import numpy as np\n",
    "import matplotlib.pyplot as plt"
   ]
  },
  {
   "cell_type": "code",
   "execution_count": 55,
   "metadata": {},
   "outputs": [
    {
     "name": "stdout",
     "output_type": "stream",
     "text": [
      "<class 'pandas.core.frame.DataFrame'>\n"
     ]
    }
   ],
   "source": [
    "\n",
    "data = pd.read_csv('Amazon Book Reviews.csv')\n",
    "data.head()\n",
    "print(type(data))\n",
    "df = pd.DataFrame(data, columns = ['reviewerID', 'asin', 'title', 'reviewerName', 'helpful', 'reviewText', 'overall', 'summary', 'unixReviewTime', 'reviewTime'])"
   ]
  },
  {
   "cell_type": "markdown",
   "metadata": {},
   "source": [
    "#### Unweighted graph (visualization)"
   ]
  },
  {
   "cell_type": "code",
   "execution_count": null,
   "metadata": {},
   "outputs": [],
   "source": [
    "#unweighted graph (visualization)\n",
    "\n",
    "G = nx.Graph() \n",
    "for i in range(len(df)):\n",
    "    for j in range(len(df)):\n",
    "        if i!=j and df['title'][i] == df['title'][j]:\n",
    "            G.add_edge(i,j)"
   ]
  },
  {
   "cell_type": "code",
   "execution_count": null,
   "metadata": {},
   "outputs": [],
   "source": [
    "nx.draw_networkx(G)\n",
    "plt.savefig(\"path.jpg\",dpi=599)"
   ]
  },
  {
   "cell_type": "markdown",
   "metadata": {},
   "source": [
    "![unweighted graph Image](https://miro.medium.com/max/640/1*D8qyeXxlbHFUlpZtfjvM7Q.png)"
   ]
  },
  {
   "cell_type": "markdown",
   "metadata": {},
   "source": [
    "#### Weighted graph"
   ]
  },
  {
   "cell_type": "code",
   "execution_count": 30,
   "metadata": {},
   "outputs": [],
   "source": [
    "#weighted graph\n",
    "\n",
    "\n",
    "# creating a multigraph able to contain multiple edges between nodes, \n",
    "# weight between edges being the mean of user ratings given by both\n",
    "\n",
    "GW = nx.MultiGraph() \n",
    "for i in range(len(df)):\n",
    "    for j in range(len(df)):\n",
    "        if i!=j and df['title'][i] == df['title'][j]:\n",
    "            GW.add_edge(df['reviewerID'][i],df['reviewerID'][j], weight = (int)(df['overall'][i]+df['overall'][j])/2)"
   ]
  },
  {
   "cell_type": "markdown",
   "metadata": {},
   "source": [
    "#### Visualizing network with degree"
   ]
  },
  {
   "cell_type": "code",
   "execution_count": 31,
   "metadata": {},
   "outputs": [
    {
     "data": {
      "image/png": "[encoded data removed]",
      "text/plain": [
       "<Figure size 432x288 with 1 Axes>"
      ]
     },
     "metadata": {},
     "output_type": "display_data"
    }
   ],
   "source": [
    "# visualizing network with degree\n",
    "# nx.draw(GW)\n",
    "# plt.savefig(\"gw_path.jpg\",dpi=599)"
   ]
  },
  {
   "cell_type": "code",
   "execution_count": null,
   "metadata": {},
   "outputs": [],
   "source": []
  },
  {
   "cell_type": "code",
   "execution_count": 32,
   "metadata": {},
   "outputs": [
    {
     "name": "stdout",
     "output_type": "stream",
     "text": [
      "Name: \n",
      "Type: MultiGraph\n",
      "Number of nodes: 5694\n",
      "Number of edges: 1187762\n",
      "Average degree: 417.1978\n",
      "Name: \n",
      "Type: Graph\n",
      "Number of nodes: 7436\n",
      "Number of edges: 593881\n",
      "Average degree: 159.7313\n"
     ]
    }
   ],
   "source": [
    "print(nx.info(GW)) # same node for repeated user\n",
    "print(nx.info(G)) # different node for repeated user"
   ]
  },
  {
   "cell_type": "code",
   "execution_count": 33,
   "metadata": {},
   "outputs": [
    {
     "data": {
      "text/plain": [
       "[('AFVQZQ8PW0L', 6828),\n",
       " ('A1X8VZWTOG8IS6', 4052),\n",
       " ('A1M4NJYP0WNL8Q', 3570),\n",
       " ('A3H2CKTFZ3B3GD', 3446),\n",
       " ('A2NHD7LUXVGTD3', 3224),\n",
       " ('A2F6N60Z96CAJI', 2954),\n",
       " ('ABMX8XUNPR3LP', 2840),\n",
       " ('A2MPXQB68PGSM8', 2772),\n",
       " ('A3RTNA9THAU2OP', 2772),\n",
       " ('A2ZATPER188K3J', 2732)]"
      ]
     },
     "execution_count": 33,
     "metadata": {},
     "output_type": "execute_result"
    }
   ],
   "source": [
    "max_node_list = sorted(GW.degree, key=lambda x: x[1], reverse=True)\n",
    "max_node_list[:10]"
   ]
  },
  {
   "cell_type": "code",
   "execution_count": 34,
   "metadata": {},
   "outputs": [
    {
     "name": "stdout",
     "output_type": "stream",
     "text": [
      "('A1W0Z6DWSQAFHN', 18)\n",
      "(6445, 9)\n"
     ]
    }
   ],
   "source": [
    "print(max_node_list[-1])\n",
    "max_node_list_unweighted = sorted(G.degree, key = lambda x: x[1], reverse=True)\n",
    "print(max_node_list_unweighted[-1])"
   ]
  },
  {
   "cell_type": "markdown",
   "metadata": {},
   "source": [
    "#### Visualizing network by betweenness centrality"
   ]
  },
  {
   "cell_type": "code",
   "execution_count": 35,
   "metadata": {},
   "outputs": [
    {
     "data": {
      "text/plain": [
       "(-1.007445478439331,\n",
       " 1.0955926418304442,\n",
       " -1.0861139476299286,\n",
       " 1.017630833387375)"
      ]
     },
     "execution_count": 35,
     "metadata": {},
     "output_type": "execute_result"
    },
    {
     "data": {
      "image/png": "[encoded data removed]",
      "text/plain": [
       "<Figure size 576x576 with 1 Axes>"
      ]
     },
     "metadata": {},
     "output_type": "display_data"
    }
   ],
   "source": [
    "pos = nx.spring_layout(G)\n",
    "betCent = nx.betweenness_centrality(G, normalized=True, endpoints=True)\n",
    "node_color = [200.0 * G.degree(v) for v in G]\n",
    "node_size =  [v * 100 for v in betCent.values()]\n",
    "plt.figure(figsize=(8,8))\n",
    "nx.draw_networkx(G, pos=pos, with_labels=False,\n",
    "                 node_color=node_color,\n",
    "                 node_size=node_size )\n",
    "plt.axis('off')"
   ]
  },
  {
   "cell_type": "code",
   "execution_count": 36,
   "metadata": {},
   "outputs": [
    {
     "data": {
      "text/plain": [
       "1.0"
      ]
     },
     "execution_count": 36,
     "metadata": {},
     "output_type": "execute_result"
    }
   ],
   "source": [
    "nx.average_clustering(G)"
   ]
  },
  {
   "cell_type": "code",
   "execution_count": 37,
   "metadata": {},
   "outputs": [
    {
     "data": {
      "text/plain": [
       "{116: 36,\n",
       " 117: 36,\n",
       " 118: 36,\n",
       " 119: 36,\n",
       " 120: 36,\n",
       " 121: 36,\n",
       " 122: 36,\n",
       " 123: 36,\n",
       " 124: 36,\n",
       " 125: 36,\n",
       " 378: 36,\n",
       " 379: 36,\n",
       " 380: 36,\n",
       " 381: 36,\n",
       " 382: 36,\n",
       " 383: 36,\n",
       " 384: 36,\n",
       " 385: 36,\n",
       " 386: 36,\n",
       " 387: 36,\n",
       " 1830: 36,\n",
       " 1831: 36,\n",
       " 1832: 36,\n",
       " 1833: 36,\n",
       " 1834: 36,\n",
       " 1835: 36,\n",
       " 1836: 36,\n",
       " 1837: 36,\n",
       " 1838: 36,\n",
       " 1839: 36,\n",
       " 2849: 36,\n",
       " 2850: 36,\n",
       " 2851: 36,\n",
       " 2852: 36,\n",
       " 2853: 36,\n",
       " 2854: 36,\n",
       " 2855: 36,\n",
       " 2856: 36,\n",
       " 2857: 36,\n",
       " 2858: 36,\n",
       " 3989: 36,\n",
       " 3990: 36,\n",
       " 3991: 36,\n",
       " 3992: 36,\n",
       " 3993: 36,\n",
       " 3994: 36,\n",
       " 3995: 36,\n",
       " 3996: 36,\n",
       " 3997: 36,\n",
       " 3998: 36,\n",
       " 3999: 36,\n",
       " 4000: 36,\n",
       " 4001: 36,\n",
       " 4002: 36,\n",
       " 4003: 36,\n",
       " 4004: 36,\n",
       " 4005: 36,\n",
       " 4006: 36,\n",
       " 4007: 36,\n",
       " 4008: 36,\n",
       " 4279: 36,\n",
       " 4280: 36,\n",
       " 4281: 36,\n",
       " 4282: 36,\n",
       " 4283: 36,\n",
       " 4284: 36,\n",
       " 4285: 36,\n",
       " 4286: 36,\n",
       " 4287: 36,\n",
       " 4288: 36,\n",
       " 4439: 36,\n",
       " 4440: 36,\n",
       " 4441: 36,\n",
       " 4442: 36,\n",
       " 4443: 36,\n",
       " 4444: 36,\n",
       " 4445: 36,\n",
       " 4446: 36,\n",
       " 4447: 36,\n",
       " 4448: 36,\n",
       " 5913: 36,\n",
       " 5914: 36,\n",
       " 5915: 36,\n",
       " 5916: 36,\n",
       " 5917: 36,\n",
       " 5918: 36,\n",
       " 5919: 36,\n",
       " 5920: 36,\n",
       " 5921: 36,\n",
       " 5922: 36,\n",
       " 6436: 36,\n",
       " 6437: 36,\n",
       " 6438: 36,\n",
       " 6439: 36,\n",
       " 6440: 36,\n",
       " 6441: 36,\n",
       " 6442: 36,\n",
       " 6443: 36,\n",
       " 6444: 36,\n",
       " 6445: 36,\n",
       " 0: 45,\n",
       " 1: 45,\n",
       " 2: 45,\n",
       " 3: 45,\n",
       " 4: 45,\n",
       " 5: 45,\n",
       " 6: 45,\n",
       " 7: 45,\n",
       " 8: 45,\n",
       " 9: 45,\n",
       " 10: 45,\n",
       " 61: 45,\n",
       " 62: 45,\n",
       " 63: 45,\n",
       " 64: 45,\n",
       " 65: 45,\n",
       " 66: 45,\n",
       " 67: 45,\n",
       " 68: 45,\n",
       " 69: 45,\n",
       " 70: 45,\n",
       " 71: 45,\n",
       " 1352: 45,\n",
       " 1353: 45,\n",
       " 1354: 45,\n",
       " 1355: 45,\n",
       " 1356: 45,\n",
       " 1357: 45,\n",
       " 1358: 45,\n",
       " 1359: 45,\n",
       " 1360: 45,\n",
       " 1361: 45,\n",
       " 1362: 45,\n",
       " 1537: 45,\n",
       " 1538: 45,\n",
       " 1539: 45,\n",
       " 1540: 45,\n",
       " 1541: 45,\n",
       " 1542: 45,\n",
       " 1543: 45,\n",
       " 1544: 45,\n",
       " 1545: 45,\n",
       " 1546: 45,\n",
       " 1547: 45,\n",
       " 1762: 45,\n",
       " 1763: 45,\n",
       " 1764: 45,\n",
       " 1765: 45,\n",
       " 1766: 45,\n",
       " 1767: 45,\n",
       " 1768: 45,\n",
       " 1769: 45,\n",
       " 1770: 45,\n",
       " 1771: 45,\n",
       " 1772: 45,\n",
       " 3164: 45,\n",
       " 3165: 45,\n",
       " 3166: 45,\n",
       " 3167: 45,\n",
       " 3168: 45,\n",
       " 3169: 45,\n",
       " 3170: 45,\n",
       " 3171: 45,\n",
       " 3172: 45,\n",
       " 3173: 45,\n",
       " 3174: 45,\n",
       " 5702: 45,\n",
       " 5703: 45,\n",
       " 5704: 45,\n",
       " 5705: 45,\n",
       " 5706: 45,\n",
       " 5707: 45,\n",
       " 5708: 45,\n",
       " 5709: 45,\n",
       " 5710: 45,\n",
       " 5711: 45,\n",
       " 5712: 45,\n",
       " 6895: 45,\n",
       " 6896: 45,\n",
       " 6897: 45,\n",
       " 6898: 45,\n",
       " 6899: 45,\n",
       " 6900: 45,\n",
       " 6901: 45,\n",
       " 6902: 45,\n",
       " 6903: 45,\n",
       " 6904: 45,\n",
       " 6905: 45,\n",
       " 7243: 45,\n",
       " 7244: 45,\n",
       " 7245: 45,\n",
       " 7246: 45,\n",
       " 7247: 45,\n",
       " 7248: 45,\n",
       " 7249: 45,\n",
       " 7250: 45,\n",
       " 7251: 45,\n",
       " 7252: 45,\n",
       " 7253: 45,\n",
       " 7268: 45,\n",
       " 7269: 45,\n",
       " 7270: 45,\n",
       " 7271: 45,\n",
       " 7272: 45,\n",
       " 7273: 45,\n",
       " 7274: 45,\n",
       " 7275: 45,\n",
       " 7276: 45,\n",
       " 7277: 45,\n",
       " 7278: 45,\n",
       " 104: 55,\n",
       " 105: 55,\n",
       " 106: 55,\n",
       " 107: 55,\n",
       " 108: 55,\n",
       " 109: 55,\n",
       " 110: 55,\n",
       " 111: 55,\n",
       " 112: 55,\n",
       " 113: 55,\n",
       " 114: 55,\n",
       " 115: 55,\n",
       " 1662: 55,\n",
       " 1663: 55,\n",
       " 1664: 55,\n",
       " 1665: 55,\n",
       " 1666: 55,\n",
       " 1667: 55,\n",
       " 1668: 55,\n",
       " 1669: 55,\n",
       " 1670: 55,\n",
       " 1671: 55,\n",
       " 1672: 55,\n",
       " 1673: 55,\n",
       " 1961: 55,\n",
       " 1962: 55,\n",
       " 1963: 55,\n",
       " 1964: 55,\n",
       " 1965: 55,\n",
       " 1966: 55,\n",
       " 1967: 55,\n",
       " 1968: 55,\n",
       " 1969: 55,\n",
       " 1970: 55,\n",
       " 1971: 55,\n",
       " 1972: 55,\n",
       " 2925: 55,\n",
       " 2926: 55,\n",
       " 2927: 55,\n",
       " 2928: 55,\n",
       " 2929: 55,\n",
       " 2930: 55,\n",
       " 2931: 55,\n",
       " 2932: 55,\n",
       " 2933: 55,\n",
       " 2934: 55,\n",
       " 2935: 55,\n",
       " 2936: 55,\n",
       " 3749: 55,\n",
       " 3750: 55,\n",
       " 3751: 55,\n",
       " 3752: 55,\n",
       " 3753: 55,\n",
       " 3754: 55,\n",
       " 3755: 55,\n",
       " 3756: 55,\n",
       " 3757: 55,\n",
       " 3758: 55,\n",
       " 3759: 55,\n",
       " 3760: 55,\n",
       " 6941: 55,\n",
       " 6942: 55,\n",
       " 6943: 55,\n",
       " 6944: 55,\n",
       " 6945: 55,\n",
       " 6946: 55,\n",
       " 6947: 55,\n",
       " 6948: 55,\n",
       " 6949: 55,\n",
       " 6950: 55,\n",
       " 6951: 55,\n",
       " 6952: 55,\n",
       " 7040: 55,\n",
       " 7041: 55,\n",
       " 7042: 55,\n",
       " 7043: 55,\n",
       " 7044: 55,\n",
       " 7045: 55,\n",
       " 7046: 55,\n",
       " 7047: 55,\n",
       " 7048: 55,\n",
       " 7049: 55,\n",
       " 7050: 55,\n",
       " 7051: 55,\n",
       " 1339: 66,\n",
       " 1340: 66,\n",
       " 1341: 66,\n",
       " 1342: 66,\n",
       " 1343: 66,\n",
       " 1344: 66,\n",
       " 1345: 66,\n",
       " 1346: 66,\n",
       " 1347: 66,\n",
       " 1348: 66,\n",
       " 1349: 66,\n",
       " 1350: 66,\n",
       " 1351: 66,\n",
       " 1973: 66,\n",
       " 1974: 66,\n",
       " 1975: 66,\n",
       " 1976: 66,\n",
       " 1977: 66,\n",
       " 1978: 66,\n",
       " 1979: 66,\n",
       " 1980: 66,\n",
       " 1981: 66,\n",
       " 1982: 66,\n",
       " 1983: 66,\n",
       " 1984: 66,\n",
       " 1985: 66,\n",
       " 2002: 66,\n",
       " 2003: 66,\n",
       " 2004: 66,\n",
       " 2005: 66,\n",
       " 2006: 66,\n",
       " 2007: 66,\n",
       " 2008: 66,\n",
       " 2009: 66,\n",
       " 2010: 66,\n",
       " 2011: 66,\n",
       " 2012: 66,\n",
       " 2013: 66,\n",
       " 2014: 66,\n",
       " 2605: 66,\n",
       " 2606: 66,\n",
       " 2607: 66,\n",
       " 2608: 66,\n",
       " 2609: 66,\n",
       " 2610: 66,\n",
       " 2611: 66,\n",
       " 2612: 66,\n",
       " 2613: 66,\n",
       " 2614: 66,\n",
       " 2615: 66,\n",
       " 2616: 66,\n",
       " 2617: 66,\n",
       " 3761: 66,\n",
       " 3762: 66,\n",
       " 3763: 66,\n",
       " 3764: 66,\n",
       " 3765: 66,\n",
       " 3766: 66,\n",
       " 3767: 66,\n",
       " 3768: 66,\n",
       " 3769: 66,\n",
       " 3770: 66,\n",
       " 3771: 66,\n",
       " 3772: 66,\n",
       " 3773: 66,\n",
       " 4253: 66,\n",
       " 4254: 66,\n",
       " 4255: 66,\n",
       " 4256: 66,\n",
       " 4257: 66,\n",
       " 4258: 66,\n",
       " 4259: 66,\n",
       " 4260: 66,\n",
       " 4261: 66,\n",
       " 4262: 66,\n",
       " 4263: 66,\n",
       " 4264: 66,\n",
       " 4265: 66,\n",
       " 4266: 66,\n",
       " 4267: 66,\n",
       " 4268: 66,\n",
       " 4269: 66,\n",
       " 4270: 66,\n",
       " 4271: 66,\n",
       " 4272: 66,\n",
       " 4273: 66,\n",
       " 4274: 66,\n",
       " 4275: 66,\n",
       " 4276: 66,\n",
       " 4277: 66,\n",
       " 4278: 66,\n",
       " 7230: 66,\n",
       " 7231: 66,\n",
       " 7232: 66,\n",
       " 7233: 66,\n",
       " 7234: 66,\n",
       " 7235: 66,\n",
       " 7236: 66,\n",
       " 7237: 66,\n",
       " 7238: 66,\n",
       " 7239: 66,\n",
       " 7240: 66,\n",
       " 7241: 66,\n",
       " 7242: 66,\n",
       " 1363: 78,\n",
       " 1364: 78,\n",
       " 1365: 78,\n",
       " 1366: 78,\n",
       " 1367: 78,\n",
       " 1368: 78,\n",
       " 1369: 78,\n",
       " 1370: 78,\n",
       " 1371: 78,\n",
       " 1372: 78,\n",
       " 1373: 78,\n",
       " 1374: 78,\n",
       " 1375: 78,\n",
       " 1376: 78,\n",
       " 1690: 78,\n",
       " 1691: 78,\n",
       " 1692: 78,\n",
       " 1693: 78,\n",
       " 1694: 78,\n",
       " 1695: 78,\n",
       " 1696: 78,\n",
       " 1697: 78,\n",
       " 1698: 78,\n",
       " 1699: 78,\n",
       " 1700: 78,\n",
       " 1701: 78,\n",
       " 1702: 78,\n",
       " 1703: 78,\n",
       " 3136: 78,\n",
       " 3137: 78,\n",
       " 3138: 78,\n",
       " 3139: 78,\n",
       " 3140: 78,\n",
       " 3141: 78,\n",
       " 3142: 78,\n",
       " 3143: 78,\n",
       " 3144: 78,\n",
       " 3145: 78,\n",
       " 3146: 78,\n",
       " 3147: 78,\n",
       " 3148: 78,\n",
       " 3149: 78,\n",
       " 3150: 78,\n",
       " 3151: 78,\n",
       " 3152: 78,\n",
       " 3153: 78,\n",
       " 3154: 78,\n",
       " 3155: 78,\n",
       " 3156: 78,\n",
       " 3157: 78,\n",
       " 3158: 78,\n",
       " 3159: 78,\n",
       " 3160: 78,\n",
       " 3161: 78,\n",
       " 3162: 78,\n",
       " 3163: 78,\n",
       " 4482: 78,\n",
       " 4483: 78,\n",
       " 4484: 78,\n",
       " 4485: 78,\n",
       " 4486: 78,\n",
       " 4487: 78,\n",
       " 4488: 78,\n",
       " 4489: 78,\n",
       " 4490: 78,\n",
       " 4491: 78,\n",
       " 4492: 78,\n",
       " 4493: 78,\n",
       " 4494: 78,\n",
       " 4495: 78,\n",
       " 6866: 78,\n",
       " 6867: 78,\n",
       " 6868: 78,\n",
       " 6869: 78,\n",
       " 6870: 78,\n",
       " 6871: 78,\n",
       " 6872: 78,\n",
       " 6873: 78,\n",
       " 6874: 78,\n",
       " 6875: 78,\n",
       " 6876: 78,\n",
       " 6877: 78,\n",
       " 6878: 78,\n",
       " 6879: 78,\n",
       " 7026: 78,\n",
       " 7027: 78,\n",
       " 7028: 78,\n",
       " 7029: 78,\n",
       " 7030: 78,\n",
       " 7031: 78,\n",
       " 7032: 78,\n",
       " 7033: 78,\n",
       " 7034: 78,\n",
       " 7035: 78,\n",
       " 7036: 78,\n",
       " 7037: 78,\n",
       " 7038: 78,\n",
       " 7039: 78,\n",
       " 7254: 78,\n",
       " 7255: 78,\n",
       " 7256: 78,\n",
       " 7257: 78,\n",
       " 7258: 78,\n",
       " 7259: 78,\n",
       " 7260: 78,\n",
       " 7261: 78,\n",
       " 7262: 78,\n",
       " 7263: 78,\n",
       " 7264: 78,\n",
       " 7265: 78,\n",
       " 7266: 78,\n",
       " 7267: 78,\n",
       " 346: 91,\n",
       " 347: 91,\n",
       " 348: 91,\n",
       " 349: 91,\n",
       " 350: 91,\n",
       " 351: 91,\n",
       " 352: 91,\n",
       " 353: 91,\n",
       " 354: 91,\n",
       " 355: 91,\n",
       " 356: 91,\n",
       " 357: 91,\n",
       " 358: 91,\n",
       " 359: 91,\n",
       " 360: 91,\n",
       " 2895: 91,\n",
       " 2896: 91,\n",
       " 2897: 91,\n",
       " 2898: 91,\n",
       " 2899: 91,\n",
       " 2900: 91,\n",
       " 2901: 91,\n",
       " 2902: 91,\n",
       " 2903: 91,\n",
       " 2904: 91,\n",
       " 2905: 91,\n",
       " 2906: 91,\n",
       " 2907: 91,\n",
       " 2908: 91,\n",
       " 2909: 91,\n",
       " 2910: 91,\n",
       " 2911: 91,\n",
       " 2912: 91,\n",
       " 2913: 91,\n",
       " 2914: 91,\n",
       " 2915: 91,\n",
       " 2916: 91,\n",
       " 2917: 91,\n",
       " 2918: 91,\n",
       " 2919: 91,\n",
       " 2920: 91,\n",
       " 2921: 91,\n",
       " 2922: 91,\n",
       " 2923: 91,\n",
       " 2924: 91,\n",
       " 2937: 91,\n",
       " 2938: 91,\n",
       " 2939: 91,\n",
       " 2940: 91,\n",
       " 2941: 91,\n",
       " 2942: 91,\n",
       " 2943: 91,\n",
       " 2944: 91,\n",
       " 2945: 91,\n",
       " 2946: 91,\n",
       " 2947: 91,\n",
       " 2948: 91,\n",
       " 2949: 91,\n",
       " 2950: 91,\n",
       " 2951: 91,\n",
       " 3192: 91,\n",
       " 3193: 91,\n",
       " 3194: 91,\n",
       " 3195: 91,\n",
       " 3196: 91,\n",
       " 3197: 91,\n",
       " 3198: 91,\n",
       " 3199: 91,\n",
       " 3200: 91,\n",
       " 3201: 91,\n",
       " 3202: 91,\n",
       " 3203: 91,\n",
       " 3204: 91,\n",
       " 3205: 91,\n",
       " 3206: 91,\n",
       " 3596: 91,\n",
       " 3597: 91,\n",
       " 3598: 91,\n",
       " 3599: 91,\n",
       " 3600: 91,\n",
       " 3601: 91,\n",
       " 3602: 91,\n",
       " 3603: 91,\n",
       " 3604: 91,\n",
       " 3605: 91,\n",
       " 3606: 91,\n",
       " 3607: 91,\n",
       " 3608: 91,\n",
       " 3609: 91,\n",
       " 3610: 91,\n",
       " 4238: 91,\n",
       " 4239: 91,\n",
       " 4240: 91,\n",
       " 4241: 91,\n",
       " 4242: 91,\n",
       " 4243: 91,\n",
       " 4244: 91,\n",
       " 4245: 91,\n",
       " 4246: 91,\n",
       " 4247: 91,\n",
       " 4248: 91,\n",
       " 4249: 91,\n",
       " 4250: 91,\n",
       " 4251: 91,\n",
       " 4252: 91,\n",
       " 6880: 91,\n",
       " 6881: 91,\n",
       " 6882: 91,\n",
       " 6883: 91,\n",
       " 6884: 91,\n",
       " 6885: 91,\n",
       " 6886: 91,\n",
       " 6887: 91,\n",
       " 6888: 91,\n",
       " 6889: 91,\n",
       " 6890: 91,\n",
       " 6891: 91,\n",
       " 6892: 91,\n",
       " 6893: 91,\n",
       " 6894: 91,\n",
       " 1674: 105,\n",
       " 1675: 105,\n",
       " 1676: 105,\n",
       " 1677: 105,\n",
       " 1678: 105,\n",
       " 1679: 105,\n",
       " 1680: 105,\n",
       " 1681: 105,\n",
       " 1682: 105,\n",
       " 1683: 105,\n",
       " 1684: 105,\n",
       " 1685: 105,\n",
       " 1686: 105,\n",
       " 1687: 105,\n",
       " 1688: 105,\n",
       " 1689: 105,\n",
       " 1986: 105,\n",
       " 1987: 105,\n",
       " 1988: 105,\n",
       " 1989: 105,\n",
       " 1990: 105,\n",
       " 1991: 105,\n",
       " 1992: 105,\n",
       " 1993: 105,\n",
       " 1994: 105,\n",
       " 1995: 105,\n",
       " 1996: 105,\n",
       " 1997: 105,\n",
       " 1998: 105,\n",
       " 1999: 105,\n",
       " 2000: 105,\n",
       " 2001: 105,\n",
       " 4449: 105,\n",
       " 4450: 105,\n",
       " 4451: 105,\n",
       " 4452: 105,\n",
       " 4453: 105,\n",
       " 4454: 105,\n",
       " 4455: 105,\n",
       " 4456: 105,\n",
       " 4457: 105,\n",
       " 4458: 105,\n",
       " 4459: 105,\n",
       " 4460: 105,\n",
       " 4461: 105,\n",
       " 4462: 105,\n",
       " 4463: 105,\n",
       " 4464: 105,\n",
       " 6953: 105,\n",
       " 6954: 105,\n",
       " 6955: 105,\n",
       " 6956: 105,\n",
       " 6957: 105,\n",
       " 6958: 105,\n",
       " 6959: 105,\n",
       " 6960: 105,\n",
       " 6961: 105,\n",
       " 6962: 105,\n",
       " 6963: 105,\n",
       " 6964: 105,\n",
       " 6965: 105,\n",
       " 6966: 105,\n",
       " 6967: 105,\n",
       " 6968: 105,\n",
       " 361: 120,\n",
       " 362: 120,\n",
       " 363: 120,\n",
       " 364: 120,\n",
       " 365: 120,\n",
       " 366: 120,\n",
       " 367: 120,\n",
       " 368: 120,\n",
       " 369: 120,\n",
       " 370: 120,\n",
       " 371: 120,\n",
       " 372: 120,\n",
       " 373: 120,\n",
       " 374: 120,\n",
       " 375: 120,\n",
       " 376: 120,\n",
       " 377: 120,\n",
       " 526: 120,\n",
       " 527: 120,\n",
       " 528: 120,\n",
       " 529: 120,\n",
       " 530: 120,\n",
       " 531: 120,\n",
       " 532: 120,\n",
       " 533: 120,\n",
       " 534: 120,\n",
       " 535: 120,\n",
       " 536: 120,\n",
       " 537: 120,\n",
       " 538: 120,\n",
       " 539: 120,\n",
       " 540: 120,\n",
       " 541: 120,\n",
       " 542: 120,\n",
       " 1944: 120,\n",
       " 1945: 120,\n",
       " 1946: 120,\n",
       " 1947: 120,\n",
       " 1948: 120,\n",
       " 1949: 120,\n",
       " 1950: 120,\n",
       " 1951: 120,\n",
       " 1952: 120,\n",
       " 1953: 120,\n",
       " 1954: 120,\n",
       " 1955: 120,\n",
       " 1956: 120,\n",
       " 1957: 120,\n",
       " 1958: 120,\n",
       " 1959: 120,\n",
       " 1960: 120,\n",
       " 2565: 120,\n",
       " 2566: 120,\n",
       " 2567: 120,\n",
       " 2568: 120,\n",
       " 2569: 120,\n",
       " 2570: 120,\n",
       " 2571: 120,\n",
       " 2572: 120,\n",
       " 2573: 120,\n",
       " 2574: 120,\n",
       " 2575: 120,\n",
       " 2576: 120,\n",
       " 2577: 120,\n",
       " 2578: 120,\n",
       " 2579: 120,\n",
       " 2580: 120,\n",
       " 2581: 120,\n",
       " 3175: 120,\n",
       " 3176: 120,\n",
       " 3177: 120,\n",
       " 3178: 120,\n",
       " 3179: 120,\n",
       " 3180: 120,\n",
       " 3181: 120,\n",
       " 3182: 120,\n",
       " 3183: 120,\n",
       " 3184: 120,\n",
       " 3185: 120,\n",
       " 3186: 120,\n",
       " 3187: 120,\n",
       " 3188: 120,\n",
       " 3189: 120,\n",
       " 3190: 120,\n",
       " 3191: 120,\n",
       " 3268: 120,\n",
       " 3269: 120,\n",
       " 3270: 120,\n",
       " 3271: 120,\n",
       " 3272: 120,\n",
       " 3273: 120,\n",
       " 3274: 120,\n",
       " 3275: 120,\n",
       " 3276: 120,\n",
       " 3277: 120,\n",
       " 3278: 120,\n",
       " 3279: 120,\n",
       " 3280: 120,\n",
       " 3281: 120,\n",
       " 3282: 120,\n",
       " 3283: 120,\n",
       " 3284: 120,\n",
       " 4465: 120,\n",
       " 4466: 120,\n",
       " 4467: 120,\n",
       " 4468: 120,\n",
       " 4469: 120,\n",
       " 4470: 120,\n",
       " 4471: 120,\n",
       " 4472: 120,\n",
       " 4473: 120,\n",
       " 4474: 120,\n",
       " 4475: 120,\n",
       " 4476: 120,\n",
       " 4477: 120,\n",
       " 4478: 120,\n",
       " 4479: 120,\n",
       " 4480: 120,\n",
       " 4481: 120,\n",
       " 7213: 120,\n",
       " 7214: 120,\n",
       " 7215: 120,\n",
       " 7216: 120,\n",
       " 7217: 120,\n",
       " 7218: 120,\n",
       " 7219: 120,\n",
       " 7220: 120,\n",
       " 7221: 120,\n",
       " 7222: 120,\n",
       " 7223: 120,\n",
       " 7224: 120,\n",
       " 7225: 120,\n",
       " 7226: 120,\n",
       " 7227: 120,\n",
       " 7228: 120,\n",
       " 7229: 120,\n",
       " 6689: 136,\n",
       " 6690: 136,\n",
       " 6691: 136,\n",
       " 6692: 136,\n",
       " 6693: 136,\n",
       " 6694: 136,\n",
       " 6695: 136,\n",
       " 6696: 136,\n",
       " 6697: 136,\n",
       " 6698: 136,\n",
       " 6699: 136,\n",
       " 6700: 136,\n",
       " 6701: 136,\n",
       " 6702: 136,\n",
       " 6703: 136,\n",
       " 6704: 136,\n",
       " 6705: 136,\n",
       " 6706: 136,\n",
       " 7052: 136,\n",
       " 7053: 136,\n",
       " 7054: 136,\n",
       " 7055: 136,\n",
       " 7056: 136,\n",
       " 7057: 136,\n",
       " 7058: 136,\n",
       " 7059: 136,\n",
       " 7060: 136,\n",
       " 7061: 136,\n",
       " 7062: 136,\n",
       " 7063: 136,\n",
       " 7064: 136,\n",
       " 7065: 136,\n",
       " 7066: 136,\n",
       " 7067: 136,\n",
       " 7068: 136,\n",
       " 7069: 136,\n",
       " 1840: 153,\n",
       " 1841: 153,\n",
       " 1842: 153,\n",
       " 1843: 153,\n",
       " 1844: 153,\n",
       " 1845: 153,\n",
       " 1846: 153,\n",
       " 1847: 153,\n",
       " 1848: 153,\n",
       " 1849: 153,\n",
       " 1850: 153,\n",
       " 1851: 153,\n",
       " 1852: 153,\n",
       " 1853: 153,\n",
       " 1854: 153,\n",
       " 1855: 153,\n",
       " 1856: 153,\n",
       " 1857: 153,\n",
       " 1858: 153,\n",
       " 1859: 153,\n",
       " 1860: 153,\n",
       " 1861: 153,\n",
       " 1862: 153,\n",
       " 1863: 153,\n",
       " 1864: 153,\n",
       " 1865: 153,\n",
       " 1866: 153,\n",
       " 1867: 153,\n",
       " 1868: 153,\n",
       " 1869: 153,\n",
       " 1870: 153,\n",
       " 1871: 153,\n",
       " 1872: 153,\n",
       " 1873: 153,\n",
       " 1874: 153,\n",
       " 1875: 153,\n",
       " 1876: 153,\n",
       " 1877: 153,\n",
       " 4349: 153,\n",
       " 4350: 153,\n",
       " 4351: 153,\n",
       " 4352: 153,\n",
       " 4353: 153,\n",
       " 4354: 153,\n",
       " 4355: 153,\n",
       " 4356: 153,\n",
       " 4357: 153,\n",
       " 4358: 153,\n",
       " 4359: 153,\n",
       " 4360: 153,\n",
       " 4361: 153,\n",
       " 4362: 153,\n",
       " 4363: 153,\n",
       " 4364: 153,\n",
       " 4365: 153,\n",
       " 4366: 153,\n",
       " 4367: 153,\n",
       " 6803: 153,\n",
       " 6804: 153,\n",
       " 6805: 153,\n",
       " 6806: 153,\n",
       " 6807: 153,\n",
       " 6808: 153,\n",
       " 6809: 153,\n",
       " 6810: 153,\n",
       " 6811: 153,\n",
       " 6812: 153,\n",
       " 6813: 153,\n",
       " 6814: 153,\n",
       " 6815: 153,\n",
       " 6816: 153,\n",
       " 6817: 153,\n",
       " 6818: 153,\n",
       " 6819: 153,\n",
       " 6820: 153,\n",
       " 6821: 153,\n",
       " 193: 171,\n",
       " 194: 171,\n",
       " 195: 171,\n",
       " 196: 171,\n",
       " 197: 171,\n",
       " 198: 171,\n",
       " 199: 171,\n",
       " 200: 171,\n",
       " 201: 171,\n",
       " 202: 171,\n",
       " 203: 171,\n",
       " 204: 171,\n",
       " 205: 171,\n",
       " 206: 171,\n",
       " 207: 171,\n",
       " 208: 171,\n",
       " 209: 171,\n",
       " 210: 171,\n",
       " 211: 171,\n",
       " 212: 171,\n",
       " 1878: 171,\n",
       " 1879: 171,\n",
       " 1880: 171,\n",
       " 1881: 171,\n",
       " 1882: 171,\n",
       " 1883: 171,\n",
       " 1884: 171,\n",
       " 1885: 171,\n",
       " 1886: 171,\n",
       " 1887: 171,\n",
       " 1888: 171,\n",
       " 1889: 171,\n",
       " 1890: 171,\n",
       " 1891: 171,\n",
       " 1892: 171,\n",
       " 1893: 171,\n",
       " 1894: 171,\n",
       " 1895: 171,\n",
       " 1896: 171,\n",
       " 1897: 171,\n",
       " 1924: 171,\n",
       " 1925: 171,\n",
       " 1926: 171,\n",
       " 1927: 171,\n",
       " 1928: 171,\n",
       " 1929: 171,\n",
       " 1930: 171,\n",
       " 1931: 171,\n",
       " 1932: 171,\n",
       " 1933: 171,\n",
       " 1934: 171,\n",
       " 1935: 171,\n",
       " 1936: 171,\n",
       " 1937: 171,\n",
       " 1938: 171,\n",
       " 1939: 171,\n",
       " 1940: 171,\n",
       " 1941: 171,\n",
       " ...}"
      ]
     },
     "execution_count": 37,
     "metadata": {},
     "output_type": "execute_result"
    }
   ],
   "source": [
    "forward_dict = nx.triangles(G)\n",
    "dict(sorted(forward_dict.items(), key=lambda item: item[1]))\n",
    ";"
   ]
  },
  {
   "cell_type": "code",
   "execution_count": 38,
   "metadata": {},
   "outputs": [],
   "source": [
    "gm = nx.google_matrix(GW, alpha = 0.89)\n",
    "#print(gm)"
   ]
  },
  {
   "cell_type": "markdown",
   "metadata": {},
   "source": [
    "#### Finding min page rank nodes from graph"
   ]
  },
  {
   "cell_type": "code",
   "execution_count": 40,
   "metadata": {},
   "outputs": [
    {
     "name": "stderr",
     "output_type": "stream",
     "text": [
      "c:\\users\\user\\appdata\\local\\programs\\python\\python37\\lib\\site-packages\\networkx\\algorithms\\link_analysis\\pagerank_alg.py:335: RuntimeWarning: invalid value encountered in true_divide\n",
      "  return dict(zip(G, map(float, largest / norm)))\n"
     ]
    },
    {
     "name": "stdout",
     "output_type": "stream",
     "text": [
      "{0: nan, 1: nan, 2: nan, 3: nan, 4: nan, 5: nan, 6: nan, 7: nan, 8: nan, 9: nan, 10: nan, 11: nan, 12: nan, 13: nan, 14: nan, 15: nan, 16: nan, 17: nan, 18: nan, 19: nan, 20: nan, 21: nan, 22: nan, 23: nan, 24: nan, 25: nan, 26: nan, 27: nan, 28: nan, 29: nan, 30: nan, 31: nan, 32: nan, 33: nan, 34: nan, 35: nan, 36: nan, 37: nan, 38: nan, 39: nan, 40: nan, 41: nan, 42: nan, 43: nan, 44: nan, 45: nan, 46: nan, 47: nan, 48: nan, 49: nan, 50: nan, 51: nan, 52: nan, 53: nan, 54: nan, 55: nan, 56: nan, 57: nan, 58: nan, 59: nan, 60: nan, 61: nan, 62: nan, 63: nan, 64: nan, 65: nan, 66: nan, 67: nan, 68: nan, 69: nan, 70: nan, 71: nan, 72: nan, 73: nan, 74: nan, 75: nan, 76: nan, 77: nan, 78: nan, 79: nan, 80: nan, 81: nan, 82: nan, 83: nan, 84: nan, 85: nan, 86: nan, 87: nan, 88: nan, 89: nan, 90: nan, 91: nan, 92: nan, 93: nan, 94: nan, 95: nan, 96: nan, 97: nan, 98: nan, 99: nan, 100: nan, 101: nan, 102: nan, 103: nan, 104: nan, 105: nan, 106: nan, 107: nan, 108: nan, 109: nan, 110: nan, 111: nan, 112: nan, 113: nan, 114: nan, 115: nan, 116: nan, 117: nan, 118: nan, 119: nan, 120: nan, 121: nan, 122: nan, 123: nan, 124: nan, 125: nan, 126: nan, 127: nan, 128: nan, 129: nan, 130: nan, 131: nan, 132: nan, 133: nan, 134: nan, 135: nan, 136: nan, 137: nan, 138: nan, 139: nan, 140: nan, 141: nan, 142: nan, 143: nan, 144: nan, 145: nan, 146: nan, 147: nan, 148: nan, 149: nan, 150: nan, 151: nan, 152: nan, 153: nan, 154: nan, 155: nan, 156: nan, 157: nan, 158: nan, 159: nan, 160: nan, 161: nan, 162: nan, 163: nan, 164: nan, 165: nan, 166: nan, 167: nan, 168: nan, 169: nan, 170: nan, 171: nan, 172: nan, 173: nan, 174: nan, 175: nan, 176: nan, 177: nan, 178: nan, 179: nan, 180: nan, 181: nan, 182: nan, 183: nan, 184: nan, 185: nan, 186: nan, 187: nan, 188: nan, 189: nan, 190: nan, 191: nan, 192: nan, 193: nan, 194: nan, 195: nan, 196: nan, 197: nan, 198: nan, 199: nan, 200: nan, 201: nan, 202: nan, 203: nan, 204: nan, 205: nan, 206: nan, 207: nan, 208: nan, 209: nan, 210: nan, 211: nan, 212: nan, 213: nan, 214: nan, 215: nan, 216: nan, 217: nan, 218: nan, 219: nan, 220: nan, 221: nan, 222: nan, 223: nan, 224: nan, 225: nan, 226: nan, 227: nan, 228: nan, 229: nan, 230: nan, 231: nan, 232: nan, 233: nan, 234: nan, 235: nan, 236: nan, 237: nan, 238: nan, 239: nan, 240: nan, 241: nan, 242: nan, 243: nan, 244: nan, 245: nan, 246: nan, 247: nan, 248: nan, 249: nan, 250: nan, 251: nan, 252: nan, 253: nan, 254: nan, 255: nan, 256: nan, 257: nan, 258: nan, 259: nan, 260: nan, 261: nan, 262: nan, 263: nan, 264: nan, 265: nan, 266: nan, 267: nan, 268: nan, 269: nan, 270: nan, 271: nan, 272: nan, 273: nan, 274: nan, 275: nan, 276: nan, 277: nan, 278: nan, 279: nan, 280: nan, 281: nan, 282: nan, 283: nan, 284: nan, 285: nan, 286: nan, 287: nan, 288: nan, 289: nan, 290: nan, 291: nan, 292: nan, 293: nan, 294: nan, 295: nan, 296: nan, 297: nan, 298: nan, 299: nan, 300: nan, 301: nan, 302: nan, 303: nan, 304: nan, 305: nan, 306: nan, 307: nan, 308: nan, 309: nan, 310: nan, 311: nan, 312: nan, 313: nan, 314: nan, 315: nan, 316: nan, 317: nan, 318: nan, 319: nan, 320: nan, 321: nan, 322: nan, 323: nan, 324: nan, 325: nan, 326: nan, 327: nan, 328: nan, 329: nan, 330: nan, 331: nan, 332: nan, 333: nan, 334: nan, 335: nan, 336: nan, 337: nan, 338: nan, 339: nan, 340: nan, 341: nan, 342: nan, 343: nan, 344: nan, 345: nan, 346: nan, 347: nan, 348: nan, 349: nan, 350: nan, 351: nan, 352: nan, 353: nan, 354: nan, 355: nan, 356: nan, 357: nan, 358: nan, 359: nan, 360: nan, 361: nan, 362: nan, 363: nan, 364: nan, 365: nan, 366: nan, 367: nan, 368: nan, 369: nan, 370: nan, 371: nan, 372: nan, 373: nan, 374: nan, 375: nan, 376: nan, 377: nan, 378: nan, 379: nan, 380: nan, 381: nan, 382: nan, 383: nan, 384: nan, 385: nan, 386: nan, 387: nan, 388: nan, 389: nan, 390: nan, 391: nan, 392: nan, 393: nan, 394: nan, 395: nan, 396: nan, 397: nan, 398: nan, 399: nan, 400: nan, 401: nan, 402: nan, 403: nan, 404: nan, 405: nan, 406: nan, 407: nan, 408: nan, 409: nan, 410: nan, 411: nan, 412: nan, 413: nan, 414: nan, 415: nan, 416: nan, 417: nan, 418: nan, 419: nan, 420: nan, 421: nan, 422: nan, 423: nan, 424: nan, 425: nan, 426: nan, 427: nan, 428: nan, 429: nan, 430: nan, 431: nan, 432: nan, 433: nan, 434: nan, 435: nan, 436: nan, 437: nan, 438: nan, 439: nan, 440: nan, 441: nan, 442: nan, 443: nan, 444: nan, 445: nan, 446: nan, 447: nan, 448: nan, 449: nan, 450: nan, 451: nan, 452: nan, 453: nan, 454: nan, 455: nan, 456: nan, 457: nan, 458: nan, 459: nan, 460: nan, 461: nan, 462: nan, 463: nan, 464: nan, 465: nan, 466: nan, 467: nan, 468: nan, 469: nan, 470: nan, 471: nan, 472: nan, 473: nan, 474: nan, 475: nan, 476: nan, 477: nan, 478: nan, 479: nan, 480: nan, 481: nan, 482: nan, 483: nan, 484: nan, 485: nan, 486: nan, 487: nan, 488: nan, 489: nan, 490: nan, 491: nan, 492: nan, 493: nan, 494: nan, 495: nan, 496: nan, 497: nan, 498: nan, 499: nan, 500: nan, 501: nan, 502: nan, 503: nan, 504: nan, 505: nan, 506: nan, 507: nan, 508: nan, 509: nan, 510: nan, 511: nan, 512: nan, 513: nan, 514: nan, 515: nan, 516: nan, 517: nan, 518: nan, 519: nan, 520: nan, 521: nan, 522: nan, 523: nan, 524: nan, 525: nan, 526: nan, 527: nan, 528: nan, 529: nan, 530: nan, 531: nan, 532: nan, 533: nan, 534: nan, 535: nan, 536: nan, 537: nan, 538: nan, 539: nan, 540: nan, 541: nan, 542: nan, 543: nan, 544: nan, 545: nan, 546: nan, 547: nan, 548: nan, 549: nan, 550: nan, 551: nan, 552: nan, 553: nan, 554: nan, 555: nan, 556: nan, 557: nan, 558: nan, 559: nan, 560: nan, 561: nan, 562: nan, 563: nan, 564: nan, 565: nan, 566: nan, 567: nan, 568: nan, 569: nan, 570: nan, 571: nan, 572: nan, 573: nan, 574: nan, 575: nan, 576: nan, 577: nan, 578: nan, 579: nan, 580: nan, 581: nan, 582: nan, 583: nan, 584: nan, 585: nan, 586: nan, 587: nan, 588: nan, 589: nan, 590: nan, 591: nan, 592: nan, 593: nan, 594: nan, 595: nan, 596: nan, 597: nan, 598: nan, 599: nan, 600: nan, 601: nan, 602: nan, 603: nan, 604: nan, 605: nan, 606: nan, 607: nan, 608: nan, 609: nan, 610: nan, 611: nan, 612: nan, 613: nan, 614: nan, 615: nan, 616: nan, 617: nan, 618: nan, 619: nan, 620: nan, 621: nan, 622: nan, 623: nan, 624: nan, 625: nan, 626: nan, 627: nan, 628: nan, 629: nan, 630: nan, 631: nan, 632: nan, 633: nan, 634: nan, 635: nan, 636: nan, 637: nan, 638: nan, 639: nan, 640: nan, 641: nan, 642: nan, 643: nan, 644: nan, 645: nan, 646: nan, 647: nan, 648: nan, 649: nan, 650: nan, 651: nan, 652: nan, 653: nan, 654: nan, 655: nan, 656: nan, 657: nan, 658: nan, 659: nan, 660: nan, 661: nan, 662: nan, 663: nan, 664: nan, 665: nan, 666: nan, 667: nan, 668: nan, 669: nan, 670: nan, 671: nan, 672: nan, 673: nan, 674: nan, 675: nan, 676: nan, 677: nan, 678: nan, 679: nan, 680: nan, 681: nan, 682: nan, 683: nan, 684: nan, 685: nan, 686: nan, 687: nan, 688: nan, 689: nan, 690: nan, 691: nan, 692: nan, 693: nan, 694: nan, 695: nan, 696: nan, 697: nan, 698: nan, 699: nan, 700: nan, 701: nan, 702: nan, 703: nan, 704: nan, 705: nan, 706: nan, 707: nan, 708: nan, 709: nan, 710: nan, 711: nan, 712: nan, 713: nan, 714: nan, 715: nan, 716: nan, 717: nan, 718: nan, 719: nan, 720: nan, 721: nan, 722: nan, 723: nan, 724: nan, 725: nan, 726: nan, 727: nan, 728: nan, 729: nan, 730: nan, 731: nan, 732: nan, 733: nan, 734: nan, 735: nan, 736: nan, 737: nan, 738: nan, 739: nan, 740: nan, 741: nan, 742: nan, 743: nan, 744: nan, 745: nan, 746: nan, 747: nan, 748: nan, 749: nan, 750: nan, 751: nan, 752: nan, 753: nan, 754: nan, 755: nan, 756: nan, 757: nan, 758: nan, 759: nan, 760: nan, 761: nan, 762: nan, 763: nan, 764: nan, 765: nan, 766: nan, 767: nan, 768: nan, 769: nan, 770: nan, 771: nan, 772: nan, 773: nan, 774: nan, 775: nan, 776: nan, 777: nan, 778: nan, 779: nan, 780: nan, 781: nan, 782: nan, 783: nan, 784: nan, 785: nan, 786: nan, 787: nan, 788: nan, 789: nan, 790: nan, 791: nan, 792: nan, 793: nan, 794: nan, 795: nan, 796: nan, 797: nan, 798: nan, 799: nan, 800: nan, 801: nan, 802: nan, 803: nan, 804: nan, 805: nan, 806: nan, 807: nan, 808: nan, 809: nan, 810: nan, 811: nan, 812: nan, 813: nan, 814: nan, 815: nan, 816: nan, 817: nan, 818: nan, 819: nan, 820: nan, 821: nan, 822: nan, 823: nan, 824: nan, 825: nan, 826: nan, 827: nan, 828: nan, 829: nan, 830: nan, 831: nan, 832: nan, 833: nan, 834: nan, 835: nan, 836: nan, 837: nan, 838: nan, 839: nan, 840: nan, 841: nan, 842: nan, 843: nan, 844: nan, 845: nan, 846: nan, 847: nan, 848: nan, 849: nan, 850: nan, 851: nan, 852: nan, 853: nan, 854: nan, 855: nan, 856: nan, 857: nan, 858: nan, 859: nan, 860: nan, 861: nan, 862: nan, 863: nan, 864: nan, 865: nan, 866: nan, 867: nan, 868: nan, 869: nan, 870: nan, 871: nan, 872: nan, 873: nan, 874: nan, 875: nan, 876: nan, 877: nan, 878: nan, 879: nan, 880: nan, 881: nan, 882: nan, 883: nan, 884: nan, 885: nan, 886: nan, 887: nan, 888: nan, 889: nan, 890: nan, 891: nan, 892: nan, 893: nan, 894: nan, 895: nan, 896: nan, 897: nan, 898: nan, 899: nan, 900: nan, 901: nan, 902: nan, 903: nan, 904: nan, 905: nan, 906: nan, 907: nan, 908: nan, 909: nan, 910: nan, 911: nan, 912: nan, 913: nan, 914: nan, 915: nan, 916: nan, 917: nan, 918: nan, 919: nan, 920: nan, 921: nan, 922: nan, 923: nan, 924: nan, 925: nan, 926: nan, 927: nan, 928: nan, 929: nan, 930: nan, 931: nan, 932: nan, 933: nan, 934: nan, 935: nan, 936: nan, 937: nan, 938: nan, 939: nan, 940: nan, 941: nan, 942: nan, 943: nan, 944: nan, 945: nan, 946: nan, 947: nan, 948: nan, 949: nan, 950: nan, 951: nan, 952: nan, 953: nan, 954: nan, 955: nan, 956: nan, 957: nan, 958: nan, 959: nan, 960: nan, 961: nan, 962: nan, 963: nan, 964: nan, 965: nan, 966: nan, 967: nan, 968: nan, 969: nan, 970: nan, 971: nan, 972: nan, 973: nan, 974: nan, 975: nan, 976: nan, 977: nan, 978: nan, 979: nan, 980: nan, 981: nan, 982: nan, 983: nan, 984: nan, 985: nan, 986: nan, 987: nan, 988: nan, 989: nan, 990: nan, 991: nan, 992: nan, 993: nan, 994: nan, 995: nan, 996: nan, 997: nan, 998: nan, 999: nan, 1000: nan, 1001: nan, 1002: nan, 1003: nan, 1004: nan, 1005: nan, 1006: nan, 1007: nan, 1008: nan, 1009: nan, 1010: nan, 1011: nan, 1012: nan, 1013: nan, 1014: nan, 1015: nan, 1016: nan, 1017: nan, 1018: nan, 1019: nan, 1020: nan, 1021: nan, 1022: nan, 1023: nan, 1024: nan, 1025: nan, 1026: nan, 1027: nan, 1028: nan, 1029: nan, 1030: nan, 1031: nan, 1032: nan, 1033: nan, 1034: nan, 1035: nan, 1036: nan, 1037: nan, 1038: nan, 1039: nan, 1040: nan, 1041: nan, 1042: nan, 1043: nan, 1044: nan, 1045: nan, 1046: nan, 1047: nan, 1048: nan, 1049: nan, 1050: nan, 1051: nan, 1052: nan, 1053: nan, 1054: nan, 1055: nan, 1056: nan, 1057: nan, 1058: nan, 1059: nan, 1060: nan, 1061: nan, 1062: nan, 1063: nan, 1064: nan, 1065: nan, 1066: nan, 1067: nan, 1068: nan, 1069: nan, 1070: nan, 1071: nan, 1072: nan, 1073: nan, 1074: nan, 1075: nan, 1076: nan, 1077: nan, 1078: nan, 1079: nan, 1080: nan, 1081: nan, 1082: nan, 1083: nan, 1084: nan, 1085: nan, 1086: nan, 1087: nan, 1088: nan, 1089: nan, 1090: nan, 1091: nan, 1092: nan, 1093: nan, 1094: nan, 1095: nan, 1096: nan, 1097: nan, 1098: nan, 1099: nan, 1100: nan, 1101: nan, 1102: nan, 1103: nan, 1104: nan, 1105: nan, 1106: nan, 1107: nan, 1108: nan, 1109: nan, 1110: nan, 1111: nan, 1112: nan, 1113: nan, 1114: nan, 1115: nan, 1116: nan, 1117: nan, 1118: nan, 1119: nan, 1120: nan, 1121: nan, 1122: nan, 1123: nan, 1124: nan, 1125: nan, 1126: nan, 1127: nan, 1128: nan, 1129: nan, 1130: nan, 1131: nan, 1132: nan, 1133: nan, 1134: nan, 1135: nan, 1136: nan, 1137: nan, 1138: nan, 1139: nan, 1140: nan, 1141: nan, 1142: nan, 1143: nan, 1144: nan, 1145: nan, 1146: nan, 1147: nan, 1148: nan, 1149: nan, 1150: nan, 1151: nan, 1152: nan, 1153: nan, 1154: nan, 1155: nan, 1156: nan, 1157: nan, 1158: nan, 1159: nan, 1160: nan, 1161: nan, 1162: nan, 1163: nan, 1164: nan, 1165: nan, 1166: nan, 1167: nan, 1168: nan, 1169: nan, 1170: nan, 1171: nan, 1172: nan, 1173: nan, 1174: nan, 1175: nan, 1176: nan, 1177: nan, 1178: nan, 1179: nan, 1180: nan, 1181: nan, 1182: nan, 1183: nan, 1184: nan, 1185: nan, 1186: nan, 1187: nan, 1188: nan, 1189: nan, 1190: nan, 1191: nan, 1192: nan, 1193: nan, 1194: nan, 1195: nan, 1196: nan, 1197: nan, 1198: nan, 1199: nan, 1200: nan, 1201: nan, 1202: nan, 1203: nan, 1204: nan, 1205: nan, 1206: nan, 1207: nan, 1208: nan, 1209: nan, 1210: nan, 1211: nan, 1212: nan, 1213: nan, 1214: nan, 1215: nan, 1216: nan, 1217: nan, 1218: nan, 1219: nan, 1220: nan, 1221: nan, 1222: nan, 1223: nan, 1224: nan, 1225: nan, 1226: nan, 1227: nan, 1228: nan, 1229: nan, 1230: nan, 1231: nan, 1232: nan, 1233: nan, 1234: nan, 1235: nan, 1236: nan, 1237: nan, 1238: nan, 1239: nan, 1240: nan, 1241: nan, 1242: nan, 1243: nan, 1244: nan, 1245: nan, 1246: nan, 1247: nan, 1248: nan, 1249: nan, 1250: nan, 1251: nan, 1252: nan, 1253: nan, 1254: nan, 1255: nan, 1256: nan, 1257: nan, 1258: nan, 1259: nan, 1260: nan, 1261: nan, 1262: nan, 1263: nan, 1264: nan, 1265: nan, 1266: nan, 1267: nan, 1268: nan, 1269: nan, 1270: nan, 1271: nan, 1272: nan, 1273: nan, 1274: nan, 1275: nan, 1276: nan, 1277: nan, 1278: nan, 1279: nan, 1280: nan, 1281: nan, 1282: nan, 1283: nan, 1284: nan, 1285: nan, 1286: nan, 1287: nan, 1288: nan, 1289: nan, 1290: nan, 1291: nan, 1292: nan, 1293: nan, 1294: nan, 1295: nan, 1296: nan, 1297: nan, 1298: nan, 1299: nan, 1300: nan, 1301: nan, 1302: nan, 1303: nan, 1304: nan, 1305: nan, 1306: nan, 1307: nan, 1308: nan, 1309: nan, 1310: nan, 1311: nan, 1312: nan, 1313: nan, 1314: nan, 1315: nan, 1316: nan, 1317: nan, 1318: nan, 1319: nan, 1320: nan, 1321: nan, 1322: nan, 1323: nan, 1324: nan, 1325: nan, 1326: nan, 1327: nan, 1328: nan, 1329: nan, 1330: nan, 1331: nan, 1332: nan, 1333: nan, 1334: nan, 1335: nan, 1336: nan, 1337: nan, 1338: nan, 1339: nan, 1340: nan, 1341: nan, 1342: nan, 1343: nan, 1344: nan, 1345: nan, 1346: nan, 1347: nan, 1348: nan, 1349: nan, 1350: nan, 1351: nan, 1352: nan, 1353: nan, 1354: nan, 1355: nan, 1356: nan, 1357: nan, 1358: nan, 1359: nan, 1360: nan, 1361: nan, 1362: nan, 1363: nan, 1364: nan, 1365: nan, 1366: nan, 1367: nan, 1368: nan, 1369: nan, 1370: nan, 1371: nan, 1372: nan, 1373: nan, 1374: nan, 1375: nan, 1376: nan, 1377: nan, 1378: nan, 1379: nan, 1380: nan, 1381: nan, 1382: nan, 1383: nan, 1384: nan, 1385: nan, 1386: nan, 1387: nan, 1388: nan, 1389: nan, 1390: nan, 1391: nan, 1392: nan, 1393: nan, 1394: nan, 1395: nan, 1396: nan, 1397: nan, 1398: nan, 1399: nan, 1400: nan, 1401: nan, 1402: nan, 1403: nan, 1404: nan, 1405: nan, 1406: nan, 1407: nan, 1408: nan, 1409: nan, 1410: nan, 1411: nan, 1412: nan, 1413: nan, 1414: nan, 1415: nan, 1416: nan, 1417: nan, 1418: nan, 1419: nan, 1420: nan, 1421: nan, 1422: nan, 1423: nan, 1424: nan, 1425: nan, 1426: nan, 1427: nan, 1428: nan, 1429: nan, 1430: nan, 1431: nan, 1432: nan, 1433: nan, 1434: nan, 1435: nan, 1436: nan, 1437: nan, 1438: nan, 1439: nan, 1440: nan, 1441: nan, 1442: nan, 1443: nan, 1444: nan, 1445: nan, 1446: nan, 1447: nan, 1448: nan, 1449: nan, 1450: nan, 1451: nan, 1452: nan, 1453: nan, 1454: nan, 1455: nan, 1456: nan, 1457: nan, 1458: nan, 1459: nan, 1460: nan, 1461: nan, 1462: nan, 1463: nan, 1464: nan, 1465: nan, 1466: nan, 1467: nan, 1468: nan, 1469: nan, 1470: nan, 1471: nan, 1472: nan, 1473: nan, 1474: nan, 1475: nan, 1476: nan, 1477: nan, 1478: nan, 1479: nan, 1480: nan, 1481: nan, 1482: nan, 1483: nan, 1484: nan, 1485: nan, 1486: nan, 1487: nan, 1488: nan, 1489: nan, 1490: nan, 1491: nan, 1492: nan, 1493: nan, 1494: nan, 1495: nan, 1496: nan, 1497: nan, 1498: nan, 1499: nan, 1500: nan, 1501: nan, 1502: nan, 1503: nan, 1504: nan, 1505: nan, 1506: nan, 1507: nan, 1508: nan, 1509: nan, 1510: nan, 1511: nan, 1512: nan, 1513: nan, 1514: nan, 1515: nan, 1516: nan, 1517: nan, 1518: nan, 1519: nan, 1520: nan, 1521: nan, 1522: nan, 1523: nan, 1524: nan, 1525: nan, 1526: nan, 1527: nan, 1528: nan, 1529: nan, 1530: nan, 1531: nan, 1532: nan, 1533: nan, 1534: nan, 1535: nan, 1536: nan, 1537: nan, 1538: nan, 1539: nan, 1540: nan, 1541: nan, 1542: nan, 1543: nan, 1544: nan, 1545: nan, 1546: nan, 1547: nan, 1548: nan, 1549: nan, 1550: nan, 1551: nan, 1552: nan, 1553: nan, 1554: nan, 1555: nan, 1556: nan, 1557: nan, 1558: nan, 1559: nan, 1560: nan, 1561: nan, 1562: nan, 1563: nan, 1564: nan, 1565: nan, 1566: nan, 1567: nan, 1568: nan, 1569: nan, 1570: nan, 1571: nan, 1572: nan, 1573: nan, 1574: nan, 1575: nan, 1576: nan, 1577: nan, 1578: nan, 1579: nan, 1580: nan, 1581: nan, 1582: nan, 1583: nan, 1584: nan, 1585: nan, 1586: nan, 1587: nan, 1588: nan, 1589: nan, 1590: nan, 1591: nan, 1592: nan, 1593: nan, 1594: nan, 1595: nan, 1596: nan, 1597: nan, 1598: nan, 1599: nan, 1600: nan, 1601: nan, 1602: nan, 1603: nan, 1604: nan, 1605: nan, 1606: nan, 1607: nan, 1608: nan, 1609: nan, 1610: nan, 1611: nan, 1612: nan, 1613: nan, 1614: nan, 1615: nan, 1616: nan, 1617: nan, 1618: nan, 1619: nan, 1620: nan, 1621: nan, 1622: nan, 1623: nan, 1624: nan, 1625: nan, 1626: nan, 1627: nan, 1628: nan, 1629: nan, 1630: nan, 1631: nan, 1632: nan, 1633: nan, 1634: nan, 1635: nan, 1636: nan, 1637: nan, 1638: nan, 1639: nan, 1640: nan, 1641: nan, 1642: nan, 1643: nan, 1644: nan, 1645: nan, 1646: nan, 1647: nan, 1648: nan, 1649: nan, 1650: nan, 1651: nan, 1652: nan, 1653: nan, 1654: nan, 1655: nan, 1656: nan, 1657: nan, 1658: nan, 1659: nan, 1660: nan, 1661: nan, 1662: nan, 1663: nan, 1664: nan, 1665: nan, 1666: nan, 1667: nan, 1668: nan, 1669: nan, 1670: nan, 1671: nan, 1672: nan, 1673: nan, 1674: nan, 1675: nan, 1676: nan, 1677: nan, 1678: nan, 1679: nan, 1680: nan, 1681: nan, 1682: nan, 1683: nan, 1684: nan, 1685: nan, 1686: nan, 1687: nan, 1688: nan, 1689: nan, 1690: nan, 1691: nan, 1692: nan, 1693: nan, 1694: nan, 1695: nan, 1696: nan, 1697: nan, 1698: nan, 1699: nan, 1700: nan, 1701: nan, 1702: nan, 1703: nan, 1704: nan, 1705: nan, 1706: nan, 1707: nan, 1708: nan, 1709: nan, 1710: nan, 1711: nan, 1712: nan, 1713: nan, 1714: nan, 1715: nan, 1716: nan, 1717: nan, 1718: nan, 1719: nan, 1720: nan, 1721: nan, 1722: nan, 1723: nan, 1724: nan, 1725: nan, 1726: nan, 1727: nan, 1728: nan, 1729: nan, 1730: nan, 1731: nan, 1732: nan, 1733: nan, 1734: nan, 1735: nan, 1736: nan, 1737: nan, 1738: nan, 1739: nan, 1740: nan, 1741: nan, 1742: nan, 1743: nan, 1744: nan, 1745: nan, 1746: nan, 1747: nan, 1748: nan, 1749: nan, 1750: nan, 1751: nan, 1752: nan, 1753: nan, 1754: nan, 1755: nan, 1756: nan, 1757: nan, 1758: nan, 1759: nan, 1760: nan, 1761: nan, 1762: nan, 1763: nan, 1764: nan, 1765: nan, 1766: nan, 1767: nan, 1768: nan, 1769: nan, 1770: nan, 1771: nan, 1772: nan, 1773: nan, 1774: nan, 1775: nan, 1776: nan, 1777: nan, 1778: nan, 1779: nan, 1780: nan, 1781: nan, 1782: nan, 1783: nan, 1784: nan, 1785: nan, 1786: nan, 1787: nan, 1788: nan, 1789: nan, 1790: nan, 1791: nan, 1792: nan, 1793: nan, 1794: nan, 1795: nan, 1796: nan, 1797: nan, 1798: nan, 1799: nan, 1800: nan, 1801: nan, 1802: nan, 1803: nan, 1804: nan, 1805: nan, 1806: nan, 1807: nan, 1808: nan, 1809: nan, 1810: nan, 1811: nan, 1812: nan, 1813: nan, 1814: nan, 1815: nan, 1816: nan, 1817: nan, 1818: nan, 1819: nan, 1820: nan, 1821: nan, 1822: nan, 1823: nan, 1824: nan, 1825: nan, 1826: nan, 1827: nan, 1828: nan, 1829: nan, 1830: nan, 1831: nan, 1832: nan, 1833: nan, 1834: nan, 1835: nan, 1836: nan, 1837: nan, 1838: nan, 1839: nan, 1840: nan, 1841: nan, 1842: nan, 1843: nan, 1844: nan, 1845: nan, 1846: nan, 1847: nan, 1848: nan, 1849: nan, 1850: nan, 1851: nan, 1852: nan, 1853: nan, 1854: nan, 1855: nan, 1856: nan, 1857: nan, 1858: nan, 1859: nan, 1860: nan, 1861: nan, 1862: nan, 1863: nan, 1864: nan, 1865: nan, 1866: nan, 1867: nan, 1868: nan, 1869: nan, 1870: nan, 1871: nan, 1872: nan, 1873: nan, 1874: nan, 1875: nan, 1876: nan, 1877: nan, 1878: nan, 1879: nan, 1880: nan, 1881: nan, 1882: nan, 1883: nan, 1884: nan, 1885: nan, 1886: nan, 1887: nan, 1888: nan, 1889: nan, 1890: nan, 1891: nan, 1892: nan, 1893: nan, 1894: nan, 1895: nan, 1896: nan, 1897: nan, 1898: nan, 1899: nan, 1900: nan, 1901: nan, 1902: nan, 1903: nan, 1904: nan, 1905: nan, 1906: nan, 1907: nan, 1908: nan, 1909: nan, 1910: nan, 1911: nan, 1912: nan, 1913: nan, 1914: nan, 1915: nan, 1916: nan, 1917: nan, 1918: nan, 1919: nan, 1920: nan, 1921: nan, 1922: nan, 1923: nan, 1924: nan, 1925: nan, 1926: nan, 1927: nan, 1928: nan, 1929: nan, 1930: nan, 1931: nan, 1932: nan, 1933: nan, 1934: nan, 1935: nan, 1936: nan, 1937: nan, 1938: nan, 1939: nan, 1940: nan, 1941: nan, 1942: nan, 1943: nan, 1944: nan, 1945: nan, 1946: nan, 1947: nan, 1948: nan, 1949: nan, 1950: nan, 1951: nan, 1952: nan, 1953: nan, 1954: nan, 1955: nan, 1956: nan, 1957: nan, 1958: nan, 1959: nan, 1960: nan, 1961: nan, 1962: nan, 1963: nan, 1964: nan, 1965: nan, 1966: nan, 1967: nan, 1968: nan, 1969: nan, 1970: nan, 1971: nan, 1972: nan, 1973: nan, 1974: nan, 1975: nan, 1976: nan, 1977: nan, 1978: nan, 1979: nan, 1980: nan, 1981: nan, 1982: nan, 1983: nan, 1984: nan, 1985: nan, 1986: nan, 1987: nan, 1988: nan, 1989: nan, 1990: nan, 1991: nan, 1992: nan, 1993: nan, 1994: nan, 1995: nan, 1996: nan, 1997: nan, 1998: nan, 1999: nan, 2000: nan, 2001: nan, 2002: nan, 2003: nan, 2004: nan, 2005: nan, 2006: nan, 2007: nan, 2008: nan, 2009: nan, 2010: nan, 2011: nan, 2012: nan, 2013: nan, 2014: nan, 2015: nan, 2016: nan, 2017: nan, 2018: nan, 2019: nan, 2020: nan, 2021: nan, 2022: nan, 2023: nan, 2024: nan, 2025: nan, 2026: nan, 2027: nan, 2028: nan, 2029: nan, 2030: nan, 2031: nan, 2032: nan, 2033: nan, 2034: nan, 2035: nan, 2036: nan, 2037: nan, 2038: nan, 2039: nan, 2040: nan, 2041: nan, 2042: nan, 2043: nan, 2044: nan, 2045: nan, 2046: nan, 2047: nan, 2048: nan, 2049: nan, 2050: nan, 2051: nan, 2052: nan, 2053: nan, 2054: nan, 2055: nan, 2056: nan, 2057: nan, 2058: nan, 2059: nan, 2060: nan, 2061: nan, 2062: nan, 2063: nan, 2064: nan, 2065: nan, 2066: nan, 2067: nan, 2068: nan, 2069: nan, 2070: nan, 2071: nan, 2072: nan, 2073: nan, 2074: nan, 2075: nan, 2076: nan, 2077: nan, 2078: nan, 2079: nan, 2080: nan, 2081: nan, 2082: nan, 2083: nan, 2084: nan, 2085: nan, 2086: nan, 2087: nan, 2088: nan, 2089: nan, 2090: nan, 2091: nan, 2092: nan, 2093: nan, 2094: nan, 2095: nan, 2096: nan, 2097: nan, 2098: nan, 2099: nan, 2100: nan, 2101: nan, 2102: nan, 2103: nan, 2104: nan, 2105: nan, 2106: nan, 2107: nan, 2108: nan, 2109: nan, 2110: nan, 2111: nan, 2112: nan, 2113: nan, 2114: nan, 2115: nan, 2116: nan, 2117: nan, 2118: nan, 2119: nan, 2120: nan, 2121: nan, 2122: nan, 2123: nan, 2124: nan, 2125: nan, 2126: nan, 2127: nan, 2128: nan, 2129: nan, 2130: nan, 2131: nan, 2132: nan, 2133: nan, 2134: nan, 2135: nan, 2136: nan, 2137: nan, 2138: nan, 2139: nan, 2140: nan, 2141: nan, 2142: nan, 2143: nan, 2144: nan, 2145: nan, 2146: nan, 2147: nan, 2148: nan, 2149: nan, 2150: nan, 2151: nan, 2152: nan, 2153: nan, 2154: nan, 2155: nan, 2156: nan, 2157: nan, 2158: nan, 2159: nan, 2160: nan, 2161: nan, 2162: nan, 2163: nan, 2164: nan, 2165: nan, 2166: nan, 2167: nan, 2168: nan, 2169: nan, 2170: nan, 2171: nan, 2172: nan, 2173: nan, 2174: nan, 2175: nan, 2176: nan, 2177: nan, 2178: nan, 2179: nan, 2180: nan, 2181: nan, 2182: nan, 2183: nan, 2184: nan, 2185: nan, 2186: nan, 2187: nan, 2188: nan, 2189: nan, 2190: nan, 2191: nan, 2192: nan, 2193: nan, 2194: nan, 2195: nan, 2196: nan, 2197: nan, 2198: nan, 2199: nan, 2200: nan, 2201: nan, 2202: nan, 2203: nan, 2204: nan, 2205: nan, 2206: nan, 2207: nan, 2208: nan, 2209: nan, 2210: nan, 2211: nan, 2212: nan, 2213: nan, 2214: nan, 2215: nan, 2216: nan, 2217: nan, 2218: nan, 2219: nan, 2220: nan, 2221: nan, 2222: nan, 2223: nan, 2224: nan, 2225: nan, 2226: nan, 2227: nan, 2228: nan, 2229: nan, 2230: nan, 2231: nan, 2232: nan, 2233: nan, 2234: nan, 2235: nan, 2236: nan, 2237: nan, 2238: nan, 2239: nan, 2240: nan, 2241: nan, 2242: nan, 2243: nan, 2244: nan, 2245: nan, 2246: nan, 2247: nan, 2248: nan, 2249: nan, 2250: nan, 2251: nan, 2252: nan, 2253: nan, 2254: nan, 2255: nan, 2256: nan, 2257: nan, 2258: nan, 2259: nan, 2260: nan, 2261: nan, 2262: nan, 2263: nan, 2264: nan, 2265: nan, 2266: nan, 2267: nan, 2268: nan, 2269: nan, 2270: nan, 2271: nan, 2272: nan, 2273: nan, 2274: nan, 2275: nan, 2276: nan, 2277: nan, 2278: nan, 2279: nan, 2280: nan, 2281: nan, 2282: nan, 2283: nan, 2284: nan, 2285: nan, 2286: nan, 2287: nan, 2288: nan, 2289: nan, 2290: nan, 2291: nan, 2292: nan, 2293: nan, 2294: nan, 2295: nan, 2296: nan, 2297: nan, 2298: nan, 2299: nan, 2300: nan, 2301: nan, 2302: nan, 2303: nan, 2304: nan, 2305: nan, 2306: nan, 2307: nan, 2308: nan, 2309: nan, 2310: nan, 2311: nan, 2312: nan, 2313: nan, 2314: nan, 2315: nan, 2316: nan, 2317: nan, 2318: nan, 2319: nan, 2320: nan, 2321: nan, 2322: nan, 2323: nan, 2324: nan, 2325: nan, 2326: nan, 2327: nan, 2328: nan, 2329: nan, 2330: nan, 2331: nan, 2332: nan, 2333: nan, 2334: nan, 2335: nan, 2336: nan, 2337: nan, 2338: nan, 2339: nan, 2340: nan, 2341: nan, 2342: nan, 2343: nan, 2344: nan, 2345: nan, 2346: nan, 2347: nan, 2348: nan, 2349: nan, 2350: nan, 2351: nan, 2352: nan, 2353: nan, 2354: nan, 2355: nan, 2356: nan, 2357: nan, 2358: nan, 2359: nan, 2360: nan, 2361: nan, 2362: nan, 2363: nan, 2364: nan, 2365: nan, 2366: nan, 2367: nan, 2368: nan, 2369: nan, 2370: nan, 2371: nan, 2372: nan, 2373: nan, 2374: nan, 2375: nan, 2376: nan, 2377: nan, 2378: nan, 2379: nan, 2380: nan, 2381: nan, 2382: nan, 2383: nan, 2384: nan, 2385: nan, 2386: nan, 2387: nan, 2388: nan, 2389: nan, 2390: nan, 2391: nan, 2392: nan, 2393: nan, 2394: nan, 2395: nan, 2396: nan, 2397: nan, 2398: nan, 2399: nan, 2400: nan, 2401: nan, 2402: nan, 2403: nan, 2404: nan, 2405: nan, 2406: nan, 2407: nan, 2408: nan, 2409: nan, 2410: nan, 2411: nan, 2412: nan, 2413: nan, 2414: nan, 2415: nan, 2416: nan, 2417: nan, 2418: nan, 2419: nan, 2420: nan, 2421: nan, 2422: nan, 2423: nan, 2424: nan, 2425: nan, 2426: nan, 2427: nan, 2428: nan, 2429: nan, 2430: nan, 2431: nan, 2432: nan, 2433: nan, 2434: nan, 2435: nan, 2436: nan, 2437: nan, 2438: nan, 2439: nan, 2440: nan, 2441: nan, 2442: nan, 2443: nan, 2444: nan, 2445: nan, 2446: nan, 2447: nan, 2448: nan, 2449: nan, 2450: nan, 2451: nan, 2452: nan, 2453: nan, 2454: nan, 2455: nan, 2456: nan, 2457: nan, 2458: nan, 2459: nan, 2460: nan, 2461: nan, 2462: nan, 2463: nan, 2464: nan, 2465: nan, 2466: nan, 2467: nan, 2468: nan, 2469: nan, 2470: nan, 2471: nan, 2472: nan, 2473: nan, 2474: nan, 2475: nan, 2476: nan, 2477: nan, 2478: nan, 2479: nan, 2480: nan, 2481: nan, 2482: nan, 2483: nan, 2484: nan, 2485: nan, 2486: nan, 2487: nan, 2488: nan, 2489: nan, 2490: nan, 2491: nan, 2492: nan, 2493: nan, 2494: nan, 2495: nan, 2496: nan, 2497: nan, 2498: nan, 2499: nan, 2500: nan, 2501: nan, 2502: nan, 2503: nan, 2504: nan, 2505: nan, 2506: nan, 2507: nan, 2508: nan, 2509: nan, 2510: nan, 2511: nan, 2512: nan, 2513: nan, 2514: nan, 2515: nan, 2516: nan, 2517: nan, 2518: nan, 2519: nan, 2520: nan, 2521: nan, 2522: nan, 2523: nan, 2524: nan, 2525: nan, 2526: nan, 2527: nan, 2528: nan, 2529: nan, 2530: nan, 2531: nan, 2532: nan, 2533: nan, 2534: nan, 2535: nan, 2536: nan, 2537: nan, 2538: nan, 2539: nan, 2540: nan, 2541: nan, 2542: nan, 2543: nan, 2544: nan, 2545: nan, 2546: nan, 2547: nan, 2548: nan, 2549: nan, 2550: nan, 2551: nan, 2552: nan, 2553: nan, 2554: nan, 2555: nan, 2556: nan, 2557: nan, 2558: nan, 2559: nan, 2560: nan, 2561: nan, 2562: nan, 2563: nan, 2564: nan, 2565: nan, 2566: nan, 2567: nan, 2568: nan, 2569: nan, 2570: nan, 2571: nan, 2572: nan, 2573: nan, 2574: nan, 2575: nan, 2576: nan, 2577: nan, 2578: nan, 2579: nan, 2580: nan, 2581: nan, 2582: nan, 2583: nan, 2584: nan, 2585: nan, 2586: nan, 2587: nan, 2588: nan, 2589: nan, 2590: nan, 2591: nan, 2592: nan, 2593: nan, 2594: nan, 2595: nan, 2596: nan, 2597: nan, 2598: nan, 2599: nan, 2600: nan, 2601: nan, 2602: nan, 2603: nan, 2604: nan, 2605: nan, 2606: nan, 2607: nan, 2608: nan, 2609: nan, 2610: nan, 2611: nan, 2612: nan, 2613: nan, 2614: nan, 2615: nan, 2616: nan, 2617: nan, 2618: nan, 2619: nan, 2620: nan, 2621: nan, 2622: nan, 2623: nan, 2624: nan, 2625: nan, 2626: nan, 2627: nan, 2628: nan, 2629: nan, 2630: nan, 2631: nan, 2632: nan, 2633: nan, 2634: nan, 2635: nan, 2636: nan, 2637: nan, 2638: nan, 2639: nan, 2640: nan, 2641: nan, 2642: nan, 2643: nan, 2644: nan, 2645: nan, 2646: nan, 2647: nan, 2648: nan, 2649: nan, 2650: nan, 2651: nan, 2652: nan, 2653: nan, 2654: nan, 2655: nan, 2656: nan, 2657: nan, 2658: nan, 2659: nan, 2660: nan, 2661: nan, 2662: nan, 2663: nan, 2664: nan, 2665: nan, 2666: nan, 2667: nan, 2668: nan, 2669: nan, 2670: nan, 2671: nan, 2672: nan, 2673: nan, 2674: nan, 2675: nan, 2676: nan, 2677: nan, 2678: nan, 2679: nan, 2680: nan, 2681: nan, 2682: nan, 2683: nan, 2684: nan, 2685: nan, 2686: nan, 2687: nan, 2688: nan, 2689: nan, 2690: nan, 2691: nan, 2692: nan, 2693: nan, 2694: nan, 2695: nan, 2696: nan, 2697: nan, 2698: nan, 2699: nan, 2700: nan, 2701: nan, 2702: nan, 2703: nan, 2704: nan, 2705: nan, 2706: nan, 2707: nan, 2708: nan, 2709: nan, 2710: nan, 2711: nan, 2712: nan, 2713: nan, 2714: nan, 2715: nan, 2716: nan, 2717: nan, 2718: nan, 2719: nan, 2720: nan, 2721: nan, 2722: nan, 2723: nan, 2724: nan, 2725: nan, 2726: nan, 2727: nan, 2728: nan, 2729: nan, 2730: nan, 2731: nan, 2732: nan, 2733: nan, 2734: nan, 2735: nan, 2736: nan, 2737: nan, 2738: nan, 2739: nan, 2740: nan, 2741: nan, 2742: nan, 2743: nan, 2744: nan, 2745: nan, 2746: nan, 2747: nan, 2748: nan, 2749: nan, 2750: nan, 2751: nan, 2752: nan, 2753: nan, 2754: nan, 2755: nan, 2756: nan, 2757: nan, 2758: nan, 2759: nan, 2760: nan, 2761: nan, 2762: nan, 2763: nan, 2764: nan, 2765: nan, 2766: nan, 2767: nan, 2768: nan, 2769: nan, 2770: nan, 2771: nan, 2772: nan, 2773: nan, 2774: nan, 2775: nan, 2776: nan, 2777: nan, 2778: nan, 2779: nan, 2780: nan, 2781: nan, 2782: nan, 2783: nan, 2784: nan, 2785: nan, 2786: nan, 2787: nan, 2788: nan, 2789: nan, 2790: nan, 2791: nan, 2792: nan, 2793: nan, 2794: nan, 2795: nan, 2796: nan, 2797: nan, 2798: nan, 2799: nan, 2800: nan, 2801: nan, 2802: nan, 2803: nan, 2804: nan, 2805: nan, 2806: nan, 2807: nan, 2808: nan, 2809: nan, 2810: nan, 2811: nan, 2812: nan, 2813: nan, 2814: nan, 2815: nan, 2816: nan, 2817: nan, 2818: nan, 2819: nan, 2820: nan, 2821: nan, 2822: nan, 2823: nan, 2824: nan, 2825: nan, 2826: nan, 2827: nan, 2828: nan, 2829: nan, 2830: nan, 2831: nan, 2832: nan, 2833: nan, 2834: nan, 2835: nan, 2836: nan, 2837: nan, 2838: nan, 2839: nan, 2840: nan, 2841: nan, 2842: nan, 2843: nan, 2844: nan, 2845: nan, 2846: nan, 2847: nan, 2848: nan, 2849: nan, 2850: nan, 2851: nan, 2852: nan, 2853: nan, 2854: nan, 2855: nan, 2856: nan, 2857: nan, 2858: nan, 2859: nan, 2860: nan, 2861: nan, 2862: nan, 2863: nan, 2864: nan, 2865: nan, 2866: nan, 2867: nan, 2868: nan, 2869: nan, 2870: nan, 2871: nan, 2872: nan, 2873: nan, 2874: nan, 2875: nan, 2876: nan, 2877: nan, 2878: nan, 2879: nan, 2880: nan, 2881: nan, 2882: nan, 2883: nan, 2884: nan, 2885: nan, 2886: nan, 2887: nan, 2888: nan, 2889: nan, 2890: nan, 2891: nan, 2892: nan, 2893: nan, 2894: nan, 2895: nan, 2896: nan, 2897: nan, 2898: nan, 2899: nan, 2900: nan, 2901: nan, 2902: nan, 2903: nan, 2904: nan, 2905: nan, 2906: nan, 2907: nan, 2908: nan, 2909: nan, 2910: nan, 2911: nan, 2912: nan, 2913: nan, 2914: nan, 2915: nan, 2916: nan, 2917: nan, 2918: nan, 2919: nan, 2920: nan, 2921: nan, 2922: nan, 2923: nan, 2924: nan, 2925: nan, 2926: nan, 2927: nan, 2928: nan, 2929: nan, 2930: nan, 2931: nan, 2932: nan, 2933: nan, 2934: nan, 2935: nan, 2936: nan, 2937: nan, 2938: nan, 2939: nan, 2940: nan, 2941: nan, 2942: nan, 2943: nan, 2944: nan, 2945: nan, 2946: nan, 2947: nan, 2948: nan, 2949: nan, 2950: nan, 2951: nan, 2952: nan, 2953: nan, 2954: nan, 2955: nan, 2956: nan, 2957: nan, 2958: nan, 2959: nan, 2960: nan, 2961: nan, 2962: nan, 2963: nan, 2964: nan, 2965: nan, 2966: nan, 2967: nan, 2968: nan, 2969: nan, 2970: nan, 2971: nan, 2972: nan, 2973: nan, 2974: nan, 2975: nan, 2976: nan, 2977: nan, 2978: nan, 2979: nan, 2980: nan, 2981: nan, 2982: nan, 2983: nan, 2984: nan, 2985: nan, 2986: nan, 2987: nan, 2988: nan, 2989: nan, 2990: nan, 2991: nan, 2992: nan, 2993: nan, 2994: nan, 2995: nan, 2996: nan, 2997: nan, 2998: nan, 2999: nan, 3000: nan, 3001: nan, 3002: nan, 3003: nan, 3004: nan, 3005: nan, 3006: nan, 3007: nan, 3008: nan, 3009: nan, 3010: nan, 3011: nan, 3012: nan, 3013: nan, 3014: nan, 3015: nan, 3016: nan, 3017: nan, 3018: nan, 3019: nan, 3020: nan, 3021: nan, 3022: nan, 3023: nan, 3024: nan, 3025: nan, 3026: nan, 3027: nan, 3028: nan, 3029: nan, 3030: nan, 3031: nan, 3032: nan, 3033: nan, 3034: nan, 3035: nan, 3036: nan, 3037: nan, 3038: nan, 3039: nan, 3040: nan, 3041: nan, 3042: nan, 3043: nan, 3044: nan, 3045: nan, 3046: nan, 3047: nan, 3048: nan, 3049: nan, 3050: nan, 3051: nan, 3052: nan, 3053: nan, 3054: nan, 3055: nan, 3056: nan, 3057: nan, 3058: nan, 3059: nan, 3060: nan, 3061: nan, 3062: nan, 3063: nan, 3064: nan, 3065: nan, 3066: nan, 3067: nan, 3068: nan, 3069: nan, 3070: nan, 3071: nan, 3072: nan, 3073: nan, 3074: nan, 3075: nan, 3076: nan, 3077: nan, 3078: nan, 3079: nan, 3080: nan, 3081: nan, 3082: nan, 3083: nan, 3084: nan, 3085: nan, 3086: nan, 3087: nan, 3088: nan, 3089: nan, 3090: nan, 3091: nan, 3092: nan, 3093: nan, 3094: nan, 3095: nan, 3096: nan, 3097: nan, 3098: nan, 3099: nan, 3100: nan, 3101: nan, 3102: nan, 3103: nan, 3104: nan, 3105: nan, 3106: nan, 3107: nan, 3108: nan, 3109: nan, 3110: nan, 3111: nan, 3112: nan, 3113: nan, 3114: nan, 3115: nan, 3116: nan, 3117: nan, 3118: nan, 3119: nan, 3120: nan, 3121: nan, 3122: nan, 3123: nan, 3124: nan, 3125: nan, 3126: nan, 3127: nan, 3128: nan, 3129: nan, 3130: nan, 3131: nan, 3132: nan, 3133: nan, 3134: nan, 3135: nan, 3136: nan, 3137: nan, 3138: nan, 3139: nan, 3140: nan, 3141: nan, 3142: nan, 3143: nan, 3144: nan, 3145: nan, 3146: nan, 3147: nan, 3148: nan, 3149: nan, 3150: nan, 3151: nan, 3152: nan, 3153: nan, 3154: nan, 3155: nan, 3156: nan, 3157: nan, 3158: nan, 3159: nan, 3160: nan, 3161: nan, 3162: nan, 3163: nan, 3164: nan, 3165: nan, 3166: nan, 3167: nan, 3168: nan, 3169: nan, 3170: nan, 3171: nan, 3172: nan, 3173: nan, 3174: nan, 3175: nan, 3176: nan, 3177: nan, 3178: nan, 3179: nan, 3180: nan, 3181: nan, 3182: nan, 3183: nan, 3184: nan, 3185: nan, 3186: nan, 3187: nan, 3188: nan, 3189: nan, 3190: nan, 3191: nan, 3192: nan, 3193: nan, 3194: nan, 3195: nan, 3196: nan, 3197: nan, 3198: nan, 3199: nan, 3200: nan, 3201: nan, 3202: nan, 3203: nan, 3204: nan, 3205: nan, 3206: nan, 3207: nan, 3208: nan, 3209: nan, 3210: nan, 3211: nan, 3212: nan, 3213: nan, 3214: nan, 3215: nan, 3216: nan, 3217: nan, 3218: nan, 3219: nan, 3220: nan, 3221: nan, 3222: nan, 3223: nan, 3224: nan, 3225: nan, 3226: nan, 3227: nan, 3228: nan, 3229: nan, 3230: nan, 3231: nan, 3232: nan, 3233: nan, 3234: nan, 3235: nan, 3236: nan, 3237: nan, 3238: nan, 3239: nan, 3240: nan, 3241: nan, 3242: nan, 3243: nan, 3244: nan, 3245: nan, 3246: nan, 3247: nan, 3248: nan, 3249: nan, 3250: nan, 3251: nan, 3252: nan, 3253: nan, 3254: nan, 3255: nan, 3256: nan, 3257: nan, 3258: nan, 3259: nan, 3260: nan, 3261: nan, 3262: nan, 3263: nan, 3264: nan, 3265: nan, 3266: nan, 3267: nan, 3268: nan, 3269: nan, 3270: nan, 3271: nan, 3272: nan, 3273: nan, 3274: nan, 3275: nan, 3276: nan, 3277: nan, 3278: nan, 3279: nan, 3280: nan, 3281: nan, 3282: nan, 3283: nan, 3284: nan, 3285: nan, 3286: nan, 3287: nan, 3288: nan, 3289: nan, 3290: nan, 3291: nan, 3292: nan, 3293: nan, 3294: nan, 3295: nan, 3296: nan, 3297: nan, 3298: nan, 3299: nan, 3300: nan, 3301: nan, 3302: nan, 3303: nan, 3304: nan, 3305: nan, 3306: nan, 3307: nan, 3308: nan, 3309: nan, 3310: nan, 3311: nan, 3312: nan, 3313: nan, 3314: nan, 3315: nan, 3316: nan, 3317: nan, 3318: nan, 3319: nan, 3320: nan, 3321: nan, 3322: nan, 3323: nan, 3324: nan, 3325: nan, 3326: nan, 3327: nan, 3328: nan, 3329: nan, 3330: nan, 3331: nan, 3332: nan, 3333: nan, 3334: nan, 3335: nan, 3336: nan, 3337: nan, 3338: nan, 3339: nan, 3340: nan, 3341: nan, 3342: nan, 3343: nan, 3344: nan, 3345: nan, 3346: nan, 3347: nan, 3348: nan, 3349: nan, 3350: nan, 3351: nan, 3352: nan, 3353: nan, 3354: nan, 3355: nan, 3356: nan, 3357: nan, 3358: nan, 3359: nan, 3360: nan, 3361: nan, 3362: nan, 3363: nan, 3364: nan, 3365: nan, 3366: nan, 3367: nan, 3368: nan, 3369: nan, 3370: nan, 3371: nan, 3372: nan, 3373: nan, 3374: nan, 3375: nan, 3376: nan, 3377: nan, 3378: nan, 3379: nan, 3380: nan, 3381: nan, 3382: nan, 3383: nan, 3384: nan, 3385: nan, 3386: nan, 3387: nan, 3388: nan, 3389: nan, 3390: nan, 3391: nan, 3392: nan, 3393: nan, 3394: nan, 3395: nan, 3396: nan, 3397: nan, 3398: nan, 3399: nan, 3400: nan, 3401: nan, 3402: nan, 3403: nan, 3404: nan, 3405: nan, 3406: nan, 3407: nan, 3408: nan, 3409: nan, 3410: nan, 3411: nan, 3412: nan, 3413: nan, 3414: nan, 3415: nan, 3416: nan, 3417: nan, 3418: nan, 3419: nan, 3420: nan, 3421: nan, 3422: nan, 3423: nan, 3424: nan, 3425: nan, 3426: nan, 3427: nan, 3428: nan, 3429: nan, 3430: nan, 3431: nan, 3432: nan, 3433: nan, 3434: nan, 3435: nan, 3436: nan, 3437: nan, 3438: nan, 3439: nan, 3440: nan, 3441: nan, 3442: nan, 3443: nan, 3444: nan, 3445: nan, 3446: nan, 3447: nan, 3448: nan, 3449: nan, 3450: nan, 3451: nan, 3452: nan, 3453: nan, 3454: nan, 3455: nan, 3456: nan, 3457: nan, 3458: nan, 3459: nan, 3460: nan, 3461: nan, 3462: nan, 3463: nan, 3464: nan, 3465: nan, 3466: nan, 3467: nan, 3468: nan, 3469: nan, 3470: nan, 3471: nan, 3472: nan, 3473: nan, 3474: nan, 3475: nan, 3476: nan, 3477: nan, 3478: nan, 3479: nan, 3480: nan, 3481: nan, 3482: nan, 3483: nan, 3484: nan, 3485: nan, 3486: nan, 3487: nan, 3488: nan, 3489: nan, 3490: nan, 3491: nan, 3492: nan, 3493: nan, 3494: nan, 3495: nan, 3496: nan, 3497: nan, 3498: nan, 3499: nan, 3500: nan, 3501: nan, 3502: nan, 3503: nan, 3504: nan, 3505: nan, 3506: nan, 3507: nan, 3508: nan, 3509: nan, 3510: nan, 3511: nan, 3512: nan, 3513: nan, 3514: nan, 3515: nan, 3516: nan, 3517: nan, 3518: nan, 3519: nan, 3520: nan, 3521: nan, 3522: nan, 3523: nan, 3524: nan, 3525: nan, 3526: nan, 3527: nan, 3528: nan, 3529: nan, 3530: nan, 3531: nan, 3532: nan, 3533: nan, 3534: nan, 3535: nan, 3536: nan, 3537: nan, 3538: nan, 3539: nan, 3540: nan, 3541: nan, 3542: nan, 3543: nan, 3544: nan, 3545: nan, 3546: nan, 3547: nan, 3548: nan, 3549: nan, 3550: nan, 3551: nan, 3552: nan, 3553: nan, 3554: nan, 3555: nan, 3556: nan, 3557: nan, 3558: nan, 3559: nan, 3560: nan, 3561: nan, 3562: nan, 3563: nan, 3564: nan, 3565: nan, 3566: nan, 3567: nan, 3568: nan, 3569: nan, 3570: nan, 3571: nan, 3572: nan, 3573: nan, 3574: nan, 3575: nan, 3576: nan, 3577: nan, 3578: nan, 3579: nan, 3580: nan, 3581: nan, 3582: nan, 3583: nan, 3584: nan, 3585: nan, 3586: nan, 3587: nan, 3588: nan, 3589: nan, 3590: nan, 3591: nan, 3592: nan, 3593: nan, 3594: nan, 3595: nan, 3596: nan, 3597: nan, 3598: nan, 3599: nan, 3600: nan, 3601: nan, 3602: nan, 3603: nan, 3604: nan, 3605: nan, 3606: nan, 3607: nan, 3608: nan, 3609: nan, 3610: nan, 3611: nan, 3612: nan, 3613: nan, 3614: nan, 3615: nan, 3616: nan, 3617: nan, 3618: nan, 3619: nan, 3620: nan, 3621: nan, 3622: nan, 3623: nan, 3624: nan, 3625: nan, 3626: nan, 3627: nan, 3628: nan, 3629: nan, 3630: nan, 3631: nan, 3632: nan, 3633: nan, 3634: nan, 3635: nan, 3636: nan, 3637: nan, 3638: nan, 3639: nan, 3640: nan, 3641: nan, 3642: nan, 3643: nan, 3644: nan, 3645: nan, 3646: nan, 3647: nan, 3648: nan, 3649: nan, 3650: nan, 3651: nan, 3652: nan, 3653: nan, 3654: nan, 3655: nan, 3656: nan, 3657: nan, 3658: nan, 3659: nan, 3660: nan, 3661: nan, 3662: nan, 3663: nan, 3664: nan, 3665: nan, 3666: nan, 3667: nan, 3668: nan, 3669: nan, 3670: nan, 3671: nan, 3672: nan, 3673: nan, 3674: nan, 3675: nan, 3676: nan, 3677: nan, 3678: nan, 3679: nan, 3680: nan, 3681: nan, 3682: nan, 3683: nan, 3684: nan, 3685: nan, 3686: nan, 3687: nan, 3688: nan, 3689: nan, 3690: nan, 3691: nan, 3692: nan, 3693: nan, 3694: nan, 3695: nan, 3696: nan, 3697: nan, 3698: nan, 3699: nan, 3700: nan, 3701: nan, 3702: nan, 3703: nan, 3704: nan, 3705: nan, 3706: nan, 3707: nan, 3708: nan, 3709: nan, 3710: nan, 3711: nan, 3712: nan, 3713: nan, 3714: nan, 3715: nan, 3716: nan, 3717: nan, 3718: nan, 3719: nan, 3720: nan, 3721: nan, 3722: nan, 3723: nan, 3724: nan, 3725: nan, 3726: nan, 3727: nan, 3728: nan, 3729: nan, 3730: nan, 3731: nan, 3732: nan, 3733: nan, 3734: nan, 3735: nan, 3736: nan, 3737: nan, 3738: nan, 3739: nan, 3740: nan, 3741: nan, 3742: nan, 3743: nan, 3744: nan, 3745: nan, 3746: nan, 3747: nan, 3748: nan, 3749: nan, 3750: nan, 3751: nan, 3752: nan, 3753: nan, 3754: nan, 3755: nan, 3756: nan, 3757: nan, 3758: nan, 3759: nan, 3760: nan, 3761: nan, 3762: nan, 3763: nan, 3764: nan, 3765: nan, 3766: nan, 3767: nan, 3768: nan, 3769: nan, 3770: nan, 3771: nan, 3772: nan, 3773: nan, 3774: nan, 3775: nan, 3776: nan, 3777: nan, 3778: nan, 3779: nan, 3780: nan, 3781: nan, 3782: nan, 3783: nan, 3784: nan, 3785: nan, 3786: nan, 3787: nan, 3788: nan, 3789: nan, 3790: nan, 3791: nan, 3792: nan, 3793: nan, 3794: nan, 3795: nan, 3796: nan, 3797: nan, 3798: nan, 3799: nan, 3800: nan, 3801: nan, 3802: nan, 3803: nan, 3804: nan, 3805: nan, 3806: nan, 3807: nan, 3808: nan, 3809: nan, 3810: nan, 3811: nan, 3812: nan, 3813: nan, 3814: nan, 3815: nan, 3816: nan, 3817: nan, 3818: nan, 3819: nan, 3820: nan, 3821: nan, 3822: nan, 3823: nan, 3824: nan, 3825: nan, 3826: nan, 3827: nan, 3828: nan, 3829: nan, 3830: nan, 3831: nan, 3832: nan, 3833: nan, 3834: nan, 3835: nan, 3836: nan, 3837: nan, 3838: nan, 3839: nan, 3840: nan, 3841: nan, 3842: nan, 3843: nan, 3844: nan, 3845: nan, 3846: nan, 3847: nan, 3848: nan, 3849: nan, 3850: nan, 3851: nan, 3852: nan, 3853: nan, 3854: nan, 3855: nan, 3856: nan, 3857: nan, 3858: nan, 3859: nan, 3860: nan, 3861: nan, 3862: nan, 3863: nan, 3864: nan, 3865: nan, 3866: nan, 3867: nan, 3868: nan, 3869: nan, 3870: nan, 3871: nan, 3872: nan, 3873: nan, 3874: nan, 3875: nan, 3876: nan, 3877: nan, 3878: nan, 3879: nan, 3880: nan, 3881: nan, 3882: nan, 3883: nan, 3884: nan, 3885: nan, 3886: nan, 3887: nan, 3888: nan, 3889: nan, 3890: nan, 3891: nan, 3892: nan, 3893: nan, 3894: nan, 3895: nan, 3896: nan, 3897: nan, 3898: nan, 3899: nan, 3900: nan, 3901: nan, 3902: nan, 3903: nan, 3904: nan, 3905: nan, 3906: nan, 3907: nan, 3908: nan, 3909: nan, 3910: nan, 3911: nan, 3912: nan, 3913: nan, 3914: nan, 3915: nan, 3916: nan, 3917: nan, 3918: nan, 3919: nan, 3920: nan, 3921: nan, 3922: nan, 3923: nan, 3924: nan, 3925: nan, 3926: nan, 3927: nan, 3928: nan, 3929: nan, 3930: nan, 3931: nan, 3932: nan, 3933: nan, 3934: nan, 3935: nan, 3936: nan, 3937: nan, 3938: nan, 3939: nan, 3940: nan, 3941: nan, 3942: nan, 3943: nan, 3944: nan, 3945: nan, 3946: nan, 3947: nan, 3948: nan, 3949: nan, 3950: nan, 3951: nan, 3952: nan, 3953: nan, 3954: nan, 3955: nan, 3956: nan, 3957: nan, 3958: nan, 3959: nan, 3960: nan, 3961: nan, 3962: nan, 3963: nan, 3964: nan, 3965: nan, 3966: nan, 3967: nan, 3968: nan, 3969: nan, 3970: nan, 3971: nan, 3972: nan, 3973: nan, 3974: nan, 3975: nan, 3976: nan, 3977: nan, 3978: nan, 3979: nan, 3980: nan, 3981: nan, 3982: nan, 3983: nan, 3984: nan, 3985: nan, 3986: nan, 3987: nan, 3988: nan, 3989: nan, 3990: nan, 3991: nan, 3992: nan, 3993: nan, 3994: nan, 3995: nan, 3996: nan, 3997: nan, 3998: nan, 3999: nan, 4000: nan, 4001: nan, 4002: nan, 4003: nan, 4004: nan, 4005: nan, 4006: nan, 4007: nan, 4008: nan, 4009: nan, 4010: nan, 4011: nan, 4012: nan, 4013: nan, 4014: nan, 4015: nan, 4016: nan, 4017: nan, 4018: nan, 4019: nan, 4020: nan, 4021: nan, 4022: nan, 4023: nan, 4024: nan, 4025: nan, 4026: nan, 4027: nan, 4028: nan, 4029: nan, 4030: nan, 4031: nan, 4032: nan, 4033: nan, 4034: nan, 4035: nan, 4036: nan, 4037: nan, 4038: nan, 4039: nan, 4040: nan, 4041: nan, 4042: nan, 4043: nan, 4044: nan, 4045: nan, 4046: nan, 4047: nan, 4048: nan, 4049: nan, 4050: nan, 4051: nan, 4052: nan, 4053: nan, 4054: nan, 4055: nan, 4056: nan, 4057: nan, 4058: nan, 4059: nan, 4060: nan, 4061: nan, 4062: nan, 4063: nan, 4064: nan, 4065: nan, 4066: nan, 4067: nan, 4068: nan, 4069: nan, 4070: nan, 4071: nan, 4072: nan, 4073: nan, 4074: nan, 4075: nan, 4076: nan, 4077: nan, 4078: nan, 4079: nan, 4080: nan, 4081: nan, 4082: nan, 4083: nan, 4084: nan, 4085: nan, 4086: nan, 4087: nan, 4088: nan, 4089: nan, 4090: nan, 4091: nan, 4092: nan, 4093: nan, 4094: nan, 4095: nan, 4096: nan, 4097: nan, 4098: nan, 4099: nan, 4100: nan, 4101: nan, 4102: nan, 4103: nan, 4104: nan, 4105: nan, 4106: nan, 4107: nan, 4108: nan, 4109: nan, 4110: nan, 4111: nan, 4112: nan, 4113: nan, 4114: nan, 4115: nan, 4116: nan, 4117: nan, 4118: nan, 4119: nan, 4120: nan, 4121: nan, 4122: nan, 4123: nan, 4124: nan, 4125: nan, 4126: nan, 4127: nan, 4128: nan, 4129: nan, 4130: nan, 4131: nan, 4132: nan, 4133: nan, 4134: nan, 4135: nan, 4136: nan, 4137: nan, 4138: nan, 4139: nan, 4140: nan, 4141: nan, 4142: nan, 4143: nan, 4144: nan, 4145: nan, 4146: nan, 4147: nan, 4148: nan, 4149: nan, 4150: nan, 4151: nan, 4152: nan, 4153: nan, 4154: nan, 4155: nan, 4156: nan, 4157: nan, 4158: nan, 4159: nan, 4160: nan, 4161: nan, 4162: nan, 4163: nan, 4164: nan, 4165: nan, 4166: nan, 4167: nan, 4168: nan, 4169: nan, 4170: nan, 4171: nan, 4172: nan, 4173: nan, 4174: nan, 4175: nan, 4176: nan, 4177: nan, 4178: nan, 4179: nan, 4180: nan, 4181: nan, 4182: nan, 4183: nan, 4184: nan, 4185: nan, 4186: nan, 4187: nan, 4188: nan, 4189: nan, 4190: nan, 4191: nan, 4192: nan, 4193: nan, 4194: nan, 4195: nan, 4196: nan, 4197: nan, 4198: nan, 4199: nan, 4200: nan, 4201: nan, 4202: nan, 4203: nan, 4204: nan, 4205: nan, 4206: nan, 4207: nan, 4208: nan, 4209: nan, 4210: nan, 4211: nan, 4212: nan, 4213: nan, 4214: nan, 4215: nan, 4216: nan, 4217: nan, 4218: nan, 4219: nan, 4220: nan, 4221: nan, 4222: nan, 4223: nan, 4224: nan, 4225: nan, 4226: nan, 4227: nan, 4228: nan, 4229: nan, 4230: nan, 4231: nan, 4232: nan, 4233: nan, 4234: nan, 4235: nan, 4236: nan, 4237: nan, 4238: nan, 4239: nan, 4240: nan, 4241: nan, 4242: nan, 4243: nan, 4244: nan, 4245: nan, 4246: nan, 4247: nan, 4248: nan, 4249: nan, 4250: nan, 4251: nan, 4252: nan, 4253: nan, 4254: nan, 4255: nan, 4256: nan, 4257: nan, 4258: nan, 4259: nan, 4260: nan, 4261: nan, 4262: nan, 4263: nan, 4264: nan, 4265: nan, 4266: nan, 4267: nan, 4268: nan, 4269: nan, 4270: nan, 4271: nan, 4272: nan, 4273: nan, 4274: nan, 4275: nan, 4276: nan, 4277: nan, 4278: nan, 4279: nan, 4280: nan, 4281: nan, 4282: nan, 4283: nan, 4284: nan, 4285: nan, 4286: nan, 4287: nan, 4288: nan, 4289: nan, 4290: nan, 4291: nan, 4292: nan, 4293: nan, 4294: nan, 4295: nan, 4296: nan, 4297: nan, 4298: nan, 4299: nan, 4300: nan, 4301: nan, 4302: nan, 4303: nan, 4304: nan, 4305: nan, 4306: nan, 4307: nan, 4308: nan, 4309: nan, 4310: nan, 4311: nan, 4312: nan, 4313: nan, 4314: nan, 4315: nan, 4316: nan, 4317: nan, 4318: nan, 4319: nan, 4320: nan, 4321: nan, 4322: nan, 4323: nan, 4324: nan, 4325: nan, 4326: nan, 4327: nan, 4328: nan, 4329: nan, 4330: nan, 4331: nan, 4332: nan, 4333: nan, 4334: nan, 4335: nan, 4336: nan, 4337: nan, 4338: nan, 4339: nan, 4340: nan, 4341: nan, 4342: nan, 4343: nan, 4344: nan, 4345: nan, 4346: nan, 4347: nan, 4348: nan, 4349: nan, 4350: nan, 4351: nan, 4352: nan, 4353: nan, 4354: nan, 4355: nan, 4356: nan, 4357: nan, 4358: nan, 4359: nan, 4360: nan, 4361: nan, 4362: nan, 4363: nan, 4364: nan, 4365: nan, 4366: nan, 4367: nan, 4368: nan, 4369: nan, 4370: nan, 4371: nan, 4372: nan, 4373: nan, 4374: nan, 4375: nan, 4376: nan, 4377: nan, 4378: nan, 4379: nan, 4380: nan, 4381: nan, 4382: nan, 4383: nan, 4384: nan, 4385: nan, 4386: nan, 4387: nan, 4388: nan, 4389: nan, 4390: nan, 4391: nan, 4392: nan, 4393: nan, 4394: nan, 4395: nan, 4396: nan, 4397: nan, 4398: nan, 4399: nan, 4400: nan, 4401: nan, 4402: nan, 4403: nan, 4404: nan, 4405: nan, 4406: nan, 4407: nan, 4408: nan, 4409: nan, 4410: nan, 4411: nan, 4412: nan, 4413: nan, 4414: nan, 4415: nan, 4416: nan, 4417: nan, 4418: nan, 4419: nan, 4420: nan, 4421: nan, 4422: nan, 4423: nan, 4424: nan, 4425: nan, 4426: nan, 4427: nan, 4428: nan, 4429: nan, 4430: nan, 4431: nan, 4432: nan, 4433: nan, 4434: nan, 4435: nan, 4436: nan, 4437: nan, 4438: nan, 4439: nan, 4440: nan, 4441: nan, 4442: nan, 4443: nan, 4444: nan, 4445: nan, 4446: nan, 4447: nan, 4448: nan, 4449: nan, 4450: nan, 4451: nan, 4452: nan, 4453: nan, 4454: nan, 4455: nan, 4456: nan, 4457: nan, 4458: nan, 4459: nan, 4460: nan, 4461: nan, 4462: nan, 4463: nan, 4464: nan, 4465: nan, 4466: nan, 4467: nan, 4468: nan, 4469: nan, 4470: nan, 4471: nan, 4472: nan, 4473: nan, 4474: nan, 4475: nan, 4476: nan, 4477: nan, 4478: nan, 4479: nan, 4480: nan, 4481: nan, 4482: nan, 4483: nan, 4484: nan, 4485: nan, 4486: nan, 4487: nan, 4488: nan, 4489: nan, 4490: nan, 4491: nan, 4492: nan, 4493: nan, 4494: nan, 4495: nan, 4496: nan, 4497: nan, 4498: nan, 4499: nan, 4500: nan, 4501: nan, 4502: nan, 4503: nan, 4504: nan, 4505: nan, 4506: nan, 4507: nan, 4508: nan, 4509: nan, 4510: nan, 4511: nan, 4512: nan, 4513: nan, 4514: nan, 4515: nan, 4516: nan, 4517: nan, 4518: nan, 4519: nan, 4520: nan, 4521: nan, 4522: nan, 4523: nan, 4524: nan, 4525: nan, 4526: nan, 4527: nan, 4528: nan, 4529: nan, 4530: nan, 4531: nan, 4532: nan, 4533: nan, 4534: nan, 4535: nan, 4536: nan, 4537: nan, 4538: nan, 4539: nan, 4540: nan, 4541: nan, 4542: nan, 4543: nan, 4544: nan, 4545: nan, 4546: nan, 4547: nan, 4548: nan, 4549: nan, 4550: nan, 4551: nan, 4552: nan, 4553: nan, 4554: nan, 4555: nan, 4556: nan, 4557: nan, 4558: nan, 4559: nan, 4560: nan, 4561: nan, 4562: nan, 4563: nan, 4564: nan, 4565: nan, 4566: nan, 4567: nan, 4568: nan, 4569: nan, 4570: nan, 4571: nan, 4572: nan, 4573: nan, 4574: nan, 4575: nan, 4576: nan, 4577: nan, 4578: nan, 4579: nan, 4580: nan, 4581: nan, 4582: nan, 4583: nan, 4584: nan, 4585: nan, 4586: nan, 4587: nan, 4588: nan, 4589: nan, 4590: nan, 4591: nan, 4592: nan, 4593: nan, 4594: nan, 4595: nan, 4596: nan, 4597: nan, 4598: nan, 4599: nan, 4600: nan, 4601: nan, 4602: nan, 4603: nan, 4604: nan, 4605: nan, 4606: nan, 4607: nan, 4608: nan, 4609: nan, 4610: nan, 4611: nan, 4612: nan, 4613: nan, 4614: nan, 4615: nan, 4616: nan, 4617: nan, 4618: nan, 4619: nan, 4620: nan, 4621: nan, 4622: nan, 4623: nan, 4624: nan, 4625: nan, 4626: nan, 4627: nan, 4628: nan, 4629: nan, 4630: nan, 4631: nan, 4632: nan, 4633: nan, 4634: nan, 4635: nan, 4636: nan, 4637: nan, 4638: nan, 4639: nan, 4640: nan, 4641: nan, 4642: nan, 4643: nan, 4644: nan, 4645: nan, 4646: nan, 4647: nan, 4648: nan, 4649: nan, 4650: nan, 4651: nan, 4652: nan, 4653: nan, 4654: nan, 4655: nan, 4656: nan, 4657: nan, 4658: nan, 4659: nan, 4660: nan, 4661: nan, 4662: nan, 4663: nan, 4664: nan, 4665: nan, 4666: nan, 4667: nan, 4668: nan, 4669: nan, 4670: nan, 4671: nan, 4672: nan, 4673: nan, 4674: nan, 4675: nan, 4676: nan, 4677: nan, 4678: nan, 4679: nan, 4680: nan, 4681: nan, 4682: nan, 4683: nan, 4684: nan, 4685: nan, 4686: nan, 4687: nan, 4688: nan, 4689: nan, 4690: nan, 4691: nan, 4692: nan, 4693: nan, 4694: nan, 4695: nan, 4696: nan, 4697: nan, 4698: nan, 4699: nan, 4700: nan, 4701: nan, 4702: nan, 4703: nan, 4704: nan, 4705: nan, 4706: nan, 4707: nan, 4708: nan, 4709: nan, 4710: nan, 4711: nan, 4712: nan, 4713: nan, 4714: nan, 4715: nan, 4716: nan, 4717: nan, 4718: nan, 4719: nan, 4720: nan, 4721: nan, 4722: nan, 4723: nan, 4724: nan, 4725: nan, 4726: nan, 4727: nan, 4728: nan, 4729: nan, 4730: nan, 4731: nan, 4732: nan, 4733: nan, 4734: nan, 4735: nan, 4736: nan, 4737: nan, 4738: nan, 4739: nan, 4740: nan, 4741: nan, 4742: nan, 4743: nan, 4744: nan, 4745: nan, 4746: nan, 4747: nan, 4748: nan, 4749: nan, 4750: nan, 4751: nan, 4752: nan, 4753: nan, 4754: nan, 4755: nan, 4756: nan, 4757: nan, 4758: nan, 4759: nan, 4760: nan, 4761: nan, 4762: nan, 4763: nan, 4764: nan, 4765: nan, 4766: nan, 4767: nan, 4768: nan, 4769: nan, 4770: nan, 4771: nan, 4772: nan, 4773: nan, 4774: nan, 4775: nan, 4776: nan, 4777: nan, 4778: nan, 4779: nan, 4780: nan, 4781: nan, 4782: nan, 4783: nan, 4784: nan, 4785: nan, 4786: nan, 4787: nan, 4788: nan, 4789: nan, 4790: nan, 4791: nan, 4792: nan, 4793: nan, 4794: nan, 4795: nan, 4796: nan, 4797: nan, 4798: nan, 4799: nan, 4800: nan, 4801: nan, 4802: nan, 4803: nan, 4804: nan, 4805: nan, 4806: nan, 4807: nan, 4808: nan, 4809: nan, 4810: nan, 4811: nan, 4812: nan, 4813: nan, 4814: nan, 4815: nan, 4816: nan, 4817: nan, 4818: nan, 4819: nan, 4820: nan, 4821: nan, 4822: nan, 4823: nan, 4824: nan, 4825: nan, 4826: nan, 4827: nan, 4828: nan, 4829: nan, 4830: nan, 4831: nan, 4832: nan, 4833: nan, 4834: nan, 4835: nan, 4836: nan, 4837: nan, 4838: nan, 4839: nan, 4840: nan, 4841: nan, 4842: nan, 4843: nan, 4844: nan, 4845: nan, 4846: nan, 4847: nan, 4848: nan, 4849: nan, 4850: nan, 4851: nan, 4852: nan, 4853: nan, 4854: nan, 4855: nan, 4856: nan, 4857: nan, 4858: nan, 4859: nan, 4860: nan, 4861: nan, 4862: nan, 4863: nan, 4864: nan, 4865: nan, 4866: nan, 4867: nan, 4868: nan, 4869: nan, 4870: nan, 4871: nan, 4872: nan, 4873: nan, 4874: nan, 4875: nan, 4876: nan, 4877: nan, 4878: nan, 4879: nan, 4880: nan, 4881: nan, 4882: nan, 4883: nan, 4884: nan, 4885: nan, 4886: nan, 4887: nan, 4888: nan, 4889: nan, 4890: nan, 4891: nan, 4892: nan, 4893: nan, 4894: nan, 4895: nan, 4896: nan, 4897: nan, 4898: nan, 4899: nan, 4900: nan, 4901: nan, 4902: nan, 4903: nan, 4904: nan, 4905: nan, 4906: nan, 4907: nan, 4908: nan, 4909: nan, 4910: nan, 4911: nan, 4912: nan, 4913: nan, 4914: nan, 4915: nan, 4916: nan, 4917: nan, 4918: nan, 4919: nan, 4920: nan, 4921: nan, 4922: nan, 4923: nan, 4924: nan, 4925: nan, 4926: nan, 4927: nan, 4928: nan, 4929: nan, 4930: nan, 4931: nan, 4932: nan, 4933: nan, 4934: nan, 4935: nan, 4936: nan, 4937: nan, 4938: nan, 4939: nan, 4940: nan, 4941: nan, 4942: nan, 4943: nan, 4944: nan, 4945: nan, 4946: nan, 4947: nan, 4948: nan, 4949: nan, 4950: nan, 4951: nan, 4952: nan, 4953: nan, 4954: nan, 4955: nan, 4956: nan, 4957: nan, 4958: nan, 4959: nan, 4960: nan, 4961: nan, 4962: nan, 4963: nan, 4964: nan, 4965: nan, 4966: nan, 4967: nan, 4968: nan, 4969: nan, 4970: nan, 4971: nan, 4972: nan, 4973: nan, 4974: nan, 4975: nan, 4976: nan, 4977: nan, 4978: nan, 4979: nan, 4980: nan, 4981: nan, 4982: nan, 4983: nan, 4984: nan, 4985: nan, 4986: nan, 4987: nan, 4988: nan, 4989: nan, 4990: nan, 4991: nan, 4992: nan, 4993: nan, 4994: nan, 4995: nan, 4996: nan, 4997: nan, 4998: nan, 4999: nan, 5000: nan, 5001: nan, 5002: nan, 5003: nan, 5004: nan, 5005: nan, 5006: nan, 5007: nan, 5008: nan, 5009: nan, 5010: nan, 5011: nan, 5012: nan, 5013: nan, 5014: nan, 5015: nan, 5016: nan, 5017: nan, 5018: nan, 5019: nan, 5020: nan, 5021: nan, 5022: nan, 5023: nan, 5024: nan, 5025: nan, 5026: nan, 5027: nan, 5028: nan, 5029: nan, 5030: nan, 5031: nan, 5032: nan, 5033: nan, 5034: nan, 5035: nan, 5036: nan, 5037: nan, 5038: nan, 5039: nan, 5040: nan, 5041: nan, 5042: nan, 5043: nan, 5044: nan, 5045: nan, 5046: nan, 5047: nan, 5048: nan, 5049: nan, 5050: nan, 5051: nan, 5052: nan, 5053: nan, 5054: nan, 5055: nan, 5056: nan, 5057: nan, 5058: nan, 5059: nan, 5060: nan, 5061: nan, 5062: nan, 5063: nan, 5064: nan, 5065: nan, 5066: nan, 5067: nan, 5068: nan, 5069: nan, 5070: nan, 5071: nan, 5072: nan, 5073: nan, 5074: nan, 5075: nan, 5076: nan, 5077: nan, 5078: nan, 5079: nan, 5080: nan, 5081: nan, 5082: nan, 5083: nan, 5084: nan, 5085: nan, 5086: nan, 5087: nan, 5088: nan, 5089: nan, 5090: nan, 5091: nan, 5092: nan, 5093: nan, 5094: nan, 5095: nan, 5096: nan, 5097: nan, 5098: nan, 5099: nan, 5100: nan, 5101: nan, 5102: nan, 5103: nan, 5104: nan, 5105: nan, 5106: nan, 5107: nan, 5108: nan, 5109: nan, 5110: nan, 5111: nan, 5112: nan, 5113: nan, 5114: nan, 5115: nan, 5116: nan, 5117: nan, 5118: nan, 5119: nan, 5120: nan, 5121: nan, 5122: nan, 5123: nan, 5124: nan, 5125: nan, 5126: nan, 5127: nan, 5128: nan, 5129: nan, 5130: nan, 5131: nan, 5132: nan, 5133: nan, 5134: nan, 5135: nan, 5136: nan, 5137: nan, 5138: nan, 5139: nan, 5140: nan, 5141: nan, 5142: nan, 5143: nan, 5144: nan, 5145: nan, 5146: nan, 5147: nan, 5148: nan, 5149: nan, 5150: nan, 5151: nan, 5152: nan, 5153: nan, 5154: nan, 5155: nan, 5156: nan, 5157: nan, 5158: nan, 5159: nan, 5160: nan, 5161: nan, 5162: nan, 5163: nan, 5164: nan, 5165: nan, 5166: nan, 5167: nan, 5168: nan, 5169: nan, 5170: nan, 5171: nan, 5172: nan, 5173: nan, 5174: nan, 5175: nan, 5176: nan, 5177: nan, 5178: nan, 5179: nan, 5180: nan, 5181: nan, 5182: nan, 5183: nan, 5184: nan, 5185: nan, 5186: nan, 5187: nan, 5188: nan, 5189: nan, 5190: nan, 5191: nan, 5192: nan, 5193: nan, 5194: nan, 5195: nan, 5196: nan, 5197: nan, 5198: nan, 5199: nan, 5200: nan, 5201: nan, 5202: nan, 5203: nan, 5204: nan, 5205: nan, 5206: nan, 5207: nan, 5208: nan, 5209: nan, 5210: nan, 5211: nan, 5212: nan, 5213: nan, 5214: nan, 5215: nan, 5216: nan, 5217: nan, 5218: nan, 5219: nan, 5220: nan, 5221: nan, 5222: nan, 5223: nan, 5224: nan, 5225: nan, 5226: nan, 5227: nan, 5228: nan, 5229: nan, 5230: nan, 5231: nan, 5232: nan, 5233: nan, 5234: nan, 5235: nan, 5236: nan, 5237: nan, 5238: nan, 5239: nan, 5240: nan, 5241: nan, 5242: nan, 5243: nan, 5244: nan, 5245: nan, 5246: nan, 5247: nan, 5248: nan, 5249: nan, 5250: nan, 5251: nan, 5252: nan, 5253: nan, 5254: nan, 5255: nan, 5256: nan, 5257: nan, 5258: nan, 5259: nan, 5260: nan, 5261: nan, 5262: nan, 5263: nan, 5264: nan, 5265: nan, 5266: nan, 5267: nan, 5268: nan, 5269: nan, 5270: nan, 5271: nan, 5272: nan, 5273: nan, 5274: nan, 5275: nan, 5276: nan, 5277: nan, 5278: nan, 5279: nan, 5280: nan, 5281: nan, 5282: nan, 5283: nan, 5284: nan, 5285: nan, 5286: nan, 5287: nan, 5288: nan, 5289: nan, 5290: nan, 5291: nan, 5292: nan, 5293: nan, 5294: nan, 5295: nan, 5296: nan, 5297: nan, 5298: nan, 5299: nan, 5300: nan, 5301: nan, 5302: nan, 5303: nan, 5304: nan, 5305: nan, 5306: nan, 5307: nan, 5308: nan, 5309: nan, 5310: nan, 5311: nan, 5312: nan, 5313: nan, 5314: nan, 5315: nan, 5316: nan, 5317: nan, 5318: nan, 5319: nan, 5320: nan, 5321: nan, 5322: nan, 5323: nan, 5324: nan, 5325: nan, 5326: nan, 5327: nan, 5328: nan, 5329: nan, 5330: nan, 5331: nan, 5332: nan, 5333: nan, 5334: nan, 5335: nan, 5336: nan, 5337: nan, 5338: nan, 5339: nan, 5340: nan, 5341: nan, 5342: nan, 5343: nan, 5344: nan, 5345: nan, 5346: nan, 5347: nan, 5348: nan, 5349: nan, 5350: nan, 5351: nan, 5352: nan, 5353: nan, 5354: nan, 5355: nan, 5356: nan, 5357: nan, 5358: nan, 5359: nan, 5360: nan, 5361: nan, 5362: nan, 5363: nan, 5364: nan, 5365: nan, 5366: nan, 5367: nan, 5368: nan, 5369: nan, 5370: nan, 5371: nan, 5372: nan, 5373: nan, 5374: nan, 5375: nan, 5376: nan, 5377: nan, 5378: nan, 5379: nan, 5380: nan, 5381: nan, 5382: nan, 5383: nan, 5384: nan, 5385: nan, 5386: nan, 5387: nan, 5388: nan, 5389: nan, 5390: nan, 5391: nan, 5392: nan, 5393: nan, 5394: nan, 5395: nan, 5396: nan, 5397: nan, 5398: nan, 5399: nan, 5400: nan, 5401: nan, 5402: nan, 5403: nan, 5404: nan, 5405: nan, 5406: nan, 5407: nan, 5408: nan, 5409: nan, 5410: nan, 5411: nan, 5412: nan, 5413: nan, 5414: nan, 5415: nan, 5416: nan, 5417: nan, 5418: nan, 5419: nan, 5420: nan, 5421: nan, 5422: nan, 5423: nan, 5424: nan, 5425: nan, 5426: nan, 5427: nan, 5428: nan, 5429: nan, 5430: nan, 5431: nan, 5432: nan, 5433: nan, 5434: nan, 5435: nan, 5436: nan, 5437: nan, 5438: nan, 5439: nan, 5440: nan, 5441: nan, 5442: nan, 5443: nan, 5444: nan, 5445: nan, 5446: nan, 5447: nan, 5448: nan, 5449: nan, 5450: nan, 5451: nan, 5452: nan, 5453: nan, 5454: nan, 5455: nan, 5456: nan, 5457: nan, 5458: nan, 5459: nan, 5460: nan, 5461: nan, 5462: nan, 5463: nan, 5464: nan, 5465: nan, 5466: nan, 5467: nan, 5468: nan, 5469: nan, 5470: nan, 5471: nan, 5472: nan, 5473: nan, 5474: nan, 5475: nan, 5476: nan, 5477: nan, 5478: nan, 5479: nan, 5480: nan, 5481: nan, 5482: nan, 5483: nan, 5484: nan, 5485: nan, 5486: nan, 5487: nan, 5488: nan, 5489: nan, 5490: nan, 5491: nan, 5492: nan, 5493: nan, 5494: nan, 5495: nan, 5496: nan, 5497: nan, 5498: nan, 5499: nan, 5500: nan, 5501: nan, 5502: nan, 5503: nan, 5504: nan, 5505: nan, 5506: nan, 5507: nan, 5508: nan, 5509: nan, 5510: nan, 5511: nan, 5512: nan, 5513: nan, 5514: nan, 5515: nan, 5516: nan, 5517: nan, 5518: nan, 5519: nan, 5520: nan, 5521: nan, 5522: nan, 5523: nan, 5524: nan, 5525: nan, 5526: nan, 5527: nan, 5528: nan, 5529: nan, 5530: nan, 5531: nan, 5532: nan, 5533: nan, 5534: nan, 5535: nan, 5536: nan, 5537: nan, 5538: nan, 5539: nan, 5540: nan, 5541: nan, 5542: nan, 5543: nan, 5544: nan, 5545: nan, 5546: nan, 5547: nan, 5548: nan, 5549: nan, 5550: nan, 5551: nan, 5552: nan, 5553: nan, 5554: nan, 5555: nan, 5556: nan, 5557: nan, 5558: nan, 5559: nan, 5560: nan, 5561: nan, 5562: nan, 5563: nan, 5564: nan, 5565: nan, 5566: nan, 5567: nan, 5568: nan, 5569: nan, 5570: nan, 5571: nan, 5572: nan, 5573: nan, 5574: nan, 5575: nan, 5576: nan, 5577: nan, 5578: nan, 5579: nan, 5580: nan, 5581: nan, 5582: nan, 5583: nan, 5584: nan, 5585: nan, 5586: nan, 5587: nan, 5588: nan, 5589: nan, 5590: nan, 5591: nan, 5592: nan, 5593: nan, 5594: nan, 5595: nan, 5596: nan, 5597: nan, 5598: nan, 5599: nan, 5600: nan, 5601: nan, 5602: nan, 5603: nan, 5604: nan, 5605: nan, 5606: nan, 5607: nan, 5608: nan, 5609: nan, 5610: nan, 5611: nan, 5612: nan, 5613: nan, 5614: nan, 5615: nan, 5616: nan, 5617: nan, 5618: nan, 5619: nan, 5620: nan, 5621: nan, 5622: nan, 5623: nan, 5624: nan, 5625: nan, 5626: nan, 5627: nan, 5628: nan, 5629: nan, 5630: nan, 5631: nan, 5632: nan, 5633: nan, 5634: nan, 5635: nan, 5636: nan, 5637: nan, 5638: nan, 5639: nan, 5640: nan, 5641: nan, 5642: nan, 5643: nan, 5644: nan, 5645: nan, 5646: nan, 5647: nan, 5648: nan, 5649: nan, 5650: nan, 5651: nan, 5652: nan, 5653: nan, 5654: nan, 5655: nan, 5656: nan, 5657: nan, 5658: nan, 5659: nan, 5660: nan, 5661: nan, 5662: nan, 5663: nan, 5664: nan, 5665: nan, 5666: nan, 5667: nan, 5668: nan, 5669: nan, 5670: nan, 5671: nan, 5672: nan, 5673: nan, 5674: nan, 5675: nan, 5676: nan, 5677: nan, 5678: nan, 5679: nan, 5680: nan, 5681: nan, 5682: nan, 5683: nan, 5684: nan, 5685: nan, 5686: nan, 5687: nan, 5688: nan, 5689: nan, 5690: nan, 5691: nan, 5692: nan, 5693: nan, 5694: nan, 5695: nan, 5696: nan, 5697: nan, 5698: nan, 5699: nan, 5700: nan, 5701: nan, 5702: nan, 5703: nan, 5704: nan, 5705: nan, 5706: nan, 5707: nan, 5708: nan, 5709: nan, 5710: nan, 5711: nan, 5712: nan, 5713: nan, 5714: nan, 5715: nan, 5716: nan, 5717: nan, 5718: nan, 5719: nan, 5720: nan, 5721: nan, 5722: nan, 5723: nan, 5724: nan, 5725: nan, 5726: nan, 5727: nan, 5728: nan, 5729: nan, 5730: nan, 5731: nan, 5732: nan, 5733: nan, 5734: nan, 5735: nan, 5736: nan, 5737: nan, 5738: nan, 5739: nan, 5740: nan, 5741: nan, 5742: nan, 5743: nan, 5744: nan, 5745: nan, 5746: nan, 5747: nan, 5748: nan, 5749: nan, 5750: nan, 5751: nan, 5752: nan, 5753: nan, 5754: nan, 5755: nan, 5756: nan, 5757: nan, 5758: nan, 5759: nan, 5760: nan, 5761: nan, 5762: nan, 5763: nan, 5764: nan, 5765: nan, 5766: nan, 5767: nan, 5768: nan, 5769: nan, 5770: nan, 5771: nan, 5772: nan, 5773: nan, 5774: nan, 5775: nan, 5776: nan, 5777: nan, 5778: nan, 5779: nan, 5780: nan, 5781: nan, 5782: nan, 5783: nan, 5784: nan, 5785: nan, 5786: nan, 5787: nan, 5788: nan, 5789: nan, 5790: nan, 5791: nan, 5792: nan, 5793: nan, 5794: nan, 5795: nan, 5796: nan, 5797: nan, 5798: nan, 5799: nan, 5800: nan, 5801: nan, 5802: nan, 5803: nan, 5804: nan, 5805: nan, 5806: nan, 5807: nan, 5808: nan, 5809: nan, 5810: nan, 5811: nan, 5812: nan, 5813: nan, 5814: nan, 5815: nan, 5816: nan, 5817: nan, 5818: nan, 5819: nan, 5820: nan, 5821: nan, 5822: nan, 5823: nan, 5824: nan, 5825: nan, 5826: nan, 5827: nan, 5828: nan, 5829: nan, 5830: nan, 5831: nan, 5832: nan, 5833: nan, 5834: nan, 5835: nan, 5836: nan, 5837: nan, 5838: nan, 5839: nan, 5840: nan, 5841: nan, 5842: nan, 5843: nan, 5844: nan, 5845: nan, 5846: nan, 5847: nan, 5848: nan, 5849: nan, 5850: nan, 5851: nan, 5852: nan, 5853: nan, 5854: nan, 5855: nan, 5856: nan, 5857: nan, 5858: nan, 5859: nan, 5860: nan, 5861: nan, 5862: nan, 5863: nan, 5864: nan, 5865: nan, 5866: nan, 5867: nan, 5868: nan, 5869: nan, 5870: nan, 5871: nan, 5872: nan, 5873: nan, 5874: nan, 5875: nan, 5876: nan, 5877: nan, 5878: nan, 5879: nan, 5880: nan, 5881: nan, 5882: nan, 5883: nan, 5884: nan, 5885: nan, 5886: nan, 5887: nan, 5888: nan, 5889: nan, 5890: nan, 5891: nan, 5892: nan, 5893: nan, 5894: nan, 5895: nan, 5896: nan, 5897: nan, 5898: nan, 5899: nan, 5900: nan, 5901: nan, 5902: nan, 5903: nan, 5904: nan, 5905: nan, 5906: nan, 5907: nan, 5908: nan, 5909: nan, 5910: nan, 5911: nan, 5912: nan, 5913: nan, 5914: nan, 5915: nan, 5916: nan, 5917: nan, 5918: nan, 5919: nan, 5920: nan, 5921: nan, 5922: nan, 5923: nan, 5924: nan, 5925: nan, 5926: nan, 5927: nan, 5928: nan, 5929: nan, 5930: nan, 5931: nan, 5932: nan, 5933: nan, 5934: nan, 5935: nan, 5936: nan, 5937: nan, 5938: nan, 5939: nan, 5940: nan, 5941: nan, 5942: nan, 5943: nan, 5944: nan, 5945: nan, 5946: nan, 5947: nan, 5948: nan, 5949: nan, 5950: nan, 5951: nan, 5952: nan, 5953: nan, 5954: nan, 5955: nan, 5956: nan, 5957: nan, 5958: nan, 5959: nan, 5960: nan, 5961: nan, 5962: nan, 5963: nan, 5964: nan, 5965: nan, 5966: nan, 5967: nan, 5968: nan, 5969: nan, 5970: nan, 5971: nan, 5972: nan, 5973: nan, 5974: nan, 5975: nan, 5976: nan, 5977: nan, 5978: nan, 5979: nan, 5980: nan, 5981: nan, 5982: nan, 5983: nan, 5984: nan, 5985: nan, 5986: nan, 5987: nan, 5988: nan, 5989: nan, 5990: nan, 5991: nan, 5992: nan, 5993: nan, 5994: nan, 5995: nan, 5996: nan, 5997: nan, 5998: nan, 5999: nan, 6000: nan, 6001: nan, 6002: nan, 6003: nan, 6004: nan, 6005: nan, 6006: nan, 6007: nan, 6008: nan, 6009: nan, 6010: nan, 6011: nan, 6012: nan, 6013: nan, 6014: nan, 6015: nan, 6016: nan, 6017: nan, 6018: nan, 6019: nan, 6020: nan, 6021: nan, 6022: nan, 6023: nan, 6024: nan, 6025: nan, 6026: nan, 6027: nan, 6028: nan, 6029: nan, 6030: nan, 6031: nan, 6032: nan, 6033: nan, 6034: nan, 6035: nan, 6036: nan, 6037: nan, 6038: nan, 6039: nan, 6040: nan, 6041: nan, 6042: nan, 6043: nan, 6044: nan, 6045: nan, 6046: nan, 6047: nan, 6048: nan, 6049: nan, 6050: nan, 6051: nan, 6052: nan, 6053: nan, 6054: nan, 6055: nan, 6056: nan, 6057: nan, 6058: nan, 6059: nan, 6060: nan, 6061: nan, 6062: nan, 6063: nan, 6064: nan, 6065: nan, 6066: nan, 6067: nan, 6068: nan, 6069: nan, 6070: nan, 6071: nan, 6072: nan, 6073: nan, 6074: nan, 6075: nan, 6076: nan, 6077: nan, 6078: nan, 6079: nan, 6080: nan, 6081: nan, 6082: nan, 6083: nan, 6084: nan, 6085: nan, 6086: nan, 6087: nan, 6088: nan, 6089: nan, 6090: nan, 6091: nan, 6092: nan, 6093: nan, 6094: nan, 6095: nan, 6096: nan, 6097: nan, 6098: nan, 6099: nan, 6100: nan, 6101: nan, 6102: nan, 6103: nan, 6104: nan, 6105: nan, 6106: nan, 6107: nan, 6108: nan, 6109: nan, 6110: nan, 6111: nan, 6112: nan, 6113: nan, 6114: nan, 6115: nan, 6116: nan, 6117: nan, 6118: nan, 6119: nan, 6120: nan, 6121: nan, 6122: nan, 6123: nan, 6124: nan, 6125: nan, 6126: nan, 6127: nan, 6128: nan, 6129: nan, 6130: nan, 6131: nan, 6132: nan, 6133: nan, 6134: nan, 6135: nan, 6136: nan, 6137: nan, 6138: nan, 6139: nan, 6140: nan, 6141: nan, 6142: nan, 6143: nan, 6144: nan, 6145: nan, 6146: nan, 6147: nan, 6148: nan, 6149: nan, 6150: nan, 6151: nan, 6152: nan, 6153: nan, 6154: nan, 6155: nan, 6156: nan, 6157: nan, 6158: nan, 6159: nan, 6160: nan, 6161: nan, 6162: nan, 6163: nan, 6164: nan, 6165: nan, 6166: nan, 6167: nan, 6168: nan, 6169: nan, 6170: nan, 6171: nan, 6172: nan, 6173: nan, 6174: nan, 6175: nan, 6176: nan, 6177: nan, 6178: nan, 6179: nan, 6180: nan, 6181: nan, 6182: nan, 6183: nan, 6184: nan, 6185: nan, 6186: nan, 6187: nan, 6188: nan, 6189: nan, 6190: nan, 6191: nan, 6192: nan, 6193: nan, 6194: nan, 6195: nan, 6196: nan, 6197: nan, 6198: nan, 6199: nan, 6200: nan, 6201: nan, 6202: nan, 6203: nan, 6204: nan, 6205: nan, 6206: nan, 6207: nan, 6208: nan, 6209: nan, 6210: nan, 6211: nan, 6212: nan, 6213: nan, 6214: nan, 6215: nan, 6216: nan, 6217: nan, 6218: nan, 6219: nan, 6220: nan, 6221: nan, 6222: nan, 6223: nan, 6224: nan, 6225: nan, 6226: nan, 6227: nan, 6228: nan, 6229: nan, 6230: nan, 6231: nan, 6232: nan, 6233: nan, 6234: nan, 6235: nan, 6236: nan, 6237: nan, 6238: nan, 6239: nan, 6240: nan, 6241: nan, 6242: nan, 6243: nan, 6244: nan, 6245: nan, 6246: nan, 6247: nan, 6248: nan, 6249: nan, 6250: nan, 6251: nan, 6252: nan, 6253: nan, 6254: nan, 6255: nan, 6256: nan, 6257: nan, 6258: nan, 6259: nan, 6260: nan, 6261: nan, 6262: nan, 6263: nan, 6264: nan, 6265: nan, 6266: nan, 6267: nan, 6268: nan, 6269: nan, 6270: nan, 6271: nan, 6272: nan, 6273: nan, 6274: nan, 6275: nan, 6276: nan, 6277: nan, 6278: nan, 6279: nan, 6280: nan, 6281: nan, 6282: nan, 6283: nan, 6284: nan, 6285: nan, 6286: nan, 6287: nan, 6288: nan, 6289: nan, 6290: nan, 6291: nan, 6292: nan, 6293: nan, 6294: nan, 6295: nan, 6296: nan, 6297: nan, 6298: nan, 6299: nan, 6300: nan, 6301: nan, 6302: nan, 6303: nan, 6304: nan, 6305: nan, 6306: nan, 6307: nan, 6308: nan, 6309: nan, 6310: nan, 6311: nan, 6312: nan, 6313: nan, 6314: nan, 6315: nan, 6316: nan, 6317: nan, 6318: nan, 6319: nan, 6320: nan, 6321: nan, 6322: nan, 6323: nan, 6324: nan, 6325: nan, 6326: nan, 6327: nan, 6328: nan, 6329: nan, 6330: nan, 6331: nan, 6332: nan, 6333: nan, 6334: nan, 6335: nan, 6336: nan, 6337: nan, 6338: nan, 6339: nan, 6340: nan, 6341: nan, 6342: nan, 6343: nan, 6344: nan, 6345: nan, 6346: nan, 6347: nan, 6348: nan, 6349: nan, 6350: nan, 6351: nan, 6352: nan, 6353: nan, 6354: nan, 6355: nan, 6356: nan, 6357: nan, 6358: nan, 6359: nan, 6360: nan, 6361: nan, 6362: nan, 6363: nan, 6364: nan, 6365: nan, 6366: nan, 6367: nan, 6368: nan, 6369: nan, 6370: nan, 6371: nan, 6372: nan, 6373: nan, 6374: nan, 6375: nan, 6376: nan, 6377: nan, 6378: nan, 6379: nan, 6380: nan, 6381: nan, 6382: nan, 6383: nan, 6384: nan, 6385: nan, 6386: nan, 6387: nan, 6388: nan, 6389: nan, 6390: nan, 6391: nan, 6392: nan, 6393: nan, 6394: nan, 6395: nan, 6396: nan, 6397: nan, 6398: nan, 6399: nan, 6400: nan, 6401: nan, 6402: nan, 6403: nan, 6404: nan, 6405: nan, 6406: nan, 6407: nan, 6408: nan, 6409: nan, 6410: nan, 6411: nan, 6412: nan, 6413: nan, 6414: nan, 6415: nan, 6416: nan, 6417: nan, 6418: nan, 6419: nan, 6420: nan, 6421: nan, 6422: nan, 6423: nan, 6424: nan, 6425: nan, 6426: nan, 6427: nan, 6428: nan, 6429: nan, 6430: nan, 6431: nan, 6432: nan, 6433: nan, 6434: nan, 6435: nan, 6436: nan, 6437: nan, 6438: nan, 6439: nan, 6440: nan, 6441: nan, 6442: nan, 6443: nan, 6444: nan, 6445: nan, 6446: nan, 6447: nan, 6448: nan, 6449: nan, 6450: nan, 6451: nan, 6452: nan, 6453: nan, 6454: nan, 6455: nan, 6456: nan, 6457: nan, 6458: nan, 6459: nan, 6460: nan, 6461: nan, 6462: nan, 6463: nan, 6464: nan, 6465: nan, 6466: nan, 6467: nan, 6468: nan, 6469: nan, 6470: nan, 6471: nan, 6472: nan, 6473: nan, 6474: nan, 6475: nan, 6476: nan, 6477: nan, 6478: nan, 6479: nan, 6480: nan, 6481: nan, 6482: nan, 6483: nan, 6484: nan, 6485: nan, 6486: nan, 6487: nan, 6488: nan, 6489: nan, 6490: nan, 6491: nan, 6492: nan, 6493: nan, 6494: nan, 6495: nan, 6496: nan, 6497: nan, 6498: nan, 6499: nan, 6500: nan, 6501: nan, 6502: nan, 6503: nan, 6504: nan, 6505: nan, 6506: nan, 6507: nan, 6508: nan, 6509: nan, 6510: nan, 6511: nan, 6512: nan, 6513: nan, 6514: nan, 6515: nan, 6516: nan, 6517: nan, 6518: nan, 6519: nan, 6520: nan, 6521: nan, 6522: nan, 6523: nan, 6524: nan, 6525: nan, 6526: nan, 6527: nan, 6528: nan, 6529: nan, 6530: nan, 6531: nan, 6532: nan, 6533: nan, 6534: nan, 6535: nan, 6536: nan, 6537: nan, 6538: nan, 6539: nan, 6540: nan, 6541: nan, 6542: nan, 6543: nan, 6544: nan, 6545: nan, 6546: nan, 6547: nan, 6548: nan, 6549: nan, 6550: nan, 6551: nan, 6552: nan, 6553: nan, 6554: nan, 6555: nan, 6556: nan, 6557: nan, 6558: nan, 6559: nan, 6560: nan, 6561: nan, 6562: nan, 6563: nan, 6564: nan, 6565: nan, 6566: nan, 6567: nan, 6568: nan, 6569: nan, 6570: nan, 6571: nan, 6572: nan, 6573: nan, 6574: nan, 6575: nan, 6576: nan, 6577: nan, 6578: nan, 6579: nan, 6580: nan, 6581: nan, 6582: nan, 6583: nan, 6584: nan, 6585: nan, 6586: nan, 6587: nan, 6588: nan, 6589: nan, 6590: nan, 6591: nan, 6592: nan, 6593: nan, 6594: nan, 6595: nan, 6596: nan, 6597: nan, 6598: nan, 6599: nan, 6600: nan, 6601: nan, 6602: nan, 6603: nan, 6604: nan, 6605: nan, 6606: nan, 6607: nan, 6608: nan, 6609: nan, 6610: nan, 6611: nan, 6612: nan, 6613: nan, 6614: nan, 6615: nan, 6616: nan, 6617: nan, 6618: nan, 6619: nan, 6620: nan, 6621: nan, 6622: nan, 6623: nan, 6624: nan, 6625: nan, 6626: nan, 6627: nan, 6628: nan, 6629: nan, 6630: nan, 6631: nan, 6632: nan, 6633: nan, 6634: nan, 6635: nan, 6636: nan, 6637: nan, 6638: nan, 6639: nan, 6640: nan, 6641: nan, 6642: nan, 6643: nan, 6644: nan, 6645: nan, 6646: nan, 6647: nan, 6648: nan, 6649: nan, 6650: nan, 6651: nan, 6652: nan, 6653: nan, 6654: nan, 6655: nan, 6656: nan, 6657: nan, 6658: nan, 6659: nan, 6660: nan, 6661: nan, 6662: nan, 6663: nan, 6664: nan, 6665: nan, 6666: nan, 6667: nan, 6668: nan, 6669: nan, 6670: nan, 6671: nan, 6672: nan, 6673: nan, 6674: nan, 6675: nan, 6676: nan, 6677: nan, 6678: nan, 6679: nan, 6680: nan, 6681: nan, 6682: nan, 6683: nan, 6684: nan, 6685: nan, 6686: nan, 6687: nan, 6688: nan, 6689: nan, 6690: nan, 6691: nan, 6692: nan, 6693: nan, 6694: nan, 6695: nan, 6696: nan, 6697: nan, 6698: nan, 6699: nan, 6700: nan, 6701: nan, 6702: nan, 6703: nan, 6704: nan, 6705: nan, 6706: nan, 6707: nan, 6708: nan, 6709: nan, 6710: nan, 6711: nan, 6712: nan, 6713: nan, 6714: nan, 6715: nan, 6716: nan, 6717: nan, 6718: nan, 6719: nan, 6720: nan, 6721: nan, 6722: nan, 6723: nan, 6724: nan, 6725: nan, 6726: nan, 6727: nan, 6728: nan, 6729: nan, 6730: nan, 6731: nan, 6732: nan, 6733: nan, 6734: nan, 6735: nan, 6736: nan, 6737: nan, 6738: nan, 6739: nan, 6740: nan, 6741: nan, 6742: nan, 6743: nan, 6744: nan, 6745: nan, 6746: nan, 6747: nan, 6748: nan, 6749: nan, 6750: nan, 6751: nan, 6752: nan, 6753: nan, 6754: nan, 6755: nan, 6756: nan, 6757: nan, 6758: nan, 6759: nan, 6760: nan, 6761: nan, 6762: nan, 6763: nan, 6764: nan, 6765: nan, 6766: nan, 6767: nan, 6768: nan, 6769: nan, 6770: nan, 6771: nan, 6772: nan, 6773: nan, 6774: nan, 6775: nan, 6776: nan, 6777: nan, 6778: nan, 6779: nan, 6780: nan, 6781: nan, 6782: nan, 6783: nan, 6784: nan, 6785: nan, 6786: nan, 6787: nan, 6788: nan, 6789: nan, 6790: nan, 6791: nan, 6792: nan, 6793: nan, 6794: nan, 6795: nan, 6796: nan, 6797: nan, 6798: nan, 6799: nan, 6800: nan, 6801: nan, 6802: nan, 6803: nan, 6804: nan, 6805: nan, 6806: nan, 6807: nan, 6808: nan, 6809: nan, 6810: nan, 6811: nan, 6812: nan, 6813: nan, 6814: nan, 6815: nan, 6816: nan, 6817: nan, 6818: nan, 6819: nan, 6820: nan, 6821: nan, 6822: nan, 6823: nan, 6824: nan, 6825: nan, 6826: nan, 6827: nan, 6828: nan, 6829: nan, 6830: nan, 6831: nan, 6832: nan, 6833: nan, 6834: nan, 6835: nan, 6836: nan, 6837: nan, 6838: nan, 6839: nan, 6840: nan, 6841: nan, 6842: nan, 6843: nan, 6844: nan, 6845: nan, 6846: nan, 6847: nan, 6848: nan, 6849: nan, 6850: nan, 6851: nan, 6852: nan, 6853: nan, 6854: nan, 6855: nan, 6856: nan, 6857: nan, 6858: nan, 6859: nan, 6860: nan, 6861: nan, 6862: nan, 6863: nan, 6864: nan, 6865: nan, 6866: nan, 6867: nan, 6868: nan, 6869: nan, 6870: nan, 6871: nan, 6872: nan, 6873: nan, 6874: nan, 6875: nan, 6876: nan, 6877: nan, 6878: nan, 6879: nan, 6880: nan, 6881: nan, 6882: nan, 6883: nan, 6884: nan, 6885: nan, 6886: nan, 6887: nan, 6888: nan, 6889: nan, 6890: nan, 6891: nan, 6892: nan, 6893: nan, 6894: nan, 6895: nan, 6896: nan, 6897: nan, 6898: nan, 6899: nan, 6900: nan, 6901: nan, 6902: nan, 6903: nan, 6904: nan, 6905: nan, 6906: nan, 6907: nan, 6908: nan, 6909: nan, 6910: nan, 6911: nan, 6912: nan, 6913: nan, 6914: nan, 6915: nan, 6916: nan, 6917: nan, 6918: nan, 6919: nan, 6920: nan, 6921: nan, 6922: nan, 6923: nan, 6924: nan, 6925: nan, 6926: nan, 6927: nan, 6928: nan, 6929: nan, 6930: nan, 6931: nan, 6932: nan, 6933: nan, 6934: nan, 6935: nan, 6936: nan, 6937: nan, 6938: nan, 6939: nan, 6940: nan, 6941: nan, 6942: nan, 6943: nan, 6944: nan, 6945: nan, 6946: nan, 6947: nan, 6948: nan, 6949: nan, 6950: nan, 6951: nan, 6952: nan, 6953: nan, 6954: nan, 6955: nan, 6956: nan, 6957: nan, 6958: nan, 6959: nan, 6960: nan, 6961: nan, 6962: nan, 6963: nan, 6964: nan, 6965: nan, 6966: nan, 6967: nan, 6968: nan, 6969: nan, 6970: nan, 6971: nan, 6972: nan, 6973: nan, 6974: nan, 6975: nan, 6976: nan, 6977: nan, 6978: nan, 6979: nan, 6980: nan, 6981: nan, 6982: nan, 6983: nan, 6984: nan, 6985: nan, 6986: nan, 6987: nan, 6988: nan, 6989: nan, 6990: nan, 6991: nan, 6992: nan, 6993: nan, 6994: nan, 6995: nan, 6996: nan, 6997: nan, 6998: nan, 6999: nan, 7000: nan, 7001: nan, 7002: nan, 7003: nan, 7004: nan, 7005: nan, 7006: nan, 7007: nan, 7008: nan, 7009: nan, 7010: nan, 7011: nan, 7012: nan, 7013: nan, 7014: nan, 7015: nan, 7016: nan, 7017: nan, 7018: nan, 7019: nan, 7020: nan, 7021: nan, 7022: nan, 7023: nan, 7024: nan, 7025: nan, 7026: nan, 7027: nan, 7028: nan, 7029: nan, 7030: nan, 7031: nan, 7032: nan, 7033: nan, 7034: nan, 7035: nan, 7036: nan, 7037: nan, 7038: nan, 7039: nan, 7040: nan, 7041: nan, 7042: nan, 7043: nan, 7044: nan, 7045: nan, 7046: nan, 7047: nan, 7048: nan, 7049: nan, 7050: nan, 7051: nan, 7052: nan, 7053: nan, 7054: nan, 7055: nan, 7056: nan, 7057: nan, 7058: nan, 7059: nan, 7060: nan, 7061: nan, 7062: nan, 7063: nan, 7064: nan, 7065: nan, 7066: nan, 7067: nan, 7068: nan, 7069: nan, 7070: nan, 7071: nan, 7072: nan, 7073: nan, 7074: nan, 7075: nan, 7076: nan, 7077: nan, 7078: nan, 7079: nan, 7080: nan, 7081: nan, 7082: nan, 7083: nan, 7084: nan, 7085: nan, 7086: nan, 7087: nan, 7088: nan, 7089: nan, 7090: nan, 7091: nan, 7092: nan, 7093: nan, 7094: nan, 7095: nan, 7096: nan, 7097: nan, 7098: nan, 7099: nan, 7100: nan, 7101: nan, 7102: nan, 7103: nan, 7104: nan, 7105: nan, 7106: nan, 7107: nan, 7108: nan, 7109: nan, 7110: nan, 7111: nan, 7112: nan, 7113: nan, 7114: nan, 7115: nan, 7116: nan, 7117: nan, 7118: nan, 7119: nan, 7120: nan, 7121: nan, 7122: nan, 7123: nan, 7124: nan, 7125: nan, 7126: nan, 7127: nan, 7128: nan, 7129: nan, 7130: nan, 7131: nan, 7132: nan, 7133: nan, 7134: nan, 7135: nan, 7136: nan, 7137: nan, 7138: nan, 7139: nan, 7140: nan, 7141: nan, 7142: nan, 7143: nan, 7144: nan, 7145: nan, 7146: nan, 7147: nan, 7148: nan, 7149: nan, 7150: nan, 7151: nan, 7152: nan, 7153: nan, 7154: nan, 7155: nan, 7156: nan, 7157: nan, 7158: nan, 7159: nan, 7160: nan, 7161: nan, 7162: nan, 7163: nan, 7164: nan, 7165: nan, 7166: nan, 7167: nan, 7168: nan, 7169: nan, 7170: nan, 7171: nan, 7172: nan, 7173: nan, 7174: nan, 7175: nan, 7176: nan, 7177: nan, 7178: nan, 7179: nan, 7180: nan, 7181: nan, 7182: nan, 7183: nan, 7184: nan, 7185: nan, 7186: nan, 7187: nan, 7188: nan, 7189: nan, 7190: nan, 7191: nan, 7192: nan, 7193: nan, 7194: nan, 7195: nan, 7196: nan, 7197: nan, 7198: nan, 7199: nan, 7200: nan, 7201: nan, 7202: nan, 7203: nan, 7204: nan, 7205: nan, 7206: nan, 7207: nan, 7208: nan, 7209: nan, 7210: nan, 7211: nan, 7212: nan, 7213: nan, 7214: nan, 7215: nan, 7216: nan, 7217: nan, 7218: nan, 7219: nan, 7220: nan, 7221: nan, 7222: nan, 7223: nan, 7224: nan, 7225: nan, 7226: nan, 7227: nan, 7228: nan, 7229: nan, 7230: nan, 7231: nan, 7232: nan, 7233: nan, 7234: nan, 7235: nan, 7236: nan, 7237: nan, 7238: nan, 7239: nan, 7240: nan, 7241: nan, 7242: nan, 7243: nan, 7244: nan, 7245: nan, 7246: nan, 7247: nan, 7248: nan, 7249: nan, 7250: nan, 7251: nan, 7252: nan, 7253: nan, 7254: nan, 7255: nan, 7256: nan, 7257: nan, 7258: nan, 7259: nan, 7260: nan, 7261: nan, 7262: nan, 7263: nan, 7264: nan, 7265: nan, 7266: nan, 7267: nan, 7268: nan, 7269: nan, 7270: nan, 7271: nan, 7272: nan, 7273: nan, 7274: nan, 7275: nan, 7276: nan, 7277: nan, 7278: nan, 7279: nan, 7280: nan, 7281: nan, 7282: nan, 7283: nan, 7284: nan, 7285: nan, 7286: nan, 7287: nan, 7288: nan, 7289: nan, 7290: nan, 7291: nan, 7292: nan, 7293: nan, 7294: nan, 7295: nan, 7296: nan, 7297: nan, 7298: nan, 7299: nan, 7300: nan, 7301: nan, 7302: nan, 7303: nan, 7304: nan, 7305: nan, 7306: nan, 7307: nan, 7308: nan, 7309: nan, 7310: nan, 7311: nan, 7312: nan, 7313: nan, 7314: nan, 7315: nan, 7316: nan, 7317: nan, 7318: nan, 7319: nan, 7320: nan, 7321: nan, 7322: nan, 7323: nan, 7324: nan, 7325: nan, 7326: nan, 7327: nan, 7328: nan, 7329: nan, 7330: nan, 7331: nan, 7332: nan, 7333: nan, 7334: nan, 7335: nan, 7336: nan, 7337: nan, 7338: nan, 7339: nan, 7340: nan, 7341: nan, 7342: nan, 7343: nan, 7344: nan, 7345: nan, 7346: nan, 7347: nan, 7348: nan, 7349: nan, 7350: nan, 7351: nan, 7352: nan, 7353: nan, 7354: nan, 7355: nan, 7356: nan, 7357: nan, 7358: nan, 7359: nan, 7360: nan, 7361: nan, 7362: nan, 7363: nan, 7364: nan, 7365: nan, 7366: nan, 7367: nan, 7368: nan, 7369: nan, 7370: nan, 7371: nan, 7372: nan, 7373: nan, 7374: nan, 7375: nan, 7376: nan, 7377: nan, 7378: nan, 7379: nan, 7380: nan, 7381: nan, 7382: nan, 7383: nan, 7384: nan, 7385: nan, 7386: nan, 7387: nan, 7388: nan, 7389: nan, 7390: nan, 7391: nan, 7392: nan, 7393: nan, 7394: nan, 7395: nan, 7396: nan, 7397: nan, 7398: nan, 7399: nan, 7400: nan, 7401: nan, 7402: nan, 7403: nan, 7404: nan, 7405: nan, 7406: nan, 7407: nan, 7408: nan, 7409: nan, 7410: nan, 7411: nan, 7412: nan, 7413: nan, 7414: nan, 7415: nan, 7416: nan, 7417: nan, 7418: nan, 7419: nan, 7420: nan, 7421: nan, 7422: nan, 7423: nan, 7424: nan, 7425: nan, 7426: nan, 7427: nan, 7428: nan, 7429: nan, 7430: nan, 7431: nan, 7432: nan, 7433: nan, 7434: nan, 7435: nan}\n",
      "[]\n"
     ]
    }
   ],
   "source": [
    "pr = nx.pagerank_numpy(G) # will return dict of user node page ranks\n",
    "#print(pr)\n",
    "# finding min page rank nodes from graph\n",
    "minval = min(pr.values())\n",
    "res = [k for k, v in pr.items() if v==minval]\n",
    "#print(res)"
   ]
  },
  {
   "cell_type": "markdown",
   "metadata": {},
   "source": [
    "#### Irrelevant users (based on page rank scores)"
   ]
  },
  {
   "cell_type": "code",
   "execution_count": 20,
   "metadata": {},
   "outputs": [
    {
     "ename": "NameError",
     "evalue": "name 'df' is not defined",
     "output_type": "error",
     "traceback": [
      "\u001b[1;31m---------------------------------------------------------------------------\u001b[0m",
      "\u001b[1;31mNameError\u001b[0m                                 Traceback (most recent call last)",
      "\u001b[1;32m<ipython-input-20-5ede340dc3bc>\u001b[0m in \u001b[0;36m<module>\u001b[1;34m\u001b[0m\n\u001b[0;32m      1\u001b[0m \u001b[1;31m# irrelevant users (based on page rank scores) ->\u001b[0m\u001b[1;33m\u001b[0m\u001b[1;33m\u001b[0m\u001b[1;33m\u001b[0m\u001b[0m\n\u001b[1;32m----> 2\u001b[1;33m \u001b[0mirrelevant_users\u001b[0m \u001b[1;33m=\u001b[0m \u001b[0mdf\u001b[0m\u001b[1;33m.\u001b[0m\u001b[0miloc\u001b[0m\u001b[1;33m[\u001b[0m\u001b[1;36m3\u001b[0m\u001b[1;33m:\u001b[0m\u001b[1;36m11\u001b[0m\u001b[1;33m,\u001b[0m\u001b[1;33m[\u001b[0m\u001b[1;34m'reviewerID'\u001b[0m\u001b[1;33m,\u001b[0m\u001b[1;34m'reviewerName'\u001b[0m\u001b[1;33m]\u001b[0m\u001b[1;33m]\u001b[0m\u001b[1;33m\u001b[0m\u001b[1;33m\u001b[0m\u001b[0m\n\u001b[0m\u001b[0;32m      3\u001b[0m \u001b[0mprint\u001b[0m\u001b[1;33m(\u001b[0m\u001b[0mirrelevant_users\u001b[0m\u001b[1;33m)\u001b[0m\u001b[1;33m\u001b[0m\u001b[1;33m\u001b[0m\u001b[0m\n",
      "\u001b[1;31mNameError\u001b[0m: name 'df' is not defined"
     ]
    }
   ],
   "source": [
    "# irrelevant users (based on page rank scores) ->\n",
    "irrelevant_users = df.iloc[3:11,['reviewerID','reviewerName']]\n",
    "print(irrelevant_users)"
   ]
  },
  {
   "cell_type": "code",
   "execution_count": 43,
   "metadata": {},
   "outputs": [
    {
     "name": "stdout",
     "output_type": "stream",
     "text": [
      "['A1RREZ3HGOVT4D', 'A32Y55Z00QI12S']\n"
     ]
    }
   ],
   "source": [
    "prw = nx.pagerank_numpy(GW)\n",
    "minvalw = min(prw.values())\n",
    "resw = [k for k, v in prw.items() if v==minvalw]\n",
    "print(resw) # min page rank nodes in weighted, multi graph"
   ]
  },
  {
   "cell_type": "code",
   "execution_count": 44,
   "metadata": {},
   "outputs": [
    {
     "data": {
      "text/plain": [
       "20"
      ]
     },
     "execution_count": 44,
     "metadata": {},
     "output_type": "execute_result"
    }
   ],
   "source": [
    "GW.degree('A1RREZ3HGOVT4D') # degree of min page rank node in weighted, multi graph"
   ]
  },
  {
   "cell_type": "code",
   "execution_count": 45,
   "metadata": {},
   "outputs": [
    {
     "data": {
      "text/plain": [
       "10"
      ]
     },
     "execution_count": 45,
     "metadata": {},
     "output_type": "execute_result"
    }
   ],
   "source": [
    "G.degree(3) # degree of min page rank node in unweighted graph"
   ]
  },
  {
   "cell_type": "code",
   "execution_count": 46,
   "metadata": {},
   "outputs": [
    {
     "name": "stdout",
     "output_type": "stream",
     "text": [
      "0.004786642964155714\n",
      "4.363658667479298e-05\n",
      "6.179104094808072e-05\n"
     ]
    }
   ],
   "source": [
    "# printing page ranks of important nodes for weighted graph ->\n",
    "\n",
    "print(prw.get('AFVQZQ8PW0L')) # node with max edges\n",
    "print(prw.get('A1RREZ3HGOVT4D')) # node with min page rank\n",
    "print(prw.get('A1W0Z6DWSQAFHN')) # node with min edges\n",
    "\n",
    "# nodes with min degree in graph are necessarily not anomalous nodes according to the page rank algorithm\n",
    "# an inference can be that newer users on a platform providing ratings may have less degree in the product\n",
    "# social network, but will not be directly treated as anomalies based on their usage pattern"
   ]
  },
  {
   "cell_type": "code",
   "execution_count": 47,
   "metadata": {},
   "outputs": [],
   "source": [
    "# Removing irrelevant users from the newAmazonBooksRatings dataset"
   ]
  },
  {
   "cell_type": "code",
   "execution_count": 48,
   "metadata": {},
   "outputs": [],
   "source": [
    "import math\n",
    "import copy\n",
    "from sklearn.metrics import *\n",
    "from surprise import Dataset, Reader\n",
    "from surprise.model_selection import cross_validate"
   ]
  },
  {
   "cell_type": "markdown",
   "metadata": {},
   "source": [
    "## Collaborative Filtering using SVD\n",
    "> ### What is Collaborative Filtering\n",
    "Collaborative filtering technique is based on the idea that users that preferred certain items in the past are likely to agree again in the future. It filters out products that a user might prefer on the basis of activity by similar users.\n",
    "> ### What is SVD\n",
    "SVD is Singular Vector Decomposition. What it does is that it decomposes a matrix into constituent arrays of feature vectors corresponding to each row and each column."
   ]
  },
  {
   "cell_type": "code",
   "execution_count": 50,
   "metadata": {},
   "outputs": [],
   "source": [
    "from pandas import DataFrame\n",
    "ratings_data = pd.read_csv(\"newAmazonBooksRatings.csv\", usecols = [0,1,2,5,6], header=0, names = [\"user_id\", \"book_id\", \"book_name\", \"user_rating\", \"sentiment_rating\"])\n",
    "ratings_data = ratings_data.assign(newUserId = ratings_data['user_id'].astype('category').cat.codes)\n",
    "ratings_data = ratings_data.assign(newBookId = ratings_data['book_id'].astype('category').cat.codes)\n",
    "newRatingCol = ratings_data.loc[:, \"user_rating\":\"sentiment_rating\"]\n",
    "ratings_data[\"mean_rating\"] = newRatingCol.mean(axis=1)\n",
    "ratings_data.drop([\"user_id\",\"book_id\", \"user_rating\", \"sentiment_rating\"], axis=1, inplace=True)\n",
    "cols = [\"newBookId\",\"book_name\"]\n",
    "books = ratings_data[cols].copy()\n",
    "books.drop_duplicates(inplace=True)\n",
    "books = books.reset_index(drop=True)\n",
    "reader = Reader(rating_scale=(1,5))\n",
    "train_data = Dataset.load_from_df(ratings_data[[\"newUserId\", \"newBookId\", \"mean_rating\"]], reader)\n",
    "trainset = train_data.build_full_trainset()"
   ]
  },
  {
   "cell_type": "code",
   "execution_count": 52,
   "metadata": {},
   "outputs": [
    {
     "name": "stdout",
     "output_type": "stream",
     "text": [
      "Processing epoch 0\n",
      "Processing epoch 1\n",
      "Processing epoch 2\n",
      "Processing epoch 3\n",
      "Processing epoch 4\n",
      "Processing epoch 0\n",
      "Processing epoch 1\n",
      "Processing epoch 2\n",
      "Processing epoch 3\n",
      "Processing epoch 4\n",
      "Processing epoch 0\n",
      "Processing epoch 1\n",
      "Processing epoch 2\n",
      "Processing epoch 3\n",
      "Processing epoch 4\n",
      "Evaluating RMSE, MAE of algorithm SVD on 3 split(s).\n",
      "\n",
      "                  Fold 1  Fold 2  Fold 3  Mean    Std     \n",
      "RMSE (testset)    0.9016  0.9342  0.9215  0.9191  0.0134  \n",
      "MAE (testset)     0.7262  0.7440  0.7316  0.7339  0.0074  \n",
      "Fit time          0.26    0.15    0.16    0.19    0.05    \n",
      "Test time         0.06    0.02    0.02    0.03    0.02    \n"
     ]
    }
   ],
   "source": [
    "from surprise import SVD\n",
    "from surprise.model_selection import cross_validate\n",
    "svd = SVD(n_factors=100, n_epochs=5, biased=True, random_state=15, verbose=True)\n",
    "results = cross_validate(svd, train_data, measures=['RMSE', 'MAE'], cv=3, verbose=True)"
   ]
  },
  {
   "cell_type": "code",
   "execution_count": 53,
   "metadata": {},
   "outputs": [
    {
     "name": "stdout",
     "output_type": "stream",
     "text": [
      "Processing epoch 0\n",
      "Processing epoch 1\n",
      "Processing epoch 2\n",
      "Processing epoch 3\n",
      "Processing epoch 4\n"
     ]
    }
   ],
   "source": [
    "model=svd.fit(trainset)"
   ]
  },
  {
   "cell_type": "code",
   "execution_count": 54,
   "metadata": {},
   "outputs": [],
   "source": [
    "def estSort(pred):\n",
    "    return pred.est\n",
    "def recommend_books(user_id, num_recommendations) :\n",
    "    predictions = []\n",
    "    for x in pd.unique(ratings_data['newBookId']):\n",
    "        predictions.append(svd.predict(uid=0, iid=x))\n",
    "    predictions.sort(key = estSort, reverse=True)\n",
    "    recommendations = [x.iid for x in predictions[:num_recommendations]]\n",
    "    return recommendations"
   ]
  },
  {
   "cell_type": "code",
   "execution_count": 55,
   "metadata": {},
   "outputs": [],
   "source": [
    "book_indices=recommend_books(user_id=101, num_recommendations=7)\n",
    "recommendations = [books.values[x] for x in book_indices]\n",
    "recommendations = DataFrame(recommendations, columns=[\"book_id\", \"book_name\"])"
   ]
  },
  {
   "cell_type": "code",
   "execution_count": 56,
   "metadata": {},
   "outputs": [],
   "source": [
    "movie_ratings = ratings_data.pivot(\n",
    "    index='newUserId',\n",
    "    columns='newBookId',\n",
    "    values='mean_rating'\n",
    ").fillna(0)\n"
   ]
  },
  {
   "cell_type": "code",
   "execution_count": 57,
   "metadata": {},
   "outputs": [],
   "source": [
    "R = movie_ratings.values\n",
    "from scipy.sparse.linalg import svds\n",
    "U, sigma, Vt = svds(R, k = 50)"
   ]
  },
  {
   "cell_type": "code",
   "execution_count": 58,
   "metadata": {},
   "outputs": [
    {
     "name": "stdout",
     "output_type": "stream",
     "text": [
      "[[-7.67883834e-03 -2.46037610e-03 -1.53547246e-03 ... -7.59475765e-04\n",
      "  -2.14462131e-04 -3.39814750e-03]\n",
      " [-2.30580147e-03  1.62222794e-03 -5.68060208e-03 ...  3.13255724e-02\n",
      "  -2.91525306e-02  5.51109552e-03]\n",
      " [-1.03490609e-03 -4.28966687e-04 -1.14257363e-03 ...  2.93458937e-04\n",
      "   1.42909121e-04 -6.58336153e-05]\n",
      " ...\n",
      " [-7.18186732e-03 -4.92080564e-03  1.28712916e-02 ...  2.66802475e-02\n",
      "  -1.85588184e-02  1.15133956e-03]\n",
      " [-2.06981217e-03 -8.57933373e-04 -2.28514725e-03 ...  5.86917874e-04\n",
      "   2.85818241e-04 -1.31667231e-04]\n",
      " [-4.06273071e-04 -4.34993365e-04 -3.47192929e-04 ... -2.69687018e-04\n",
      "  -2.78287377e-05 -1.15233850e-03]]\n"
     ]
    }
   ],
   "source": [
    "sigma = np.diag(sigma)\n",
    "all_user_predicted_ratings = np.dot(np.dot(U, sigma), Vt) \n",
    "#print(all_user_predicted_ratings)"
   ]
  },
  {
   "cell_type": "code",
   "execution_count": 59,
   "metadata": {},
   "outputs": [],
   "source": [
    "def recommend_books(predictions, user_index, books, org_matrix, num_recommendations=5):\n",
    "    sorted_books = (-predictions[user_index]).argsort()\n",
    "    boolArr = (org_matrix[user_index] == 0)\n",
    "    unknown_sorted_books = [x for x in sorted_books if boolArr[x]]\n",
    "    recommendations = [books[x] for x in unknown_sorted_books][:num_recommendations]               \n",
    "    return recommendations"
   ]
  },
  {
   "cell_type": "code",
   "execution_count": 60,
   "metadata": {},
   "outputs": [
    {
     "name": "stdout",
     "output_type": "stream",
     "text": [
      "   book_id                                          book_name\n",
      "0      144  Septimus Heap, Book Two: Flyte: 02 (Septimus H...\n",
      "1       46                                          The Nanny\n",
      "2       95  Eels: An Exploration, from New Zealand to the ...\n",
      "3       57  The Barefoot Princess: The Lost Princesses #2 ...\n",
      "4       58  The Prince Kidnaps a Bride: The Lost Princesse...\n",
      "5       90  A Dark Champion: 3 (Brotherhood of the Sword S...\n",
      "6      167  By the Shores of Silver Lake: Full Color Editi...\n"
     ]
    }
   ],
   "source": [
    "top_books = recommend_books(all_user_predicted_ratings, 1, books.values, R, 7)\n",
    "top_books = DataFrame(top_books, columns=[\"book_id\", \"book_name\"])\n",
    "print(top_books)"
   ]
  },
  {
   "cell_type": "markdown",
   "metadata": {},
   "source": [
    "## Recommendation System"
   ]
  },
  {
   "cell_type": "code",
   "execution_count": 61,
   "metadata": {},
   "outputs": [],
   "source": [
    "from numpy import dot\n",
    "from numpy.linalg import norm\n",
    "\n",
    "def cosine_similarity(list_1, list_2):\n",
    "    cos_sim = dot(list_1, list_2) / (norm(list_1) * norm(list_2))\n",
    "    return cos_sim\n",
    "\n",
    "def top_cosine_similarity(data, book_id, top_n=10):\n",
    "    index = book_id - 1 \n",
    "    book_row = data[index, :]\n",
    "    similarity_values = np.zeros(shape=[data.shape[0]-1,2])\n",
    "    k=0\n",
    "    for i in range(data.shape[0]):\n",
    "        if i != index :\n",
    "            val = cosine_similarity(book_row, data[i, :])\n",
    "            similarity_values[k] = np.array([i, val])\n",
    "            k = k + 1\n",
    "            \n",
    "    sort_indices = np.argsort(-similarity_values[:, 1])\n",
    "    return sort_indices[:top_n]"
   ]
  },
  {
   "cell_type": "code",
   "execution_count": 67,
   "metadata": {},
   "outputs": [
    {
     "name": "stdout",
     "output_type": "stream",
     "text": [
      "Enter your favorite book id: 13\n"
     ]
    }
   ],
   "source": [
    "val = input(\"Enter your favorite book id: \")\n",
    "val = int(val)"
   ]
  },
  {
   "cell_type": "code",
   "execution_count": 68,
   "metadata": {},
   "outputs": [],
   "source": [
    "top_book_indices = top_cosine_similarity(Vt.T, val)\n",
    "similar_books = [books.values[x] for x in top_book_indices]\n",
    "similar_books = DataFrame(similar_books, columns=[\"book_id\", \"book_name\"])"
   ]
  },
  {
   "cell_type": "code",
   "execution_count": 69,
   "metadata": {},
   "outputs": [
    {
     "name": "stdout",
     "output_type": "stream",
     "text": [
      "Books similar to Valdez Is Coming Low Price are:\n",
      "\n",
      "   book_id                                          book_name\n",
      "0      137  Warlord: A Life of Winston Churchill at War, 1...\n",
      "1       31          Cadillac Beach: A Novel: 6 (Serge Storms)\n",
      "2       96  A Year with C. S. Lewis: Daily Readings from H...\n",
      "3       41                     Gentlemen and Players: A Novel\n",
      "4        0                                Mission Compromised\n",
      "5       99  Scots on the Rocks: A Bed-and-Breakfast Myster...\n",
      "6      128  Where God Was Born: A Journey by Land to the R...\n",
      "7      158  Useful Idiots: How Liberals Got It Wrong in th...\n",
      "8      131  Busting Vegas: The MIT Whiz Kid Who Brought th...\n",
      "9       48                                        Ruby Holler\n"
     ]
    }
   ],
   "source": [
    "print(\"Books similar to \"+books.book_name[val-1]+\" are:\\n\")\n",
    "print(similar_books)"
   ]
  },
  {
   "cell_type": "code",
   "execution_count": null,
   "metadata": {},
   "outputs": [],
   "source": []
  }
 ],
 "metadata": {
  "kernelspec": {
   "display_name": "Python 3",
   "language": "python",
   "name": "python3"
  },
  "language_info": {
   "codemirror_mode": {
    "name": "ipython",
    "version": 3
   },
   "file_extension": ".py",
   "mimetype": "text/x-python",
   "name": "python",
   "nbconvert_exporter": "python",
   "pygments_lexer": "ipython3",
   "version": "3.7.9"
  }
 },
 "nbformat": 4,
 "nbformat_minor": 4
}
