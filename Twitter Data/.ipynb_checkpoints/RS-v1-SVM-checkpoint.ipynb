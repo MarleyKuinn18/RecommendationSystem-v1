{
 "cells": [
  {
   "cell_type": "code",
   "execution_count": 1,
   "metadata": {},
   "outputs": [],
   "source": [
    "import pandas as pd\n",
    "import numpy as np\n",
    "import nltk\n",
    "from sklearn.model_selection import train_test_split\n",
    "from sklearn.feature_extraction.text import CountVectorizer\n",
    "from sklearn import svm\n",
    "import re"
   ]
  },
  {
   "cell_type": "code",
   "execution_count": 2,
   "metadata": {},
   "outputs": [
    {
     "data": {
      "text/plain": [
       "'C:\\\\Users\\\\sharma\\\\Downloads\\\\RecommendationSystem-v1\\\\Twitter Data'"
      ]
     },
     "execution_count": 2,
     "metadata": {},
     "output_type": "execute_result"
    }
   ],
   "source": [
    "pwd"
   ]
  },
  {
   "cell_type": "code",
   "execution_count": 3,
   "metadata": {},
   "outputs": [
    {
     "name": "stdout",
     "output_type": "stream",
     "text": [
      "C:\\Users\\sharma\\Downloads\\Twitter_Data.csv\n"
     ]
    }
   ],
   "source": [
    "cd ~/Downloads/Twitter_Data.csv"
   ]
  },
  {
   "cell_type": "code",
   "execution_count": 4,
   "metadata": {},
   "outputs": [
    {
     "data": {
      "text/html": [
       "<div>\n",
       "<style scoped>\n",
       "    .dataframe tbody tr th:only-of-type {\n",
       "        vertical-align: middle;\n",
       "    }\n",
       "\n",
       "    .dataframe tbody tr th {\n",
       "        vertical-align: top;\n",
       "    }\n",
       "\n",
       "    .dataframe thead th {\n",
       "        text-align: right;\n",
       "    }\n",
       "</style>\n",
       "<table border=\"1\" class=\"dataframe\">\n",
       "  <thead>\n",
       "    <tr style=\"text-align: right;\">\n",
       "      <th></th>\n",
       "      <th>clean_text</th>\n",
       "      <th>category</th>\n",
       "    </tr>\n",
       "  </thead>\n",
       "  <tbody>\n",
       "    <tr>\n",
       "      <th>0</th>\n",
       "      <td>when modi promised “minimum government maximum...</td>\n",
       "      <td>-1.0</td>\n",
       "    </tr>\n",
       "    <tr>\n",
       "      <th>1</th>\n",
       "      <td>talk all the nonsense and continue all the dra...</td>\n",
       "      <td>0.0</td>\n",
       "    </tr>\n",
       "    <tr>\n",
       "      <th>2</th>\n",
       "      <td>what did just say vote for modi  welcome bjp t...</td>\n",
       "      <td>1.0</td>\n",
       "    </tr>\n",
       "    <tr>\n",
       "      <th>3</th>\n",
       "      <td>asking his supporters prefix chowkidar their n...</td>\n",
       "      <td>1.0</td>\n",
       "    </tr>\n",
       "    <tr>\n",
       "      <th>4</th>\n",
       "      <td>answer who among these the most powerful world...</td>\n",
       "      <td>1.0</td>\n",
       "    </tr>\n",
       "  </tbody>\n",
       "</table>\n",
       "</div>"
      ],
      "text/plain": [
       "                                          clean_text  category\n",
       "0  when modi promised “minimum government maximum...      -1.0\n",
       "1  talk all the nonsense and continue all the dra...       0.0\n",
       "2  what did just say vote for modi  welcome bjp t...       1.0\n",
       "3  asking his supporters prefix chowkidar their n...       1.0\n",
       "4  answer who among these the most powerful world...       1.0"
      ]
     },
     "execution_count": 4,
     "metadata": {},
     "output_type": "execute_result"
    }
   ],
   "source": [
    "tweets = pd.read_csv(\"Twitter_Data.csv\")\n",
    "tweets.head()"
   ]
  },
  {
   "cell_type": "code",
   "execution_count": 5,
   "metadata": {},
   "outputs": [
    {
     "name": "stderr",
     "output_type": "stream",
     "text": [
      "[nltk_data] Downloading package stopwords to\n",
      "[nltk_data]     C:\\Users\\sharma\\AppData\\Roaming\\nltk_data...\n",
      "[nltk_data]   Package stopwords is already up-to-date!\n"
     ]
    },
    {
     "data": {
      "text/plain": [
       "True"
      ]
     },
     "execution_count": 5,
     "metadata": {},
     "output_type": "execute_result"
    }
   ],
   "source": [
    "nltk.download('stopwords')"
   ]
  },
  {
   "cell_type": "code",
   "execution_count": 6,
   "metadata": {},
   "outputs": [],
   "source": [
    "from nltk.corpus import stopwords\n",
    "from nltk.tokenize import RegexpTokenizer\n",
    "from nltk.stem import PorterStemmer\n",
    "from nltk.tokenize import word_tokenize"
   ]
  },
  {
   "cell_type": "code",
   "execution_count": 7,
   "metadata": {},
   "outputs": [
    {
     "name": "stderr",
     "output_type": "stream",
     "text": [
      "[nltk_data] Downloading package rslp to\n",
      "[nltk_data]     C:\\Users\\sharma\\AppData\\Roaming\\nltk_data...\n",
      "[nltk_data]   Package rslp is already up-to-date!\n"
     ]
    }
   ],
   "source": [
    "tk = RegexpTokenizer('\\s+', gaps = True) \n",
    "set_stopwords = set(stopwords.words('english'))\n",
    "nltk.download('rslp')\n",
    "ps = nltk.stem.RSLPStemmer()"
   ]
  },
  {
   "cell_type": "code",
   "execution_count": 8,
   "metadata": {},
   "outputs": [],
   "source": [
    "def normalizer(review):\n",
    "    review = str(review)\n",
    "    review = review.lower()\n",
    "    review = review.replace('\"','')\n",
    "    review = review.replace(';','')\n",
    "    review = review.replace('-','')\n",
    "    review = review.replace(',','')\n",
    "    review = re.sub('\\d', '', review)\n",
    "    word = tk.tokenize(review)\n",
    "    tokens = [i for i in word if i not in set_stopwords]\n",
    "    stemmed_tokens = [ps.stem(i) for i in tokens]\n",
    "    cleaned_review = [' '.join(stemmed_tokens)]\n",
    "    return cleaned_review"
   ]
  },
  {
   "cell_type": "code",
   "execution_count": 9,
   "metadata": {},
   "outputs": [
    {
     "data": {
      "text/plain": [
       "['text comment posted onlin writing igdtuw min project']"
      ]
     },
     "execution_count": 9,
     "metadata": {},
     "output_type": "execute_result"
    }
   ],
   "source": [
    "normalizer(\"here is text about a comment i just posted online for you writing about igdtuw minor project\")"
   ]
  },
  {
   "cell_type": "code",
   "execution_count": 10,
   "metadata": {},
   "outputs": [
    {
     "data": {
      "text/html": [
       "<div>\n",
       "<style scoped>\n",
       "    .dataframe tbody tr th:only-of-type {\n",
       "        vertical-align: middle;\n",
       "    }\n",
       "\n",
       "    .dataframe tbody tr th {\n",
       "        vertical-align: top;\n",
       "    }\n",
       "\n",
       "    .dataframe thead th {\n",
       "        text-align: right;\n",
       "    }\n",
       "</style>\n",
       "<table border=\"1\" class=\"dataframe\">\n",
       "  <thead>\n",
       "    <tr style=\"text-align: right;\">\n",
       "      <th></th>\n",
       "      <th>clean_text</th>\n",
       "      <th>normalized_tweet</th>\n",
       "    </tr>\n",
       "  </thead>\n",
       "  <tbody>\n",
       "    <tr>\n",
       "      <th>0</th>\n",
       "      <td>when modi promised “minimum government maximum governance” expected him begin the difficult job reforming the state why does take years get justice state should and not business and should exit psus and temples</td>\n",
       "      <td>[mod promised “minimum government maximum governance” expected begin difficult job reforming stat tak ye get just stat busines exit psu templ]</td>\n",
       "    </tr>\n",
       "    <tr>\n",
       "      <th>1</th>\n",
       "      <td>talk all the nonsense and continue all the drama will vote for modi</td>\n",
       "      <td>[talk nonsens continu dram vot mod]</td>\n",
       "    </tr>\n",
       "    <tr>\n",
       "      <th>2</th>\n",
       "      <td>what did just say vote for modi  welcome bjp told you rahul the main campaigner for modi think modi should just relax</td>\n",
       "      <td>[say vot mod welcom bjp told rahul main campaign mod think mod relax]</td>\n",
       "    </tr>\n",
       "    <tr>\n",
       "      <th>3</th>\n",
       "      <td>asking his supporters prefix chowkidar their names modi did great service now there confusion what read what not now crustal clear what will crass filthy nonsensical see how most abuses are coming from chowkidars</td>\n",
       "      <td>[asking support prefix chowkid nam mod great serv confusion read crust cle cras filthy nonsensic see abus coming chowkid]</td>\n",
       "    </tr>\n",
       "    <tr>\n",
       "      <th>4</th>\n",
       "      <td>answer who among these the most powerful world leader today trump putin modi may</td>\n",
       "      <td>[answ among powerful world lead today trump putin mod may]</td>\n",
       "    </tr>\n",
       "  </tbody>\n",
       "</table>\n",
       "</div>"
      ],
      "text/plain": [
       "                                                                                                                                                                                                             clean_text  \\\n",
       "0    when modi promised “minimum government maximum governance” expected him begin the difficult job reforming the state why does take years get justice state should and not business and should exit psus and temples   \n",
       "1                                                                                                                                                  talk all the nonsense and continue all the drama will vote for modi    \n",
       "2                                                                                                 what did just say vote for modi  welcome bjp told you rahul the main campaigner for modi think modi should just relax   \n",
       "3  asking his supporters prefix chowkidar their names modi did great service now there confusion what read what not now crustal clear what will crass filthy nonsensical see how most abuses are coming from chowkidars   \n",
       "4                                                                                                                                     answer who among these the most powerful world leader today trump putin modi may    \n",
       "\n",
       "                                                                                                                                 normalized_tweet  \n",
       "0  [mod promised “minimum government maximum governance” expected begin difficult job reforming stat tak ye get just stat busines exit psu templ]  \n",
       "1                                                                                                             [talk nonsens continu dram vot mod]  \n",
       "2                                                                           [say vot mod welcom bjp told rahul main campaign mod think mod relax]  \n",
       "3                       [asking support prefix chowkid nam mod great serv confusion read crust cle cras filthy nonsensic see abus coming chowkid]  \n",
       "4                                                                                      [answ among powerful world lead today trump putin mod may]  "
      ]
     },
     "execution_count": 10,
     "metadata": {},
     "output_type": "execute_result"
    }
   ],
   "source": [
    "pd.set_option('display.max_colwidth', None)\n",
    "tweets['normalized_tweet'] = tweets.clean_text.apply(normalizer)\n",
    "tweets[['clean_text','normalized_tweet']].head()"
   ]
  },
  {
   "cell_type": "code",
   "execution_count": 11,
   "metadata": {},
   "outputs": [
    {
     "name": "stdout",
     "output_type": "stream",
     "text": [
      "[('this', 'is'), ('is', 'a'), ('a', 'sentence'), ('so', 'is'), ('is', 'this'), ('this', 'one')]\n"
     ]
    }
   ],
   "source": [
    "text = [\"this is a sentence\", \"so is this one\"]\n",
    "bigrams = [b for l in text for b in zip(l.split(\" \")[:-1], l.split(\" \")[1:])]\n",
    "print(bigrams)"
   ]
  },
  {
   "cell_type": "code",
   "execution_count": 12,
   "metadata": {},
   "outputs": [
    {
     "data": {
      "text/html": [
       "<div>\n",
       "<style scoped>\n",
       "    .dataframe tbody tr th:only-of-type {\n",
       "        vertical-align: middle;\n",
       "    }\n",
       "\n",
       "    .dataframe tbody tr th {\n",
       "        vertical-align: top;\n",
       "    }\n",
       "\n",
       "    .dataframe thead th {\n",
       "        text-align: right;\n",
       "    }\n",
       "</style>\n",
       "<table border=\"1\" class=\"dataframe\">\n",
       "  <thead>\n",
       "    <tr style=\"text-align: right;\">\n",
       "      <th></th>\n",
       "      <th>grams</th>\n",
       "    </tr>\n",
       "  </thead>\n",
       "  <tbody>\n",
       "    <tr>\n",
       "      <th>0</th>\n",
       "      <td>[(mod, promised), (promised, “minimum), (“minimum, government), (government, maximum), (maximum, governance”), (governance”, expected), (expected, begin), (begin, difficult), (difficult, job), (job, reforming), (reforming, stat), (stat, tak), (tak, ye), (ye, get), (get, just), (just, stat), (stat, busines), (busines, exit), (exit, psu), (psu, templ)]</td>\n",
       "    </tr>\n",
       "    <tr>\n",
       "      <th>1</th>\n",
       "      <td>[(talk, nonsens), (nonsens, continu), (continu, dram), (dram, vot), (vot, mod)]</td>\n",
       "    </tr>\n",
       "    <tr>\n",
       "      <th>2</th>\n",
       "      <td>[(say, vot), (vot, mod), (mod, welcom), (welcom, bjp), (bjp, told), (told, rahul), (rahul, main), (main, campaign), (campaign, mod), (mod, think), (think, mod), (mod, relax)]</td>\n",
       "    </tr>\n",
       "    <tr>\n",
       "      <th>3</th>\n",
       "      <td>[(asking, support), (support, prefix), (prefix, chowkid), (chowkid, nam), (nam, mod), (mod, great), (great, serv), (serv, confusion), (confusion, read), (read, crust), (crust, cle), (cle, cras), (cras, filthy), (filthy, nonsensic), (nonsensic, see), (see, abus), (abus, coming), (coming, chowkid)]</td>\n",
       "    </tr>\n",
       "    <tr>\n",
       "      <th>4</th>\n",
       "      <td>[(answ, among), (among, powerful), (powerful, world), (world, lead), (lead, today), (today, trump), (trump, putin), (putin, mod), (mod, may)]</td>\n",
       "    </tr>\n",
       "  </tbody>\n",
       "</table>\n",
       "</div>"
      ],
      "text/plain": [
       "                                                                                                                                                                                                                                                                                                                                                              grams\n",
       "0  [(mod, promised), (promised, “minimum), (“minimum, government), (government, maximum), (maximum, governance”), (governance”, expected), (expected, begin), (begin, difficult), (difficult, job), (job, reforming), (reforming, stat), (stat, tak), (tak, ye), (ye, get), (get, just), (just, stat), (stat, busines), (busines, exit), (exit, psu), (psu, templ)]\n",
       "1                                                                                                                                                                                                                                                                                   [(talk, nonsens), (nonsens, continu), (continu, dram), (dram, vot), (vot, mod)]\n",
       "2                                                                                                                                                                                    [(say, vot), (vot, mod), (mod, welcom), (welcom, bjp), (bjp, told), (told, rahul), (rahul, main), (main, campaign), (campaign, mod), (mod, think), (think, mod), (mod, relax)]\n",
       "3                                                         [(asking, support), (support, prefix), (prefix, chowkid), (chowkid, nam), (nam, mod), (mod, great), (great, serv), (serv, confusion), (confusion, read), (read, crust), (crust, cle), (cle, cras), (cras, filthy), (filthy, nonsensic), (nonsensic, see), (see, abus), (abus, coming), (coming, chowkid)]\n",
       "4                                                                                                                                                                                                                     [(answ, among), (among, powerful), (powerful, world), (world, lead), (lead, today), (today, trump), (trump, putin), (putin, mod), (mod, may)]"
      ]
     },
     "execution_count": 12,
     "metadata": {},
     "output_type": "execute_result"
    }
   ],
   "source": [
    "def ngrams(text):\n",
    "    #onegrams = input_list\n",
    "    bigrams = [b for l in text for b in zip(l.split(\" \"), l.split(\" \")[1:])]\n",
    "    return bigrams\n",
    "tweets['grams'] = tweets.normalized_tweet.apply(ngrams)\n",
    "tweets[['grams']].head()"
   ]
  },
  {
   "cell_type": "code",
   "execution_count": 34,
   "metadata": {},
   "outputs": [],
   "source": [
    "import collections\n",
    "def count_words(input):\n",
    "    cnt = collections.Counter()\n",
    "    for row in input:\n",
    "        for word in row:\n",
    "            cnt[word] += 1\n",
    "    return cnt"
   ]
  },
  {
   "cell_type": "code",
   "execution_count": 35,
   "metadata": {},
   "outputs": [
    {
     "data": {
      "text/plain": [
       "[(('narendr', 'mod'), 1681),\n",
       " (('mod', 'govt'), 1290),\n",
       " (('rahul', 'gandh'), 766),\n",
       " (('hat', 'mod'), 757),\n",
       " (('black', 'money'), 667),\n",
       " (('prim', 'minist'), 639),\n",
       " (('mod', 'government'), 620),\n",
       " (('nirav', 'mod'), 601),\n",
       " (('vot', 'mod'), 596),\n",
       " (('lik', 'mod'), 424),\n",
       " (('last', 'ye'), 395),\n",
       " (('mod', 'bjp'), 379),\n",
       " (('mod', 'hat'), 375),\n",
       " (('mod', 'say'), 366),\n",
       " (('mod', 'mod'), 340),\n",
       " (('ant', 'mod'), 321),\n",
       " (('say', 'mod'), 318),\n",
       " (('mod', 'ind'), 291),\n",
       " (('ind', 'mod'), 286),\n",
       " (('common', 'man'), 283),\n",
       " (('bjp', 'mod'), 275),\n",
       " (('fak', 'new'), 274),\n",
       " (('ind', 'shot'), 272),\n",
       " (('po', 'peopl'), 267),\n",
       " (('ye', 'mod'), 263)]"
      ]
     },
     "execution_count": 35,
     "metadata": {},
     "output_type": "execute_result"
    }
   ],
   "source": [
    "tweets[(tweets.category == -1)][['grams']].apply(count_words)['grams'].most_common(25)"
   ]
  },
  {
   "cell_type": "code",
   "execution_count": 36,
   "metadata": {},
   "outputs": [],
   "source": [
    "import numpy as np\n",
    "from scipy.sparse import hstack\n",
    "from sklearn.feature_extraction.text import CountVectorizer\n",
    "count_vectorizer = CountVectorizer(ngram_range=(1,2))"
   ]
  },
  {
   "cell_type": "code",
   "execution_count": 37,
   "metadata": {
    "scrolled": true
   },
   "outputs": [
    {
     "name": "stdout",
     "output_type": "stream",
     "text": [
      "(162980, 1199726)\n",
      "(162980, 1199727)\n",
      "<class 'scipy.sparse.coo.coo_matrix'>\n"
     ]
    }
   ],
   "source": [
    "vectorized_data = count_vectorizer.fit_transform(tweets.clean_text.values.astype('U'))\n",
    "indexed_data = hstack((np.array(range(0,vectorized_data.shape[0]))[:,None], vectorized_data))\n",
    "print(vectorized_data.shape)\n",
    "print(indexed_data.shape)\n",
    "print(type(indexed_data))"
   ]
  },
  {
   "cell_type": "code",
   "execution_count": 28,
   "metadata": {},
   "outputs": [
    {
     "name": "stdout",
     "output_type": "stream",
     "text": [
      "(97788, 1199726)\n",
      "(65192, 1199726)\n"
     ]
    }
   ],
   "source": [
    "targets = tweets.category\n",
    "from sklearn.model_selection import train_test_split\n",
    "data_train, data_test, targets_train, targets_test = train_test_split(indexed_data, targets, test_size=0.4, random_state=0)\n",
    "data_train_index = data_train[:,0]\n",
    "data_train = data_train[:,1:]\n",
    "data_test_index = data_test[:,0]\n",
    "data_test = data_test[:,1:]\n",
    "print(data_train.shape)\n",
    "print(data_test.shape)"
   ]
  },
  {
   "cell_type": "code",
   "execution_count": 32,
   "metadata": {},
   "outputs": [],
   "source": [
    "from sklearn.svm import LinearSVC\n",
    "lsvm = LinearSVC(dual=False)\n",
    "lsvm.fit(data_train,targets_train)"
   ]
  },
  {
   "cell_type": "code",
   "execution_count": null,
   "metadata": {},
   "outputs": [],
   "source": [
    "from sklearn.metrics import accuracy_score\n",
    "sentiment_prediction_svm = lsvm.predict(data_test)\n",
    "accuracy_score(targets_test, sentiment_prediction_svm)"
   ]
  }
 ],
 "metadata": {
  "kernelspec": {
   "display_name": "Python 3",
   "language": "python",
   "name": "python3"
  },
  "language_info": {
   "codemirror_mode": {
    "name": "ipython",
    "version": 3
   },
   "file_extension": ".py",
   "mimetype": "text/x-python",
   "name": "python",
   "nbconvert_exporter": "python",
   "pygments_lexer": "ipython3",
   "version": "3.8.3"
  }
 },
 "nbformat": 4,
 "nbformat_minor": 4
}
