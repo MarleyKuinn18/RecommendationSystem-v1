{
 "cells": [
  {
   "cell_type": "code",
   "execution_count": 2,
   "metadata": {},
   "outputs": [],
   "source": [
    "import pandas as pd\n",
    "import numpy as np\n",
    "import math\n",
    "import copy\n",
    "from sklearn.metrics import *\n",
    "from surprise import Dataset, Reader\n",
    "from surprise.model_selection import cross_validate"
   ]
  },
  {
   "cell_type": "markdown",
   "metadata": {},
   "source": [
    "<h1> Get Dataset </h1>"
   ]
  },
  {
   "cell_type": "code",
   "execution_count": 7,
   "metadata": {
    "scrolled": true
   },
   "outputs": [
    {
     "name": "stdout",
     "output_type": "stream",
     "text": [
      "                                book_name  newUserId  newBookId  mean_rating\n",
      "0                                Red Tide        243         19          3.5\n",
      "1                                Red Tide       5467         19          4.5\n",
      "2                                Red Tide       1549         19          4.5\n",
      "3                                Red Tide        545         19          3.0\n",
      "4                                Red Tide       2719         19          3.5\n",
      "...                                   ...        ...        ...          ...\n",
      "7431  A Good Yarn (Blossom Street, No. 2)       1839        169          4.5\n",
      "7432  A Good Yarn (Blossom Street, No. 2)       4562        169          3.5\n",
      "7433  A Good Yarn (Blossom Street, No. 2)       2329        169          5.0\n",
      "7434  A Good Yarn (Blossom Street, No. 2)       5575        169          4.5\n",
      "7435  A Good Yarn (Blossom Street, No. 2)       1449        169          5.0\n",
      "\n",
      "[7436 rows x 4 columns]\n",
      "      newBookId                            book_name\n",
      "0            19                             Red Tide\n",
      "1            19                             Red Tide\n",
      "2            19                             Red Tide\n",
      "3            19                             Red Tide\n",
      "4            19                             Red Tide\n",
      "...         ...                                  ...\n",
      "7431        169  A Good Yarn (Blossom Street, No. 2)\n",
      "7432        169  A Good Yarn (Blossom Street, No. 2)\n",
      "7433        169  A Good Yarn (Blossom Street, No. 2)\n",
      "7434        169  A Good Yarn (Blossom Street, No. 2)\n",
      "7435        169  A Good Yarn (Blossom Street, No. 2)\n",
      "\n",
      "[7436 rows x 2 columns]\n"
     ]
    }
   ],
   "source": [
    "from sklearn.model_selection import train_test_split\n",
    "from pandas import DataFrame\n",
    "ratings_data = pd.read_csv(\"./Recommendation System - Sentiment analysis/newAmazonBooksRatings.csv\", usecols = [0,1,2,5,6], header=0, names = [\"user_id\", \"book_id\", \"book_name\", \"user_rating\", \"sentiment_rating\"])\n",
    "ratings_data = ratings_data.assign(newUserId = ratings_data['user_id'].astype('category').cat.codes)\n",
    "ratings_data = ratings_data.assign(newBookId = ratings_data['book_id'].astype('category').cat.codes)\n",
    "newRatingCol = ratings_data.loc[:, \"user_rating\":\"sentiment_rating\"]\n",
    "ratings_data[\"mean_rating\"] = newRatingCol.mean(axis=1)\n",
    "ratings_data.drop([\"user_id\",\"book_id\", \"user_rating\", \"sentiment_rating\"], axis=1, inplace=True)\n",
    "cols = [\"newBookId\",\"book_name\"]\n",
    "books = ratings_data[cols].copy()\n",
    "print(ratings_data)\n",
    "print(books)\n",
    "reader = Reader(rating_scale=(1,5))\n",
    "train_data = Dataset.load_from_df(ratings_data[[\"newUserId\", \"newBookId\", \"mean_rating\"]], reader)\n",
    "trainset = train_data.build_full_trainset()"
   ]
  },
  {
   "cell_type": "markdown",
   "metadata": {},
   "source": [
    "<h1> SVD (Surprise lib) </h1>"
   ]
  },
  {
   "cell_type": "code",
   "execution_count": 8,
   "metadata": {},
   "outputs": [
    {
     "name": "stdout",
     "output_type": "stream",
     "text": [
      "Processing epoch 0\n",
      "Processing epoch 1\n",
      "Processing epoch 2\n",
      "Processing epoch 3\n",
      "Processing epoch 4\n",
      "Processing epoch 0\n",
      "Processing epoch 1\n",
      "Processing epoch 2\n",
      "Processing epoch 3\n",
      "Processing epoch 4\n",
      "Processing epoch 0\n",
      "Processing epoch 1\n",
      "Processing epoch 2\n",
      "Processing epoch 3\n",
      "Processing epoch 4\n",
      "Evaluating RMSE, MAE of algorithm SVD on 3 split(s).\n",
      "\n",
      "                  Fold 1  Fold 2  Fold 3  Mean    Std     \n",
      "RMSE (testset)    0.9035  0.9020  0.9580  0.9212  0.0261  \n",
      "MAE (testset)     0.7229  0.7221  0.7577  0.7342  0.0166  \n",
      "Fit time          0.39    0.24    0.25    0.29    0.07    \n",
      "Test time         0.05    0.03    0.02    0.03    0.01    \n"
     ]
    }
   ],
   "source": [
    "from surprise import SVD\n",
    "from surprise.model_selection import cross_validate\n",
    "svd = SVD(n_factors=100, n_epochs=5, biased=True, random_state=15, verbose=True)\n",
    "results = cross_validate(svd, train_data, measures=['RMSE', 'MAE'], cv=3, verbose=True)"
   ]
  },
  {
   "cell_type": "code",
   "execution_count": 9,
   "metadata": {},
   "outputs": [
    {
     "name": "stdout",
     "output_type": "stream",
     "text": [
      "Processing epoch 0\n",
      "Processing epoch 1\n",
      "Processing epoch 2\n",
      "Processing epoch 3\n",
      "Processing epoch 4\n"
     ]
    }
   ],
   "source": [
    "model=svd.fit(trainset)"
   ]
  },
  {
   "cell_type": "code",
   "execution_count": 13,
   "metadata": {},
   "outputs": [],
   "source": [
    "def estSort(pred):\n",
    "    return pred.est\n",
    "def recommend_books(user_id) :\n",
    "    predictions = []\n",
    "    for x in pd.unique(ratings_data['newBookId']):\n",
    "        predictions.append(svd.predict(uid=0, iid=x))\n",
    "    predictions.sort(key = estSort, reverse=True)\n",
    "    recommendations = [x.iid for x in predictions[:4]]\n",
    "    return recommendations"
   ]
  },
  {
   "cell_type": "code",
   "execution_count": 21,
   "metadata": {},
   "outputs": [],
   "source": [
    "book_indices=recommend_books(user_id=101)\n",
    "recommendations = [books.values[x] for x in book_indices]\n",
    "recommendations = DataFrame(recommendations, columns=[\"book_id\", \"book_name\"])"
   ]
  },
  {
   "cell_type": "code",
   "execution_count": 22,
   "metadata": {
    "scrolled": true
   },
   "outputs": [
    {
     "name": "stdout",
     "output_type": "stream",
     "text": [
      "   book_id                                          book_name\n",
      "0       24  The Secret Life of Lobsters: How Fishermen and...\n",
      "1       26  The Intelligent Investor: The Definitive Book ...\n",
      "2       23                                   The Last Goodbye\n",
      "3       26  The Intelligent Investor: The Definitive Book ...\n"
     ]
    }
   ],
   "source": [
    "print(recommendations)"
   ]
  },
  {
   "cell_type": "markdown",
   "metadata": {},
   "source": [
    "<h1> SVD (Scipy lib) </h1>"
   ]
  },
  {
   "cell_type": "code",
   "execution_count": 23,
   "metadata": {},
   "outputs": [],
   "source": [
    "movie_ratings = ratings_data.pivot(\n",
    "    index='newUserId',\n",
    "    columns='newBookId',\n",
    "    values='mean_rating'\n",
    ").fillna(0)"
   ]
  },
  {
   "cell_type": "code",
   "execution_count": 24,
   "metadata": {},
   "outputs": [],
   "source": [
    "R = movie_ratings.values\n",
    "from scipy.sparse.linalg import svds\n",
    "U, sigma, Vt = svds(R, k = 50)"
   ]
  },
  {
   "cell_type": "code",
   "execution_count": 25,
   "metadata": {},
   "outputs": [
    {
     "name": "stdout",
     "output_type": "stream",
     "text": [
      "[[-7.67297279e-03 -2.46203644e-03 -1.53549611e-03 ... -7.59305541e-04\n",
      "  -2.14229876e-04 -3.39776509e-03]\n",
      " [-2.30649191e-03  1.62221239e-03 -5.68062077e-03 ...  3.13255962e-02\n",
      "  -2.91524783e-02  5.51116878e-03]\n",
      " [-1.03476451e-03 -4.28978803e-04 -1.14257654e-03 ...  2.93433371e-04\n",
      "   1.42871626e-04 -6.59499951e-05]\n",
      " ...\n",
      " [-7.17942602e-03 -4.92225219e-03  1.28713142e-02 ...  2.66799780e-02\n",
      "  -1.85592558e-02  1.15254267e-03]\n",
      " [-2.06952902e-03 -8.57957606e-04 -2.28515309e-03 ...  5.86866742e-04\n",
      "   2.85743251e-04 -1.31899990e-04]\n",
      " [-4.09180659e-04 -4.35679812e-04 -3.47127739e-04 ... -2.69955653e-04\n",
      "  -2.82658456e-05 -1.15012785e-03]]\n"
     ]
    }
   ],
   "source": [
    "sigma = np.diag(sigma)\n",
    "all_user_predicted_ratings = np.dot(np.dot(U, sigma), Vt) \n",
    "print(all_user_predicted_ratings)"
   ]
  },
  {
   "cell_type": "code",
   "execution_count": 26,
   "metadata": {},
   "outputs": [],
   "source": [
    "def recommend_books(predictions, user_index, books, org_matrix, num_recommendations=5):\n",
    "    sorted_books = (-predictions[user_index]).argsort()\n",
    "    boolArr = (org_matrix[user_index] == 0)\n",
    "    unknown_sorted_books = [x for x in sorted_books if boolArr[x]]\n",
    "    recommendations = [books[x] for x in unknown_sorted_books][:num_recommendations]               \n",
    "    return recommendations"
   ]
  },
  {
   "cell_type": "code",
   "execution_count": 27,
   "metadata": {},
   "outputs": [
    {
     "name": "stdout",
     "output_type": "stream",
     "text": [
      "   book_id                                          book_name\n",
      "0       26  The Intelligent Investor: The Definitive Book ...\n",
      "1       20                                      No Man's Land\n",
      "2       23                                   The Last Goodbye\n",
      "3       21                                   Day of Atonement\n"
     ]
    }
   ],
   "source": [
    "top_books = recommend_books(all_user_predicted_ratings, 1, books.values, R, 4)\n",
    "top_books = DataFrame(top_books, columns=[\"book_id\", \"book_name\"])\n",
    "print(top_books)"
   ]
  },
  {
   "cell_type": "markdown",
   "metadata": {},
   "source": [
    "<h2> Similar books </h2>"
   ]
  },
  {
   "cell_type": "code",
   "execution_count": 28,
   "metadata": {},
   "outputs": [],
   "source": [
    "from numpy import dot\n",
    "from numpy.linalg import norm\n",
    "\n",
    "def cosine_similarity(list_1, list_2):\n",
    "    cos_sim = dot(list_1, list_2) / (norm(list_1) * norm(list_2))\n",
    "    return cos_sim\n",
    "\n",
    "def top_cosine_similarity(data, book_id, top_n=10):\n",
    "    index = book_id - 1 \n",
    "    book_row = data[index, :]\n",
    "    similarity_values = np.zeros(shape=[data.shape[0]-1,2])\n",
    "    k=0\n",
    "    for i in range(data.shape[0]):\n",
    "        if i != index :\n",
    "            val = cosine_similarity(book_row, data[i, :])\n",
    "            similarity_values[k] = np.array([i, val])\n",
    "            k = k + 1\n",
    "            \n",
    "    sort_indices = np.argsort(-similarity_values[:, 1])\n",
    "    return sort_indices[:top_n]"
   ]
  },
  {
   "cell_type": "code",
   "execution_count": 29,
   "metadata": {},
   "outputs": [],
   "source": [
    "top_book_indices = top_cosine_similarity(Vt.T, 13, 4)\n",
    "similar_books = [books.values[x] for x in top_book_indices]\n",
    "similar_books = DataFrame(similar_books, columns=[\"book_id\", \"book_name\"])"
   ]
  },
  {
   "cell_type": "code",
   "execution_count": 30,
   "metadata": {},
   "outputs": [
    {
     "name": "stdout",
     "output_type": "stream",
     "text": [
      "Books similar to No Man's Landare:\n",
      "\n",
      "   book_id                                          book_name\n",
      "0       26  The Intelligent Investor: The Definitive Book ...\n",
      "1       20                                      No Man's Land\n",
      "2       23                                   The Last Goodbye\n",
      "3       20                                      No Man's Land\n"
     ]
    }
   ],
   "source": [
    "print(\"Books similar to \"+books.book_name[12]+\"are:\\n\")\n",
    "print(similar_books)"
   ]
  }
 ],
 "metadata": {
  "kernelspec": {
   "display_name": "Python 3",
   "language": "python",
   "name": "python3"
  },
  "language_info": {
   "codemirror_mode": {
    "name": "ipython",
    "version": 3
   },
   "file_extension": ".py",
   "mimetype": "text/x-python",
   "name": "python",
   "nbconvert_exporter": "python",
   "pygments_lexer": "ipython3",
   "version": "3.7.3"
  }
 },
 "nbformat": 4,
 "nbformat_minor": 4
}
